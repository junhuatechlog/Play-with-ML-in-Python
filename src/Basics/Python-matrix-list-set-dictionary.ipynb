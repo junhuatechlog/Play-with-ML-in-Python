{
 "cells": [
  {
   "cell_type": "markdown",
   "id": "3d708716-d3a6-42e5-aa72-ad1f6f3b4cfb",
   "metadata": {},
   "source": [
    "## List - from Machine Learning in Action 机器学习实战 by Peter Harrington"
   ]
  },
  {
   "cell_type": "code",
   "execution_count": 1,
   "id": "142809a4-7cce-4407-b7b0-3fb5e142f098",
   "metadata": {},
   "outputs": [],
   "source": [
    "jj = []"
   ]
  },
  {
   "cell_type": "code",
   "execution_count": 2,
   "id": "4c06983b-51e5-400b-8d11-8f0586af4732",
   "metadata": {},
   "outputs": [
    {
     "data": {
      "text/plain": [
       "[]"
      ]
     },
     "execution_count": 2,
     "metadata": {},
     "output_type": "execute_result"
    }
   ],
   "source": [
    "jj"
   ]
  },
  {
   "cell_type": "code",
   "execution_count": 3,
   "id": "5b28d3fb-eb47-4226-b7b7-2a2fa81d23ce",
   "metadata": {},
   "outputs": [],
   "source": [
    "jj.append(1)\n",
    "jj.append('zju')"
   ]
  },
  {
   "cell_type": "code",
   "execution_count": 4,
   "id": "d25c4f6d-8a3e-43bd-8d05-5b4249aaa2a7",
   "metadata": {},
   "outputs": [
    {
     "data": {
      "text/plain": [
       "[1, 'zju']"
      ]
     },
     "execution_count": 4,
     "metadata": {},
     "output_type": "execute_result"
    }
   ],
   "source": [
    "jj"
   ]
  },
  {
   "cell_type": "code",
   "execution_count": 5,
   "id": "1e511ea8-b016-43cd-a2d1-b5ef6550bd30",
   "metadata": {},
   "outputs": [],
   "source": [
    "jj.append(\"nice hat\")"
   ]
  },
  {
   "cell_type": "code",
   "execution_count": 6,
   "id": "652eaf15-4f94-4bde-89b5-472464ca3b3c",
   "metadata": {},
   "outputs": [
    {
     "data": {
      "text/plain": [
       "[1, 'zju', 'nice hat']"
      ]
     },
     "execution_count": 6,
     "metadata": {},
     "output_type": "execute_result"
    }
   ],
   "source": [
    "jj"
   ]
  },
  {
   "cell_type": "code",
   "execution_count": 8,
   "id": "10387f85-0185-450a-a7a8-908db7de0300",
   "metadata": {},
   "outputs": [
    {
     "data": {
      "text/plain": [
       "3"
      ]
     },
     "execution_count": 8,
     "metadata": {},
     "output_type": "execute_result"
    }
   ],
   "source": [
    "len(jj)\n"
   ]
  },
  {
   "cell_type": "markdown",
   "id": "1df2cae1-b3ad-474f-81ef-060e1aa4721f",
   "metadata": {},
   "source": [
    "## Dictonary 字典"
   ]
  },
  {
   "cell_type": "code",
   "execution_count": 9,
   "id": "79a60b76-9f35-4f67-b0aa-1015a2a1e542",
   "metadata": {},
   "outputs": [],
   "source": [
    "jj = {}\n",
    "jj['dog'] = 'dalmatian'"
   ]
  },
  {
   "cell_type": "code",
   "execution_count": 10,
   "id": "2e76b845-13f3-4bde-bfa3-b9bc409c27cb",
   "metadata": {},
   "outputs": [
    {
     "data": {
      "text/plain": [
       "{'dog': 'dalmatian'}"
      ]
     },
     "execution_count": 10,
     "metadata": {},
     "output_type": "execute_result"
    }
   ],
   "source": [
    "jj"
   ]
  },
  {
   "cell_type": "code",
   "execution_count": 11,
   "id": "549b36e6-2c30-40dd-860d-3b94aed3ed00",
   "metadata": {},
   "outputs": [],
   "source": [
    "jj[1] = 'ZJTU'"
   ]
  },
  {
   "cell_type": "code",
   "execution_count": 12,
   "id": "85808e3b-ecd1-4f63-83fe-324aa811222c",
   "metadata": {},
   "outputs": [
    {
     "data": {
      "text/plain": [
       "{'dog': 'dalmatian', 1: 'ZJTU'}"
      ]
     },
     "execution_count": 12,
     "metadata": {},
     "output_type": "execute_result"
    }
   ],
   "source": [
    "jj"
   ]
  },
  {
   "cell_type": "code",
   "execution_count": 13,
   "id": "0c1eb453-17ba-4d7f-bfd6-5bc70e78e6e1",
   "metadata": {},
   "outputs": [],
   "source": [
    "jj['1'] = 42"
   ]
  },
  {
   "cell_type": "code",
   "execution_count": 14,
   "id": "b5113256-732b-4894-927a-c62af939e37c",
   "metadata": {},
   "outputs": [
    {
     "data": {
      "text/plain": [
       "{'dog': 'dalmatian', 1: 'ZJTU', '1': 42}"
      ]
     },
     "execution_count": 14,
     "metadata": {},
     "output_type": "execute_result"
    }
   ],
   "source": [
    "jj"
   ]
  },
  {
   "cell_type": "markdown",
   "id": "c66d504a-1313-479e-96ee-7309febf81c5",
   "metadata": {},
   "source": [
    "## Set 集合"
   ]
  },
  {
   "cell_type": "code",
   "execution_count": 15,
   "id": "03245c02-dc0d-429f-ba8a-171b907eec96",
   "metadata": {},
   "outputs": [],
   "source": [
    "a = [1, 2, 2, 2, 4, 5, 5]"
   ]
  },
  {
   "cell_type": "code",
   "execution_count": 16,
   "id": "c4b0e5fb-b59d-4fdc-91a7-debe6fd83808",
   "metadata": {},
   "outputs": [
    {
     "data": {
      "text/plain": [
       "[1, 2, 2, 2, 4, 5, 5]"
      ]
     },
     "execution_count": 16,
     "metadata": {},
     "output_type": "execute_result"
    }
   ],
   "source": [
    "a"
   ]
  },
  {
   "cell_type": "code",
   "execution_count": 17,
   "id": "40643cfd-9b66-40a0-a140-21875c60b872",
   "metadata": {},
   "outputs": [
    {
     "data": {
      "text/plain": [
       "{1, 2, 4, 5}"
      ]
     },
     "execution_count": 17,
     "metadata": {},
     "output_type": "execute_result"
    }
   ],
   "source": [
    "set(a)"
   ]
  },
  {
   "cell_type": "code",
   "execution_count": 18,
   "id": "e5e2dc5a-cf6d-44d7-a686-4e0dd397830f",
   "metadata": {},
   "outputs": [],
   "source": [
    "sA = set(a)\n"
   ]
  },
  {
   "cell_type": "code",
   "execution_count": 19,
   "id": "73c8df86-6622-4606-9e22-a69bed694b8d",
   "metadata": {},
   "outputs": [
    {
     "data": {
      "text/plain": [
       "{1, 2, 4, 5}"
      ]
     },
     "execution_count": 19,
     "metadata": {},
     "output_type": "execute_result"
    }
   ],
   "source": [
    "sA"
   ]
  },
  {
   "cell_type": "code",
   "execution_count": 20,
   "id": "de556057-dc0e-45cc-8688-1f85849fd0e6",
   "metadata": {},
   "outputs": [],
   "source": [
    "sB = set([4, 5, 6, 7, 7])"
   ]
  },
  {
   "cell_type": "code",
   "execution_count": 21,
   "id": "53680c2e-3b65-449d-b983-a3243084e318",
   "metadata": {},
   "outputs": [
    {
     "data": {
      "text/plain": [
       "{4, 5, 6, 7}"
      ]
     },
     "execution_count": 21,
     "metadata": {},
     "output_type": "execute_result"
    }
   ],
   "source": [
    "sB"
   ]
  },
  {
   "cell_type": "code",
   "execution_count": 22,
   "id": "5f91cc36-20b3-415f-908f-08b490178c36",
   "metadata": {},
   "outputs": [
    {
     "data": {
      "text/plain": [
       "{1, 2}"
      ]
     },
     "execution_count": 22,
     "metadata": {},
     "output_type": "execute_result"
    }
   ],
   "source": [
    "sA - sB"
   ]
  },
  {
   "cell_type": "code",
   "execution_count": 23,
   "id": "d816d465-7643-4c18-8120-4284553cbc34",
   "metadata": {},
   "outputs": [
    {
     "data": {
      "text/plain": [
       "{1, 2, 4, 5, 6, 7}"
      ]
     },
     "execution_count": 23,
     "metadata": {},
     "output_type": "execute_result"
    }
   ],
   "source": [
    "sA | sB"
   ]
  },
  {
   "cell_type": "code",
   "execution_count": 24,
   "id": "6766826f-7d3e-42cf-86e5-aebb6abc40ae",
   "metadata": {},
   "outputs": [
    {
     "ename": "TypeError",
     "evalue": "unsupported operand type(s) for +: 'set' and 'set'",
     "output_type": "error",
     "traceback": [
      "\u001b[1;31m---------------------------------------------------------------------------\u001b[0m",
      "\u001b[1;31mTypeError\u001b[0m                                 Traceback (most recent call last)",
      "Cell \u001b[1;32mIn[24], line 1\u001b[0m\n\u001b[1;32m----> 1\u001b[0m sA \u001b[38;5;241m+\u001b[39m sB\n",
      "\u001b[1;31mTypeError\u001b[0m: unsupported operand type(s) for +: 'set' and 'set'"
     ]
    }
   ],
   "source": [
    "sA + sB"
   ]
  },
  {
   "cell_type": "code",
   "execution_count": 25,
   "id": "efcacc44-5624-4d05-b47d-a9b390ea45ff",
   "metadata": {},
   "outputs": [
    {
     "data": {
      "text/plain": [
       "{4, 5}"
      ]
     },
     "execution_count": 25,
     "metadata": {},
     "output_type": "execute_result"
    }
   ],
   "source": [
    "sA & sB"
   ]
  },
  {
   "cell_type": "markdown",
   "id": "e08a4ef9-42dd-48d3-ab91-b2b29bfef504",
   "metadata": {},
   "source": [
    "## 列表推导式 list Comprehension"
   ]
  },
  {
   "cell_type": "code",
   "execution_count": 27,
   "id": "f62c9c35-7048-4abc-a4f1-2108d5bbc914",
   "metadata": {},
   "outputs": [],
   "source": [
    "a = [1, 2, 3, 4, 5, 5]\n",
    "myList = [item * 4 for item in a]"
   ]
  },
  {
   "cell_type": "code",
   "execution_count": 28,
   "id": "306a78c0-8dcf-4457-8db3-6e15ff807f83",
   "metadata": {},
   "outputs": [
    {
     "data": {
      "text/plain": [
       "[4, 8, 12, 16, 20, 20]"
      ]
     },
     "execution_count": 28,
     "metadata": {},
     "output_type": "execute_result"
    }
   ],
   "source": [
    "myList"
   ]
  },
  {
   "cell_type": "code",
   "execution_count": 29,
   "id": "925f127b-325a-4fee-88c6-20875d6eeb81",
   "metadata": {},
   "outputs": [],
   "source": [
    "myList = []\n",
    "for item in a:\n",
    "    myList.append(item * 4)\n",
    "\n"
   ]
  },
  {
   "cell_type": "code",
   "execution_count": 30,
   "id": "7cd233da-078d-44d3-9b7a-7277848f355b",
   "metadata": {},
   "outputs": [
    {
     "data": {
      "text/plain": [
       "[4, 8, 12, 16, 20, 20]"
      ]
     },
     "execution_count": 30,
     "metadata": {},
     "output_type": "execute_result"
    }
   ],
   "source": [
    "myList"
   ]
  },
  {
   "cell_type": "code",
   "execution_count": 32,
   "id": "9cdc6d06-b9af-486d-a465-5ce921d58b3c",
   "metadata": {},
   "outputs": [],
   "source": [
    "myList = [item * 4 for item in a if item > 2]"
   ]
  },
  {
   "cell_type": "code",
   "execution_count": null,
   "id": "99a59aa9-048e-4078-8aaf-aa32d108103f",
   "metadata": {},
   "outputs": [],
   "source": []
  },
  {
   "cell_type": "code",
   "execution_count": 33,
   "id": "2c38bafc-a324-4409-94a7-eb8a15c436f7",
   "metadata": {},
   "outputs": [
    {
     "data": {
      "text/plain": [
       "[12, 16, 20, 20]"
      ]
     },
     "execution_count": 33,
     "metadata": {},
     "output_type": "execute_result"
    }
   ],
   "source": [
    "myList\n"
   ]
  },
  {
   "cell_type": "code",
   "execution_count": 34,
   "id": "f287ed8b-609d-4393-b0f2-f84f28c898e7",
   "metadata": {},
   "outputs": [
    {
     "data": {
      "text/plain": [
       "4"
      ]
     },
     "execution_count": 34,
     "metadata": {},
     "output_type": "execute_result"
    }
   ],
   "source": [
    "len(myList)\n"
   ]
  },
  {
   "cell_type": "markdown",
   "id": "e318d92c-a5b5-46e7-a2e0-72de0aa7d650",
   "metadata": {},
   "source": [
    "# NumPy快速入门"
   ]
  },
  {
   "cell_type": "code",
   "execution_count": 36,
   "id": "e2d6e417-bd42-4714-8901-d25e31307919",
   "metadata": {},
   "outputs": [
    {
     "data": {
      "text/plain": [
       "array([2, 3, 4])"
      ]
     },
     "execution_count": 36,
     "metadata": {},
     "output_type": "execute_result"
    }
   ],
   "source": [
    "from numpy import array\n",
    "mm = array((1, 1, 1))\n",
    "pp = array((1, 2, 3))\n",
    "mm + pp"
   ]
  },
  {
   "cell_type": "code",
   "execution_count": 37,
   "id": "ae34b30e-8ece-4778-b7db-9d5361b65fc9",
   "metadata": {},
   "outputs": [
    {
     "data": {
      "text/plain": [
       "array([2, 4, 6])"
      ]
     },
     "execution_count": 37,
     "metadata": {},
     "output_type": "execute_result"
    }
   ],
   "source": [
    "pp * 2"
   ]
  },
  {
   "cell_type": "code",
   "execution_count": 38,
   "id": "f5c27ff1-ce14-4ec5-9fcc-e70d3057bd32",
   "metadata": {},
   "outputs": [
    {
     "data": {
      "text/plain": [
       "array([1, 4, 9])"
      ]
     },
     "execution_count": 38,
     "metadata": {},
     "output_type": "execute_result"
    }
   ],
   "source": [
    "pp ** 2"
   ]
  },
  {
   "cell_type": "code",
   "execution_count": 39,
   "id": "9fa43efa-6d69-4bdc-a63c-d6e16503fd06",
   "metadata": {},
   "outputs": [
    {
     "data": {
      "text/plain": [
       "2"
      ]
     },
     "execution_count": 39,
     "metadata": {},
     "output_type": "execute_result"
    }
   ],
   "source": [
    "pp[1]"
   ]
  },
  {
   "cell_type": "code",
   "execution_count": 41,
   "id": "0968014e-90ac-4111-b436-eccbb9b43a86",
   "metadata": {},
   "outputs": [],
   "source": [
    "jj  = array(([1, 2, 3], [1, 1, 1]))"
   ]
  },
  {
   "cell_type": "code",
   "execution_count": 42,
   "id": "f81b7596-7885-429b-b49b-cd7e1d59cd0d",
   "metadata": {},
   "outputs": [
    {
     "data": {
      "text/plain": [
       "array([[1, 2, 3],\n",
       "       [1, 1, 1]])"
      ]
     },
     "execution_count": 42,
     "metadata": {},
     "output_type": "execute_result"
    }
   ],
   "source": [
    "jj\n"
   ]
  },
  {
   "cell_type": "code",
   "execution_count": 43,
   "id": "d48ce84f-095b-4f5d-a775-80032a9b56f1",
   "metadata": {},
   "outputs": [
    {
     "data": {
      "text/plain": [
       "(2, 3)"
      ]
     },
     "execution_count": 43,
     "metadata": {},
     "output_type": "execute_result"
    }
   ],
   "source": [
    "jj.shape"
   ]
  },
  {
   "cell_type": "code",
   "execution_count": 44,
   "id": "e46c3ed0-1b29-424b-965a-d4aaf4d172bf",
   "metadata": {},
   "outputs": [
    {
     "data": {
      "text/plain": [
       "array([1, 2, 3])"
      ]
     },
     "execution_count": 44,
     "metadata": {},
     "output_type": "execute_result"
    }
   ],
   "source": [
    "jj[0]"
   ]
  },
  {
   "cell_type": "code",
   "execution_count": 45,
   "id": "15c2007f-46a3-477e-bf6f-14ff84dd7458",
   "metadata": {},
   "outputs": [
    {
     "data": {
      "text/plain": [
       "array([1, 1, 1])"
      ]
     },
     "execution_count": 45,
     "metadata": {},
     "output_type": "execute_result"
    }
   ],
   "source": [
    "jj[1]"
   ]
  },
  {
   "cell_type": "code",
   "execution_count": 46,
   "id": "e17eefa0-9549-4ca1-b211-2e38237d3672",
   "metadata": {},
   "outputs": [
    {
     "ename": "SyntaxError",
     "evalue": "invalid syntax (1762782337.py, line 1)",
     "output_type": "error",
     "traceback": [
      "\u001b[1;36m  Cell \u001b[1;32mIn[46], line 1\u001b[1;36m\u001b[0m\n\u001b[1;33m    jj[, 0]\u001b[0m\n\u001b[1;37m       ^\u001b[0m\n\u001b[1;31mSyntaxError\u001b[0m\u001b[1;31m:\u001b[0m invalid syntax\n"
     ]
    }
   ],
   "source": [
    "jj[, 0]"
   ]
  },
  {
   "cell_type": "code",
   "execution_count": 47,
   "id": "aa3ce647-3a8d-4444-8d81-f7e821ef02ec",
   "metadata": {},
   "outputs": [
    {
     "ename": "SyntaxError",
     "evalue": "invalid syntax (2447483243.py, line 1)",
     "output_type": "error",
     "traceback": [
      "\u001b[1;36m  Cell \u001b[1;32mIn[47], line 1\u001b[1;36m\u001b[0m\n\u001b[1;33m    jj[, 1]\u001b[0m\n\u001b[1;37m       ^\u001b[0m\n\u001b[1;31mSyntaxError\u001b[0m\u001b[1;31m:\u001b[0m invalid syntax\n"
     ]
    }
   ],
   "source": [
    "jj[, 1]"
   ]
  },
  {
   "cell_type": "code",
   "execution_count": 48,
   "id": "ea7509fc-1ad4-40d8-b42a-60965146b39e",
   "metadata": {},
   "outputs": [
    {
     "data": {
      "text/plain": [
       "2"
      ]
     },
     "execution_count": 48,
     "metadata": {},
     "output_type": "execute_result"
    }
   ],
   "source": [
    "jj[0, 1]"
   ]
  },
  {
   "cell_type": "code",
   "execution_count": 49,
   "id": "23f26736-9466-4be9-aaeb-15e06307eac6",
   "metadata": {},
   "outputs": [
    {
     "data": {
      "text/plain": [
       "3"
      ]
     },
     "execution_count": 49,
     "metadata": {},
     "output_type": "execute_result"
    }
   ],
   "source": [
    "jj[0, 2]"
   ]
  },
  {
   "cell_type": "code",
   "execution_count": 50,
   "id": "c017d3a1-9924-43ec-9dc6-35695beb9de7",
   "metadata": {},
   "outputs": [],
   "source": [
    "a1 = array([1, 2, 3])\n",
    "a2 = array([0.3, 0.2, 0.3])"
   ]
  },
  {
   "cell_type": "code",
   "execution_count": 51,
   "id": "20f038f5-65f6-4756-a6fe-140ef7657b3e",
   "metadata": {},
   "outputs": [
    {
     "data": {
      "text/plain": [
       "array([0.3, 0.4, 0.9])"
      ]
     },
     "execution_count": 51,
     "metadata": {},
     "output_type": "execute_result"
    }
   ],
   "source": [
    "a1 * a2"
   ]
  },
  {
   "cell_type": "markdown",
   "id": "308f32e3-ea5e-4f9d-b77e-0d26f77ab362",
   "metadata": {},
   "source": [
    "## 矩阵操作"
   ]
  },
  {
   "cell_type": "code",
   "execution_count": 54,
   "id": "d79aa6fc-2fb1-49c1-b8fa-1eb9e2456181",
   "metadata": {},
   "outputs": [],
   "source": [
    "from numpy import mat, matrix"
   ]
  },
  {
   "cell_type": "code",
   "execution_count": 55,
   "id": "e61d5adb-96ac-464f-aa1e-407f96e3ec89",
   "metadata": {},
   "outputs": [],
   "source": [
    "ss = mat([1, 2, 3])"
   ]
  },
  {
   "cell_type": "code",
   "execution_count": 56,
   "id": "f21f8f2d-0892-4b37-b19d-e14d3c7ab625",
   "metadata": {},
   "outputs": [
    {
     "data": {
      "text/plain": [
       "matrix([[1, 2, 3]])"
      ]
     },
     "execution_count": 56,
     "metadata": {},
     "output_type": "execute_result"
    }
   ],
   "source": [
    "ss"
   ]
  },
  {
   "cell_type": "code",
   "execution_count": 58,
   "id": "5811b0b4-c573-4b65-9c5f-4945f305be90",
   "metadata": {},
   "outputs": [],
   "source": [
    "mm = matrix([1, 2, 3])"
   ]
  },
  {
   "cell_type": "code",
   "execution_count": 59,
   "id": "f566b414-6b53-47d0-b15d-269681d86230",
   "metadata": {},
   "outputs": [
    {
     "data": {
      "text/plain": [
       "matrix([[1, 2, 3]])"
      ]
     },
     "execution_count": 59,
     "metadata": {},
     "output_type": "execute_result"
    }
   ],
   "source": [
    "mm"
   ]
  },
  {
   "cell_type": "code",
   "execution_count": 60,
   "id": "b770e4b5-1ff7-45a1-bd1b-6eb4db5c889a",
   "metadata": {},
   "outputs": [
    {
     "data": {
      "text/plain": [
       "matrix([[2, 4, 6]])"
      ]
     },
     "execution_count": 60,
     "metadata": {},
     "output_type": "execute_result"
    }
   ],
   "source": [
    "ss+mm"
   ]
  },
  {
   "cell_type": "code",
   "execution_count": 61,
   "id": "8f3978ce-7556-43cc-b3e1-7a5ff11f9f78",
   "metadata": {},
   "outputs": [
    {
     "data": {
      "text/plain": [
       "2"
      ]
     },
     "execution_count": 61,
     "metadata": {},
     "output_type": "execute_result"
    }
   ],
   "source": [
    "mm[0, 1]"
   ]
  },
  {
   "cell_type": "code",
   "execution_count": 62,
   "id": "8da5390c-06c7-46b5-aa3e-212d131d685e",
   "metadata": {},
   "outputs": [],
   "source": [
    "pyList = [5, 11, 16051]"
   ]
  },
  {
   "cell_type": "code",
   "execution_count": 63,
   "id": "409626e2-374d-4018-b30d-5d7b9736ccc6",
   "metadata": {},
   "outputs": [
    {
     "data": {
      "text/plain": [
       "[5, 11, 16051]"
      ]
     },
     "execution_count": 63,
     "metadata": {},
     "output_type": "execute_result"
    }
   ],
   "source": [
    "pyList"
   ]
  },
  {
   "cell_type": "code",
   "execution_count": 64,
   "id": "9d4c3056-fde3-454d-b784-9b0458b6389e",
   "metadata": {},
   "outputs": [
    {
     "data": {
      "text/plain": [
       "matrix([[    5,    11, 16051]])"
      ]
     },
     "execution_count": 64,
     "metadata": {},
     "output_type": "execute_result"
    }
   ],
   "source": [
    "mat(pyList)\n"
   ]
  },
  {
   "cell_type": "code",
   "execution_count": 65,
   "id": "d461b1e4-2356-4446-887e-b38b2fd836a6",
   "metadata": {},
   "outputs": [
    {
     "ename": "ValueError",
     "evalue": "shapes (1,3) and (1,3) not aligned: 3 (dim 1) != 1 (dim 0)",
     "output_type": "error",
     "traceback": [
      "\u001b[1;31m---------------------------------------------------------------------------\u001b[0m",
      "\u001b[1;31mValueError\u001b[0m                                Traceback (most recent call last)",
      "Cell \u001b[1;32mIn[65], line 1\u001b[0m\n\u001b[1;32m----> 1\u001b[0m mm\u001b[38;5;241m*\u001b[39mss\n",
      "File \u001b[1;32m~\\AppData\\Local\\anaconda3\\Lib\\site-packages\\numpy\\matrixlib\\defmatrix.py:219\u001b[0m, in \u001b[0;36mmatrix.__mul__\u001b[1;34m(self, other)\u001b[0m\n\u001b[0;32m    216\u001b[0m \u001b[38;5;28;01mdef\u001b[39;00m \u001b[38;5;21m__mul__\u001b[39m(\u001b[38;5;28mself\u001b[39m, other):\n\u001b[0;32m    217\u001b[0m     \u001b[38;5;28;01mif\u001b[39;00m \u001b[38;5;28misinstance\u001b[39m(other, (N\u001b[38;5;241m.\u001b[39mndarray, \u001b[38;5;28mlist\u001b[39m, \u001b[38;5;28mtuple\u001b[39m)) :\n\u001b[0;32m    218\u001b[0m         \u001b[38;5;66;03m# This promotes 1-D vectors to row vectors\u001b[39;00m\n\u001b[1;32m--> 219\u001b[0m         \u001b[38;5;28;01mreturn\u001b[39;00m N\u001b[38;5;241m.\u001b[39mdot(\u001b[38;5;28mself\u001b[39m, asmatrix(other))\n\u001b[0;32m    220\u001b[0m     \u001b[38;5;28;01mif\u001b[39;00m isscalar(other) \u001b[38;5;129;01mor\u001b[39;00m \u001b[38;5;129;01mnot\u001b[39;00m \u001b[38;5;28mhasattr\u001b[39m(other, \u001b[38;5;124m'\u001b[39m\u001b[38;5;124m__rmul__\u001b[39m\u001b[38;5;124m'\u001b[39m) :\n\u001b[0;32m    221\u001b[0m         \u001b[38;5;28;01mreturn\u001b[39;00m N\u001b[38;5;241m.\u001b[39mdot(\u001b[38;5;28mself\u001b[39m, other)\n",
      "\u001b[1;31mValueError\u001b[0m: shapes (1,3) and (1,3) not aligned: 3 (dim 1) != 1 (dim 0)"
     ]
    }
   ],
   "source": [
    "mm*ss"
   ]
  },
  {
   "cell_type": "code",
   "execution_count": 66,
   "id": "f717393e-56da-411c-8bf6-32f5136f0500",
   "metadata": {},
   "outputs": [
    {
     "data": {
      "text/plain": [
       "matrix([[14]])"
      ]
     },
     "execution_count": 66,
     "metadata": {},
     "output_type": "execute_result"
    }
   ],
   "source": [
    "mm*ss.T"
   ]
  },
  {
   "cell_type": "code",
   "execution_count": 67,
   "id": "9dd3de0c-dfeb-466b-b9d7-665344da74b5",
   "metadata": {},
   "outputs": [
    {
     "data": {
      "text/plain": [
       "(1, 3)"
      ]
     },
     "execution_count": 67,
     "metadata": {},
     "output_type": "execute_result"
    }
   ],
   "source": [
    "mm.shape"
   ]
  },
  {
   "cell_type": "code",
   "execution_count": 68,
   "id": "02404407-9f42-4417-81c9-ab1ca6156628",
   "metadata": {},
   "outputs": [
    {
     "ename": "NameError",
     "evalue": "name 'shape' is not defined",
     "output_type": "error",
     "traceback": [
      "\u001b[1;31m---------------------------------------------------------------------------\u001b[0m",
      "\u001b[1;31mNameError\u001b[0m                                 Traceback (most recent call last)",
      "Cell \u001b[1;32mIn[68], line 1\u001b[0m\n\u001b[1;32m----> 1\u001b[0m shape(mm)\n",
      "\u001b[1;31mNameError\u001b[0m: name 'shape' is not defined"
     ]
    }
   ],
   "source": [
    "shape(mm)"
   ]
  },
  {
   "cell_type": "code",
   "execution_count": 69,
   "id": "e1c2fbd9-fe11-4b25-83ff-d64633c4a750",
   "metadata": {},
   "outputs": [],
   "source": [
    "from numpy import shape"
   ]
  },
  {
   "cell_type": "code",
   "execution_count": 70,
   "id": "9cdd27cd-86da-4649-8fc4-4fee6d313fe3",
   "metadata": {},
   "outputs": [
    {
     "data": {
      "text/plain": [
       "(1, 3)"
      ]
     },
     "execution_count": 70,
     "metadata": {},
     "output_type": "execute_result"
    }
   ],
   "source": [
    "shape(mm)\n"
   ]
  },
  {
   "cell_type": "code",
   "execution_count": 71,
   "id": "56ac6ad7-3873-4367-9617-c3775dc3f847",
   "metadata": {},
   "outputs": [
    {
     "data": {
      "text/plain": [
       "(3, 1)"
      ]
     },
     "execution_count": 71,
     "metadata": {},
     "output_type": "execute_result"
    }
   ],
   "source": [
    "shape(mm.T)"
   ]
  },
  {
   "cell_type": "code",
   "execution_count": 72,
   "id": "89efe236-ca08-412b-99c3-e6bf890b2002",
   "metadata": {},
   "outputs": [],
   "source": [
    "from numpy import multiply"
   ]
  },
  {
   "cell_type": "code",
   "execution_count": 73,
   "id": "aec55864-38c8-4404-b63b-c9398c472dac",
   "metadata": {},
   "outputs": [
    {
     "data": {
      "text/plain": [
       "matrix([[1, 4, 9]])"
      ]
     },
     "execution_count": 73,
     "metadata": {},
     "output_type": "execute_result"
    }
   ],
   "source": [
    "multiply(mm, ss)\n"
   ]
  },
  {
   "cell_type": "code",
   "execution_count": 74,
   "id": "2189f9dd-b03c-41db-adb0-c169e3c69a10",
   "metadata": {},
   "outputs": [],
   "source": [
    "dd = matrix([4, 5, 1])"
   ]
  },
  {
   "cell_type": "code",
   "execution_count": 75,
   "id": "3c3a3419-78e3-4537-8103-cbf5bfe573ae",
   "metadata": {},
   "outputs": [
    {
     "data": {
      "text/plain": [
       "<function matrix.sort>"
      ]
     },
     "execution_count": 75,
     "metadata": {},
     "output_type": "execute_result"
    }
   ],
   "source": [
    "dd.sort"
   ]
  },
  {
   "cell_type": "code",
   "execution_count": 76,
   "id": "30522a95-fd22-4ac7-86f0-078df23be94d",
   "metadata": {},
   "outputs": [],
   "source": [
    "dd.sort()\n"
   ]
  },
  {
   "cell_type": "code",
   "execution_count": 77,
   "id": "ee61c7bf-3b3c-463b-bf53-9349560a6023",
   "metadata": {},
   "outputs": [
    {
     "data": {
      "text/plain": [
       "matrix([[1, 4, 5]])"
      ]
     },
     "execution_count": 77,
     "metadata": {},
     "output_type": "execute_result"
    }
   ],
   "source": [
    "dd"
   ]
  },
  {
   "cell_type": "code",
   "execution_count": 78,
   "id": "8de6fbc0-b61f-4aeb-baf2-718e5feda0c4",
   "metadata": {},
   "outputs": [],
   "source": [
    "dd = matrix([4, 5, 1, 9, 7])"
   ]
  },
  {
   "cell_type": "code",
   "execution_count": 79,
   "id": "0d8a4d8d-10bb-486a-9140-bd482a5d06e7",
   "metadata": {},
   "outputs": [
    {
     "data": {
      "text/plain": [
       "matrix([[2, 0, 1, 4, 3]], dtype=int64)"
      ]
     },
     "execution_count": 79,
     "metadata": {},
     "output_type": "execute_result"
    }
   ],
   "source": [
    "dd.argsort()"
   ]
  },
  {
   "cell_type": "code",
   "execution_count": 80,
   "id": "2ef52444-348d-49c6-befc-1b9c6e39bb43",
   "metadata": {},
   "outputs": [
    {
     "data": {
      "text/plain": [
       "matrix([[4, 5, 1, 9, 7]])"
      ]
     },
     "execution_count": 80,
     "metadata": {},
     "output_type": "execute_result"
    }
   ],
   "source": [
    "dd"
   ]
  },
  {
   "cell_type": "code",
   "execution_count": 81,
   "id": "58cfa8c4-f74a-480d-81b8-0b417f09caf3",
   "metadata": {},
   "outputs": [
    {
     "data": {
      "text/plain": [
       "5.2"
      ]
     },
     "execution_count": 81,
     "metadata": {},
     "output_type": "execute_result"
    }
   ],
   "source": [
    "dd.mean()"
   ]
  },
  {
   "cell_type": "code",
   "execution_count": 82,
   "id": "d4e8f3dc-8baa-4534-8151-ce5df52ce15e",
   "metadata": {},
   "outputs": [
    {
     "data": {
      "text/plain": [
       "array([[1, 2, 3],\n",
       "       [1, 1, 1]])"
      ]
     },
     "execution_count": 82,
     "metadata": {},
     "output_type": "execute_result"
    }
   ],
   "source": [
    "jj"
   ]
  },
  {
   "cell_type": "markdown",
   "id": "bde07098-76aa-463e-af18-b7fbda0feec6",
   "metadata": {},
   "source": [
    "## 获取矩阵某一列\n"
   ]
  },
  {
   "cell_type": "code",
   "execution_count": 84,
   "id": "bf3bcc37-619f-4f1b-ab1f-ff48c79189a7",
   "metadata": {},
   "outputs": [
    {
     "data": {
      "text/plain": [
       "array([2, 1])"
      ]
     },
     "execution_count": 84,
     "metadata": {},
     "output_type": "execute_result"
    }
   ],
   "source": [
    "jj[:,1]"
   ]
  },
  {
   "cell_type": "code",
   "execution_count": null,
   "id": "3f9084ab-a175-463e-bc46-d1e687f76767",
   "metadata": {},
   "outputs": [],
   "source": []
  },
  {
   "cell_type": "code",
   "execution_count": 85,
   "id": "6e8ee5dc-4345-4648-b803-ad2ee5c972a8",
   "metadata": {},
   "outputs": [
    {
     "data": {
      "text/plain": [
       "array([[1, 2, 3],\n",
       "       [1, 1, 1]])"
      ]
     },
     "execution_count": 85,
     "metadata": {},
     "output_type": "execute_result"
    }
   ],
   "source": [
    "jj[:, :]"
   ]
  },
  {
   "cell_type": "code",
   "execution_count": 86,
   "id": "07849b96-e9ba-4f13-a449-e309eac4650b",
   "metadata": {},
   "outputs": [
    {
     "data": {
      "text/plain": [
       "array([1, 1])"
      ]
     },
     "execution_count": 86,
     "metadata": {},
     "output_type": "execute_result"
    }
   ],
   "source": [
    "jj[:, 0]"
   ]
  },
  {
   "cell_type": "code",
   "execution_count": 87,
   "id": "55c9ceea-7d2f-414f-b504-00a85dc44ff5",
   "metadata": {},
   "outputs": [
    {
     "data": {
      "text/plain": [
       "array([3, 1])"
      ]
     },
     "execution_count": 87,
     "metadata": {},
     "output_type": "execute_result"
    }
   ],
   "source": [
    "jj[:, 2]"
   ]
  },
  {
   "cell_type": "code",
   "execution_count": null,
   "id": "8955e4dc-05c3-49cf-90bb-7aea63243675",
   "metadata": {},
   "outputs": [],
   "source": []
  }
 ],
 "metadata": {
  "kernelspec": {
   "display_name": "Python 3 (ipykernel)",
   "language": "python",
   "name": "python3"
  },
  "language_info": {
   "codemirror_mode": {
    "name": "ipython",
    "version": 3
   },
   "file_extension": ".py",
   "mimetype": "text/x-python",
   "name": "python",
   "nbconvert_exporter": "python",
   "pygments_lexer": "ipython3",
   "version": "3.11.7"
  }
 },
 "nbformat": 4,
 "nbformat_minor": 5
}
