{
 "cells": [
  {
   "cell_type": "code",
   "execution_count": 1,
   "id": "6a2e9281-23d7-4144-afe2-2f8ccb4fa320",
   "metadata": {},
   "outputs": [],
   "source": [
    "import numpy as np\n",
    "import matplotlib\n",
    "import matplotlib.pyplot as plt\n",
    "from sklearn import datasets\n",
    "\n"
   ]
  },
  {
   "cell_type": "code",
   "execution_count": 2,
   "id": "335891ae-c5e1-4016-bbe4-9c91509e9f3c",
   "metadata": {},
   "outputs": [],
   "source": [
    "import playML"
   ]
  },
  {
   "cell_type": "code",
   "execution_count": 3,
   "id": "a5e503db-1187-46f9-bd5f-20ef4c8088dc",
   "metadata": {},
   "outputs": [
    {
     "data": {
      "text/plain": [
       "['__builtins__',\n",
       " '__cached__',\n",
       " '__doc__',\n",
       " '__file__',\n",
       " '__loader__',\n",
       " '__name__',\n",
       " '__package__',\n",
       " '__path__',\n",
       " '__spec__']"
      ]
     },
     "execution_count": 3,
     "metadata": {},
     "output_type": "execute_result"
    }
   ],
   "source": [
    "import playML\n",
    "dir(playML)"
   ]
  },
  {
   "cell_type": "code",
   "execution_count": 4,
   "id": "32f61e72-88f2-4b76-8af0-16045ecd2b93",
   "metadata": {},
   "outputs": [],
   "source": [
    "from playML import *"
   ]
  },
  {
   "cell_type": "code",
   "execution_count": 5,
   "id": "47085f7d-d093-4eeb-b084-0de4898cfc59",
   "metadata": {},
   "outputs": [
    {
     "data": {
      "text/plain": [
       "['__builtins__',\n",
       " '__cached__',\n",
       " '__doc__',\n",
       " '__file__',\n",
       " '__loader__',\n",
       " '__name__',\n",
       " '__package__',\n",
       " '__path__',\n",
       " '__spec__']"
      ]
     },
     "execution_count": 5,
     "metadata": {},
     "output_type": "execute_result"
    }
   ],
   "source": [
    "dir(playML)"
   ]
  },
  {
   "cell_type": "code",
   "execution_count": 6,
   "id": "fcf2ab89-01c5-4306-8bde-18a4f4a2968f",
   "metadata": {},
   "outputs": [],
   "source": [
    "from playML import model_selection"
   ]
  },
  {
   "cell_type": "code",
   "execution_count": 9,
   "id": "bbbd0158-9d3e-4451-bb80-3baf2db59708",
   "metadata": {},
   "outputs": [],
   "source": [
    "from playML import kNN_function"
   ]
  },
  {
   "cell_type": "code",
   "execution_count": 11,
   "id": "f9ea6f79-5a7e-4e0e-96a7-43e45a863ab6",
   "metadata": {},
   "outputs": [
    {
     "data": {
      "text/plain": [
       "<module 'playML.kNN_function' from 'C:\\\\N-20KEPC0Y7KFA-Data\\\\junhuawa\\\\Documents\\\\Play-with-ML-in-Python\\\\src\\\\04-kNN\\\\playML\\\\kNN_function.py'>"
      ]
     },
     "execution_count": 11,
     "metadata": {},
     "output_type": "execute_result"
    }
   ],
   "source": [
    "kNN_function"
   ]
  },
  {
   "cell_type": "code",
   "execution_count": 13,
   "id": "fb0656de-62b2-409a-9f0d-ec3a2e624b86",
   "metadata": {},
   "outputs": [
    {
     "data": {
      "text/plain": [
       "['Counter',\n",
       " 'KNNClassifier',\n",
       " '__builtins__',\n",
       " '__cached__',\n",
       " '__doc__',\n",
       " '__file__',\n",
       " '__loader__',\n",
       " '__name__',\n",
       " '__package__',\n",
       " '__spec__',\n",
       " 'accuracy_score',\n",
       " 'np',\n",
       " 'plt',\n",
       " 'sqrt']"
      ]
     },
     "execution_count": 13,
     "metadata": {},
     "output_type": "execute_result"
    }
   ],
   "source": [
    "dir(kNN_function)\n"
   ]
  },
  {
   "cell_type": "code",
   "execution_count": 14,
   "id": "6d3af1e2-05c3-44d9-813e-a5ef266ecd34",
   "metadata": {},
   "outputs": [
    {
     "data": {
      "text/plain": [
       "['__builtins__',\n",
       " '__cached__',\n",
       " '__doc__',\n",
       " '__file__',\n",
       " '__loader__',\n",
       " '__name__',\n",
       " '__package__',\n",
       " '__path__',\n",
       " '__spec__',\n",
       " 'kNN_function',\n",
       " 'metrics',\n",
       " 'model_selection']"
      ]
     },
     "execution_count": 14,
     "metadata": {},
     "output_type": "execute_result"
    }
   ],
   "source": [
    "dir(playML)"
   ]
  },
  {
   "cell_type": "code",
   "execution_count": null,
   "id": "ef532c77-3e5b-4725-ace6-3f83fdf31615",
   "metadata": {},
   "outputs": [],
   "source": []
  }
 ],
 "metadata": {
  "kernelspec": {
   "display_name": "Python 3 (ipykernel)",
   "language": "python",
   "name": "python3"
  },
  "language_info": {
   "codemirror_mode": {
    "name": "ipython",
    "version": 3
   },
   "file_extension": ".py",
   "mimetype": "text/x-python",
   "name": "python",
   "nbconvert_exporter": "python",
   "pygments_lexer": "ipython3",
   "version": "3.11.7"
  }
 },
 "nbformat": 4,
 "nbformat_minor": 5
}
