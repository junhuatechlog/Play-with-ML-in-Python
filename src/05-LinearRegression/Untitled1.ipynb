{
 "cells": [
  {
   "cell_type": "code",
   "execution_count": 1,
   "id": "015574d8-3976-4a89-a34f-64bf979f4607",
   "metadata": {},
   "outputs": [],
   "source": [
    "import numpy as np\n",
    "import matplotlib.pyplot as plt\n",
    "x = np.array([1, 2, 3, 4, 5])\n",
    "y = np.array([1, 3, 2, 3, 5])\n",
    "import playML\n",
    "from playML.SimpleLinearRegression import SimpleLinearRegression \n",
    "reg1 = SimpleLinearRegression()"
   ]
  },
  {
   "cell_type": "code",
   "execution_count": 2,
   "id": "3b403b91-f89a-461e-aa24-cc119c13db12",
   "metadata": {},
   "outputs": [
    {
     "data": {
      "text/plain": [
       "0.8"
      ]
     },
     "execution_count": 2,
     "metadata": {},
     "output_type": "execute_result"
    }
   ],
   "source": [
    "x_mean = np.mean(x)\n",
    "y_mean = np.mean(y)\n",
    "numerator = (x - x_mean).dot(y-y_mean)\n",
    "denominator = (x - x_mean).dot(x-x_mean)\n",
    "numerator/denominator"
   ]
  },
  {
   "cell_type": "code",
   "execution_count": 3,
   "id": "2198ec94-cb6f-4004-8b00-8b94676338f6",
   "metadata": {},
   "outputs": [
    {
     "data": {
      "text/plain": [
       "10.0"
      ]
     },
     "execution_count": 3,
     "metadata": {},
     "output_type": "execute_result"
    }
   ],
   "source": [
    "denominator"
   ]
  },
  {
   "cell_type": "code",
   "execution_count": 4,
   "id": "e05d169e-8054-4921-a9b2-4fffd63a8d75",
   "metadata": {},
   "outputs": [
    {
     "data": {
      "text/plain": [
       "Simple Linear Regression!"
      ]
     },
     "execution_count": 4,
     "metadata": {},
     "output_type": "execute_result"
    }
   ],
   "source": [
    "reg1.fit(x, y)"
   ]
  },
  {
   "cell_type": "code",
   "execution_count": 5,
   "id": "32bba019-c5ad-4db2-954f-0e220a199793",
   "metadata": {},
   "outputs": [
    {
     "data": {
      "text/plain": [
       "array([5.2])"
      ]
     },
     "execution_count": 5,
     "metadata": {},
     "output_type": "execute_result"
    }
   ],
   "source": [
    "reg1.predict(np.array([6]))"
   ]
  },
  {
   "cell_type": "code",
   "execution_count": null,
   "id": "49a36deb-43c5-4ca9-b513-9d2083892547",
   "metadata": {},
   "outputs": [],
   "source": []
  }
 ],
 "metadata": {
  "kernelspec": {
   "display_name": "Python 3 (ipykernel)",
   "language": "python",
   "name": "python3"
  },
  "language_info": {
   "codemirror_mode": {
    "name": "ipython",
    "version": 3
   },
   "file_extension": ".py",
   "mimetype": "text/x-python",
   "name": "python",
   "nbconvert_exporter": "python",
   "pygments_lexer": "ipython3",
   "version": "3.11.7"
  }
 },
 "nbformat": 4,
 "nbformat_minor": 5
}
