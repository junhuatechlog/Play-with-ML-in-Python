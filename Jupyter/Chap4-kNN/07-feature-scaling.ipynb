{
 "cells": [
  {
   "cell_type": "code",
   "execution_count": 30,
   "id": "9e927cbe-d78f-4ad0-a89a-cbc6d9599a4b",
   "metadata": {},
   "outputs": [],
   "source": [
    "import numpy as np\n",
    "X = np.random.randint(0, 100, (50, 2))"
   ]
  },
  {
   "cell_type": "code",
   "execution_count": 31,
   "id": "58e46eff-837d-4a8f-ae55-8d8e0b130c52",
   "metadata": {},
   "outputs": [
    {
     "data": {
      "text/plain": [
       "array([[94, 42],\n",
       "       [12, 50],\n",
       "       [25, 33],\n",
       "       [51, 69],\n",
       "       [25, 96],\n",
       "       [ 4, 52],\n",
       "       [55,  2],\n",
       "       [72, 38],\n",
       "       [72, 76],\n",
       "       [71, 14]])"
      ]
     },
     "execution_count": 31,
     "metadata": {},
     "output_type": "execute_result"
    }
   ],
   "source": [
    "X[:10, :]"
   ]
  },
  {
   "cell_type": "code",
   "execution_count": 32,
   "id": "c7e447d5-75ad-4fb4-aa47-cacda9e8313c",
   "metadata": {},
   "outputs": [],
   "source": [
    "X = np.array(X, dtype='float')"
   ]
  },
  {
   "cell_type": "markdown",
   "id": "e4807a93-e59c-4e3f-9be0-2ae2aba90f48",
   "metadata": {},
   "source": [
    "# 最值归一化"
   ]
  },
  {
   "cell_type": "code",
   "execution_count": 33,
   "id": "5c32a3c9-4e76-45f3-b000-50f5849b28ed",
   "metadata": {},
   "outputs": [],
   "source": [
    "for i in range(0, 2):\n",
    "    X[:,i] = (X[:, i] - np.min(X[:, i]))/(np.max(X[:, i]) - np.min(X[:, i]))"
   ]
  },
  {
   "cell_type": "code",
   "execution_count": 34,
   "id": "cd1e214c-9776-478b-90e8-29833411312b",
   "metadata": {},
   "outputs": [
    {
     "data": {
      "text/plain": [
       "array([[0.94845361, 0.42553191],\n",
       "       [0.10309278, 0.5106383 ],\n",
       "       [0.2371134 , 0.32978723],\n",
       "       [0.50515464, 0.71276596],\n",
       "       [0.2371134 , 1.        ],\n",
       "       [0.02061856, 0.53191489],\n",
       "       [0.54639175, 0.        ],\n",
       "       [0.72164948, 0.38297872],\n",
       "       [0.72164948, 0.78723404],\n",
       "       [0.71134021, 0.12765957]])"
      ]
     },
     "execution_count": 34,
     "metadata": {},
     "output_type": "execute_result"
    }
   ],
   "source": [
    "X[:10, :]"
   ]
  },
  {
   "cell_type": "code",
   "execution_count": 35,
   "id": "9b88d4b7-0950-4aa5-87c7-ca6143b9d077",
   "metadata": {},
   "outputs": [
    {
     "data": {
      "text/plain": [
       "0.47422680412371127"
      ]
     },
     "execution_count": 35,
     "metadata": {},
     "output_type": "execute_result"
    }
   ],
   "source": [
    "X[:, 0].mean()"
   ]
  },
  {
   "cell_type": "code",
   "execution_count": 36,
   "id": "889b7e5a-11b8-42c8-b359-1fa9e503c882",
   "metadata": {},
   "outputs": [
    {
     "data": {
      "text/plain": [
       "0.3155110806332136"
      ]
     },
     "execution_count": 36,
     "metadata": {},
     "output_type": "execute_result"
    }
   ],
   "source": [
    "X[:, 0].std()"
   ]
  },
  {
   "cell_type": "code",
   "execution_count": 37,
   "id": "969238a0-45cf-4d4c-a40b-992265dbc2cf",
   "metadata": {},
   "outputs": [
    {
     "data": {
      "text/plain": [
       "0.3155110806332136"
      ]
     },
     "execution_count": 37,
     "metadata": {},
     "output_type": "execute_result"
    }
   ],
   "source": [
    "np.std(X[:, 0])"
   ]
  },
  {
   "cell_type": "code",
   "execution_count": 38,
   "id": "9feb3189-60f2-4db6-bebd-337f1e3a1f6a",
   "metadata": {},
   "outputs": [
    {
     "data": {
      "text/plain": [
       "Text(0.5, 1.0, 'Normalization')"
      ]
     },
     "execution_count": 38,
     "metadata": {},
     "output_type": "execute_result"
    },
    {
     "data": {
      "image/png": "[encoded data removed]",
      "text/plain": [
       "<Figure size 640x480 with 1 Axes>"
      ]
     },
     "metadata": {},
     "output_type": "display_data"
    }
   ],
   "source": [
    "plt.scatter(X[:, 0], X[:, 1])\n",
    "plt.title(\"Normalization\")"
   ]
  },
  {
   "cell_type": "markdown",
   "id": "5051407b-1121-43d8-9e67-692cd3fef286",
   "metadata": {},
   "source": [
    "# 均值方差归一化"
   ]
  },
  {
   "cell_type": "code",
   "execution_count": 18,
   "id": "27aa9ec0-c8d1-424c-8693-83a25baf0d43",
   "metadata": {},
   "outputs": [],
   "source": [
    "X = np.random.randint(0, 100, (50, 2))\n",
    "X = np.array(X, dtype='float')"
   ]
  },
  {
   "cell_type": "code",
   "execution_count": 19,
   "id": "f0d6d5bb-aee3-4d09-a434-3282f0501fca",
   "metadata": {},
   "outputs": [
    {
     "data": {
      "text/plain": [
       "array([[47., 14.],\n",
       "       [41.,  7.],\n",
       "       [15., 10.],\n",
       "       [71., 70.],\n",
       "       [64., 46.],\n",
       "       [94., 65.],\n",
       "       [ 8., 85.],\n",
       "       [42., 58.],\n",
       "       [35., 71.],\n",
       "       [29., 22.]])"
      ]
     },
     "execution_count": 19,
     "metadata": {},
     "output_type": "execute_result"
    }
   ],
   "source": [
    "X[:10, :]"
   ]
  },
  {
   "cell_type": "code",
   "execution_count": 20,
   "id": "4407a67f-3f5a-4e95-92f3-995afaf44c04",
   "metadata": {},
   "outputs": [
    {
     "data": {
      "text/plain": [
       "26.216208726663737"
      ]
     },
     "execution_count": 20,
     "metadata": {},
     "output_type": "execute_result"
    }
   ],
   "source": [
    "np.std(X[:, 0])"
   ]
  },
  {
   "cell_type": "code",
   "execution_count": 21,
   "id": "9a9324c3-9299-4277-9304-f53032fdff78",
   "metadata": {},
   "outputs": [
    {
     "data": {
      "text/plain": [
       "28.058089742532367"
      ]
     },
     "execution_count": 21,
     "metadata": {},
     "output_type": "execute_result"
    }
   ],
   "source": [
    "np.std(X[:, 1])"
   ]
  },
  {
   "cell_type": "code",
   "execution_count": 22,
   "id": "a0b55b57-a3d4-4ea9-b366-48292970a535",
   "metadata": {},
   "outputs": [],
   "source": [
    "for i in range(0, 2):\n",
    "    X[:, i] = (X[:, i] - np.mean(X[:, i]))/np.std(X[:, i])"
   ]
  },
  {
   "cell_type": "code",
   "execution_count": 23,
   "id": "f3e6bb62-4e5d-493c-a3c7-30489f6f5bc8",
   "metadata": {},
   "outputs": [
    {
     "data": {
      "text/plain": [
       "1.2878587085651815e-16"
      ]
     },
     "execution_count": 23,
     "metadata": {},
     "output_type": "execute_result"
    }
   ],
   "source": [
    "np.mean(X[:, 0])"
   ]
  },
  {
   "cell_type": "code",
   "execution_count": 24,
   "id": "1f6329cb-fb8b-4f76-a58d-06b638535740",
   "metadata": {},
   "outputs": [
    {
     "data": {
      "text/plain": [
       "1.021405182655144e-16"
      ]
     },
     "execution_count": 24,
     "metadata": {},
     "output_type": "execute_result"
    }
   ],
   "source": [
    "np.mean(X[:, 1])"
   ]
  },
  {
   "cell_type": "code",
   "execution_count": 25,
   "id": "74dff9a7-68ca-48eb-b8cf-26827d20f669",
   "metadata": {},
   "outputs": [
    {
     "data": {
      "text/plain": [
       "1.0"
      ]
     },
     "execution_count": 25,
     "metadata": {},
     "output_type": "execute_result"
    }
   ],
   "source": [
    "np.std(X[:, 0])"
   ]
  },
  {
   "cell_type": "code",
   "execution_count": 26,
   "id": "3a791349-abb7-4674-b600-3b266cfd638a",
   "metadata": {},
   "outputs": [
    {
     "data": {
      "text/plain": [
       "0.9999999999999999"
      ]
     },
     "execution_count": 26,
     "metadata": {},
     "output_type": "execute_result"
    }
   ],
   "source": [
    "np.std(X[:, 1])"
   ]
  },
  {
   "cell_type": "code",
   "execution_count": 27,
   "id": "0121bf67-2a7f-429d-9aa1-f76da4069b5a",
   "metadata": {},
   "outputs": [],
   "source": [
    "import matplotlib.pyplot as plt"
   ]
  },
  {
   "cell_type": "code",
   "execution_count": 29,
   "id": "cd9ce00a-f59a-4366-98f3-29260187c2ef",
   "metadata": {
    "scrolled": true
   },
   "outputs": [
    {
     "data": {
      "text/plain": [
       "Text(0.5, 1.0, 'Standardization')"
      ]
     },
     "execution_count": 29,
     "metadata": {},
     "output_type": "execute_result"
    },
    {
     "data": {
      "image/png": "[encoded data removed]",
      "text/plain": [
       "<Figure size 640x480 with 1 Axes>"
      ]
     },
     "metadata": {},
     "output_type": "display_data"
    }
   ],
   "source": [
    "plt.scatter(X[:, 0], X[:, 1])\n",
    "plt.title(\"Standardization\")"
   ]
  },
  {
   "cell_type": "code",
   "execution_count": null,
   "id": "6a0e05a3-46c6-42b0-8583-548b9448e7c4",
   "metadata": {},
   "outputs": [],
   "source": []
  }
 ],
 "metadata": {
  "kernelspec": {
   "display_name": "Python 3 (ipykernel)",
   "language": "python",
   "name": "python3"
  },
  "language_info": {
   "codemirror_mode": {
    "name": "ipython",
    "version": 3
   },
   "file_extension": ".py",
   "mimetype": "text/x-python",
   "name": "python",
   "nbconvert_exporter": "python",
   "pygments_lexer": "ipython3",
   "version": "3.11.7"
  }
 },
 "nbformat": 4,
 "nbformat_minor": 5
}
