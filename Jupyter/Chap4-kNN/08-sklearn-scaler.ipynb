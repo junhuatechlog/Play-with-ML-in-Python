{
 "cells": [
  {
   "cell_type": "code",
   "execution_count": 1,
   "id": "9e927cbe-d78f-4ad0-a89a-cbc6d9599a4b",
   "metadata": {},
   "outputs": [],
   "source": [
    "import numpy as np\n",
    "import matplotlib.pyplot as plt\n",
    "from sklearn import datasets\n",
    "iris = datasets.load_iris()\n",
    "X = iris.data\n",
    "y = iris.target\n",
    "from sklearn.model_selection import train_test_split\n",
    "X_train, X_test, y_train, y_test = train_test_split(X, y, random_state=666)"
   ]
  },
  {
   "cell_type": "code",
   "execution_count": 3,
   "id": "3d563aef-ac06-4b6a-9be5-c01ff60292c1",
   "metadata": {},
   "outputs": [],
   "source": [
    "from sklearn.preprocessing import StandardScaler"
   ]
  },
  {
   "cell_type": "code",
   "execution_count": 4,
   "id": "b09fcf68-66e6-4129-8756-130df53fd5de",
   "metadata": {},
   "outputs": [],
   "source": [
    "standardScaler = StandardScaler()"
   ]
  },
  {
   "cell_type": "code",
   "execution_count": 5,
   "id": "471dcdd7-0ca8-4b76-a371-a7db849749a3",
   "metadata": {},
   "outputs": [
    {
     "data": {
      "text/html": [
       "<style>#sk-container-id-1 {color: black;background-color: white;}#sk-container-id-1 pre{padding: 0;}#sk-container-id-1 div.sk-toggleable {background-color: white;}#sk-container-id-1 label.sk-toggleable__label {cursor: pointer;display: block;width: 100%;margin-bottom: 0;padding: 0.3em;box-sizing: border-box;text-align: center;}#sk-container-id-1 label.sk-toggleable__label-arrow:before {content: \"▸\";float: left;margin-right: 0.25em;color: #696969;}#sk-container-id-1 label.sk-toggleable__label-arrow:hover:before {color: black;}#sk-container-id-1 div.sk-estimator:hover label.sk-toggleable__label-arrow:before {color: black;}#sk-container-id-1 div.sk-toggleable__content {max-height: 0;max-width: 0;overflow: hidden;text-align: left;background-color: #f0f8ff;}#sk-container-id-1 div.sk-toggleable__content pre {margin: 0.2em;color: black;border-radius: 0.25em;background-color: #f0f8ff;}#sk-container-id-1 input.sk-toggleable__control:checked~div.sk-toggleable__content {max-height: 200px;max-width: 100%;overflow: auto;}#sk-container-id-1 input.sk-toggleable__control:checked~label.sk-toggleable__label-arrow:before {content: \"▾\";}#sk-container-id-1 div.sk-estimator input.sk-toggleable__control:checked~label.sk-toggleable__label {background-color: #d4ebff;}#sk-container-id-1 div.sk-label input.sk-toggleable__control:checked~label.sk-toggleable__label {background-color: #d4ebff;}#sk-container-id-1 input.sk-hidden--visually {border: 0;clip: rect(1px 1px 1px 1px);clip: rect(1px, 1px, 1px, 1px);height: 1px;margin: -1px;overflow: hidden;padding: 0;position: absolute;width: 1px;}#sk-container-id-1 div.sk-estimator {font-family: monospace;background-color: #f0f8ff;border: 1px dotted black;border-radius: 0.25em;box-sizing: border-box;margin-bottom: 0.5em;}#sk-container-id-1 div.sk-estimator:hover {background-color: #d4ebff;}#sk-container-id-1 div.sk-parallel-item::after {content: \"\";width: 100%;border-bottom: 1px solid gray;flex-grow: 1;}#sk-container-id-1 div.sk-label:hover label.sk-toggleable__label {background-color: #d4ebff;}#sk-container-id-1 div.sk-serial::before {content: \"\";position: absolute;border-left: 1px solid gray;box-sizing: border-box;top: 0;bottom: 0;left: 50%;z-index: 0;}#sk-container-id-1 div.sk-serial {display: flex;flex-direction: column;align-items: center;background-color: white;padding-right: 0.2em;padding-left: 0.2em;position: relative;}#sk-container-id-1 div.sk-item {position: relative;z-index: 1;}#sk-container-id-1 div.sk-parallel {display: flex;align-items: stretch;justify-content: center;background-color: white;position: relative;}#sk-container-id-1 div.sk-item::before, #sk-container-id-1 div.sk-parallel-item::before {content: \"\";position: absolute;border-left: 1px solid gray;box-sizing: border-box;top: 0;bottom: 0;left: 50%;z-index: -1;}#sk-container-id-1 div.sk-parallel-item {display: flex;flex-direction: column;z-index: 1;position: relative;background-color: white;}#sk-container-id-1 div.sk-parallel-item:first-child::after {align-self: flex-end;width: 50%;}#sk-container-id-1 div.sk-parallel-item:last-child::after {align-self: flex-start;width: 50%;}#sk-container-id-1 div.sk-parallel-item:only-child::after {width: 0;}#sk-container-id-1 div.sk-dashed-wrapped {border: 1px dashed gray;margin: 0 0.4em 0.5em 0.4em;box-sizing: border-box;padding-bottom: 0.4em;background-color: white;}#sk-container-id-1 div.sk-label label {font-family: monospace;font-weight: bold;display: inline-block;line-height: 1.2em;}#sk-container-id-1 div.sk-label-container {text-align: center;}#sk-container-id-1 div.sk-container {/* jupyter's `normalize.less` sets `[hidden] { display: none; }` but bootstrap.min.css set `[hidden] { display: none !important; }` so we also need the `!important` here to be able to override the default hidden behavior on the sphinx rendered scikit-learn.org. See: https://github.com/scikit-learn/scikit-learn/issues/21755 */display: inline-block !important;position: relative;}#sk-container-id-1 div.sk-text-repr-fallback {display: none;}</style><div id=\"sk-container-id-1\" class=\"sk-top-container\"><div class=\"sk-text-repr-fallback\"><pre>StandardScaler()</pre><b>In a Jupyter environment, please rerun this cell to show the HTML representation or trust the notebook. <br />On GitHub, the HTML representation is unable to render, please try loading this page with nbviewer.org.</b></div><div class=\"sk-container\" hidden><div class=\"sk-item\"><div class=\"sk-estimator sk-toggleable\"><input class=\"sk-toggleable__control sk-hidden--visually\" id=\"sk-estimator-id-1\" type=\"checkbox\" checked><label for=\"sk-estimator-id-1\" class=\"sk-toggleable__label sk-toggleable__label-arrow\">StandardScaler</label><div class=\"sk-toggleable__content\"><pre>StandardScaler()</pre></div></div></div></div></div>"
      ],
      "text/plain": [
       "StandardScaler()"
      ]
     },
     "execution_count": 5,
     "metadata": {},
     "output_type": "execute_result"
    }
   ],
   "source": [
    "standardScaler.fit(X_train)"
   ]
  },
  {
   "cell_type": "code",
   "execution_count": 6,
   "id": "4684d405-012b-4dec-a58b-6a5e3ea9fbbf",
   "metadata": {},
   "outputs": [
    {
     "data": {
      "text/plain": [
       "array([5.825     , 3.09285714, 3.68571429, 1.16428571])"
      ]
     },
     "execution_count": 6,
     "metadata": {},
     "output_type": "execute_result"
    }
   ],
   "source": [
    "standardScaler.mean_"
   ]
  },
  {
   "cell_type": "code",
   "execution_count": 9,
   "id": "2bf6bb7d-3aeb-4905-bc80-ddf546abe0e4",
   "metadata": {},
   "outputs": [
    {
     "data": {
      "text/plain": [
       "array([0.80239597, 0.4493476 , 1.75828941, 0.75543946])"
      ]
     },
     "execution_count": 9,
     "metadata": {},
     "output_type": "execute_result"
    }
   ],
   "source": [
    "standardScaler.scale_ #描述数据分布范围，和std_一样，只是std_这个变量名在sklearn中弃用了。\n"
   ]
  },
  {
   "cell_type": "code",
   "execution_count": 22,
   "id": "8f19c6ca-7bae-4f9a-944f-a3cc71ee8f5f",
   "metadata": {},
   "outputs": [],
   "source": [
    "X_train_standard = standardScaler.transform(X_train)"
   ]
  },
  {
   "cell_type": "code",
   "execution_count": 23,
   "id": "a949dfd2-5968-43d4-8c14-41bdcba11160",
   "metadata": {},
   "outputs": [
    {
     "data": {
      "text/plain": [
       "(112, 4)"
      ]
     },
     "execution_count": 23,
     "metadata": {},
     "output_type": "execute_result"
    }
   ],
   "source": [
    "X_train_standard.shape"
   ]
  },
  {
   "cell_type": "code",
   "execution_count": 24,
   "id": "790ea475-5c63-4405-aecf-1c8b0772edb1",
   "metadata": {},
   "outputs": [
    {
     "data": {
      "text/plain": [
       "(112, 4)"
      ]
     },
     "execution_count": 24,
     "metadata": {},
     "output_type": "execute_result"
    }
   ],
   "source": [
    "X_train.shape"
   ]
  },
  {
   "cell_type": "code",
   "execution_count": 25,
   "id": "de4cbb98-28e3-46c4-837f-6c403d05ecee",
   "metadata": {},
   "outputs": [
    {
     "data": {
      "text/plain": [
       "array([[-0.77891718,  2.24134469, -1.24309131, -1.40882992],\n",
       "       [ 0.46735031, -1.98700771,  0.46311245,  0.44439602],\n",
       "       [ 1.83824454, -0.42919366,  1.48683471,  0.84151586],\n",
       "       [ 0.7166038 ,  0.23844092,  0.91810012,  1.50338227],\n",
       "       [ 0.21809681,  0.68353065,  0.46311245,  0.5767693 ],\n",
       "       [-0.77891718, -0.87428339,  0.1218717 ,  0.31202273],\n",
       "       [-0.52966368,  1.35116524, -1.24309131, -1.27645664],\n",
       "       [-0.65429043,  1.35116524, -1.24309131, -1.27645664],\n",
       "       [-1.02817067,  0.90607551, -1.18621785, -0.74696352],\n",
       "       [-1.77593116, -0.42919366, -1.29996477, -1.27645664],\n",
       "       [-0.03115669, -0.87428339,  0.1218717 ,  0.04727617],\n",
       "       [-0.77891718,  0.68353065, -1.29996477, -1.27645664],\n",
       "       [-1.52667767,  0.68353065, -1.29996477, -1.14408336],\n",
       "       [ 0.84123055,  0.23844092,  0.8043532 ,  1.10626242],\n",
       "       [-0.15578344, -0.42919366,  0.29249207,  0.17964945],\n",
       "       [ 0.9658573 , -0.2066488 ,  0.40623899,  0.31202273],\n",
       "       [ 0.21809681, -0.42919366,  0.46311245,  0.44439602],\n",
       "       [-1.40205092,  0.23844092, -1.18621785, -1.27645664],\n",
       "       [-1.15279742,  1.12862038, -1.29996477, -1.40882992],\n",
       "       [ 1.09048405,  0.01589606,  1.0887205 ,  1.63575555],\n",
       "       [ 0.59197705, -0.87428339,  0.69060629,  0.84151586],\n",
       "       [ 0.34272356, -0.65173853,  0.57685937,  0.04727617],\n",
       "       [ 0.46735031, -0.65173853,  0.63373283,  0.84151586],\n",
       "       [-0.15578344,  2.90897928, -1.24309131, -1.01171008],\n",
       "       [ 0.59197705, -1.31937312,  0.69060629,  0.44439602],\n",
       "       [ 0.7166038 , -0.42919366,  0.34936553,  0.17964945],\n",
       "       [-0.90354392,  1.5737101 , -1.01559748, -1.01171008],\n",
       "       [ 1.2151108 , -0.65173853,  0.63373283,  0.31202273],\n",
       "       [-0.90354392,  0.90607551, -1.29996477, -1.14408336],\n",
       "       [-1.90055791, -0.2066488 , -1.47058515, -1.40882992],\n",
       "       [ 0.09347006, -0.2066488 ,  0.8043532 ,  0.84151586],\n",
       "       [ 0.7166038 , -0.65173853,  1.0887205 ,  1.2386357 ],\n",
       "       [-0.28041018, -0.65173853,  0.69060629,  1.10626242],\n",
       "       [-0.40503693, -1.54191798,  0.00812478, -0.21747039],\n",
       "       [ 1.33973754,  0.01589606,  0.69060629,  0.44439602],\n",
       "       [ 0.59197705,  0.68353065,  1.0887205 ,  1.63575555],\n",
       "       [ 0.84123055, -0.2066488 ,  1.20246741,  1.37100899],\n",
       "       [-0.15578344,  1.5737101 , -1.1293444 , -1.14408336],\n",
       "       [ 0.9658573 , -0.42919366,  0.51998591,  0.17964945],\n",
       "       [ 1.09048405,  0.46098579,  1.14559396,  1.76812883],\n",
       "       [-1.27742417, -0.2066488 , -1.29996477, -1.40882992],\n",
       "       [-1.02817067,  1.12862038, -1.29996477, -1.27645664],\n",
       "       [ 0.21809681, -0.2066488 ,  0.63373283,  0.84151586],\n",
       "       [-1.02817067, -0.2066488 , -1.18621785, -1.27645664],\n",
       "       [ 0.34272356, -0.2066488 ,  0.69060629,  0.84151586],\n",
       "       [ 0.7166038 ,  0.01589606,  1.03184704,  0.84151586],\n",
       "       [-0.90354392,  1.35116524, -1.24309131, -1.01171008],\n",
       "       [-0.15578344, -0.2066488 ,  0.29249207,  0.04727617],\n",
       "       [-1.02817067,  0.90607551, -1.35683823, -1.14408336],\n",
       "       [-0.90354392,  1.5737101 , -1.24309131, -1.14408336],\n",
       "       [-1.52667767,  0.23844092, -1.29996477, -1.27645664],\n",
       "       [-0.52966368, -0.2066488 ,  0.46311245,  0.44439602],\n",
       "       [ 0.84123055, -0.65173853,  0.51998591,  0.44439602],\n",
       "       [ 0.34272356, -0.65173853,  0.17874516,  0.17964945],\n",
       "       [-1.27742417,  0.68353065, -1.18621785, -1.27645664],\n",
       "       [-0.90354392,  0.46098579, -1.1293444 , -0.8793368 ],\n",
       "       [-0.03115669, -0.87428339,  0.8043532 ,  0.97388914],\n",
       "       [-0.28041018, -0.2066488 ,  0.23561861,  0.17964945],\n",
       "       [ 0.59197705, -0.65173853,  0.8043532 ,  0.44439602],\n",
       "       [ 1.09048405,  0.46098579,  1.14559396,  1.2386357 ],\n",
       "       [ 1.71361779, -0.2066488 ,  1.20246741,  0.5767693 ],\n",
       "       [ 1.09048405, -0.2066488 ,  0.86122666,  1.50338227],\n",
       "       [-1.15279742,  0.01589606, -1.24309131, -1.40882992],\n",
       "       [-1.15279742, -1.31937312,  0.46311245,  0.70914258],\n",
       "       [-0.15578344, -1.31937312,  0.74747974,  1.10626242],\n",
       "       [-1.15279742, -1.54191798, -0.21936906, -0.21747039],\n",
       "       [-0.40503693, -1.54191798,  0.06499824, -0.08509711],\n",
       "       [ 1.09048405, -1.31937312,  1.20246741,  0.84151586],\n",
       "       [ 0.84123055, -0.2066488 ,  1.03184704,  0.84151586],\n",
       "       [-0.15578344, -1.09682825, -0.10562214, -0.21747039],\n",
       "       [ 0.21809681, -1.98700771,  0.74747974,  0.44439602],\n",
       "       [ 1.09048405,  0.01589606,  0.57685937,  0.44439602],\n",
       "       [-1.15279742,  0.01589606, -1.24309131, -1.27645664],\n",
       "       [ 0.59197705, -1.31937312,  0.74747974,  0.97388914],\n",
       "       [-1.40205092,  0.23844092, -1.35683823, -1.27645664],\n",
       "       [ 0.21809681, -0.87428339,  0.8043532 ,  0.5767693 ],\n",
       "       [-0.03115669, -1.09682825,  0.17874516,  0.04727617],\n",
       "       [ 1.33973754,  0.23844092,  1.14559396,  1.50338227],\n",
       "       [-1.77593116, -0.2066488 , -1.35683823, -1.27645664],\n",
       "       [ 1.58899104, -0.2066488 ,  1.25934087,  1.2386357 ],\n",
       "       [ 1.2151108 ,  0.23844092,  1.25934087,  1.50338227],\n",
       "       [-0.77891718,  0.90607551, -1.24309131, -1.27645664],\n",
       "       [ 2.58600503,  1.5737101 ,  1.54370817,  1.10626242],\n",
       "       [ 0.7166038 , -0.65173853,  1.0887205 ,  1.37100899],\n",
       "       [-0.28041018, -0.42919366, -0.04874868,  0.17964945],\n",
       "       [-0.40503693,  2.46388955, -1.29996477, -1.27645664],\n",
       "       [-1.27742417, -0.2066488 , -1.29996477, -1.14408336],\n",
       "       [ 0.59197705, -0.42919366,  1.0887205 ,  0.84151586],\n",
       "       [-1.77593116,  0.23844092, -1.35683823, -1.27645664],\n",
       "       [-0.52966368,  1.79625497, -1.1293444 , -1.01171008],\n",
       "       [-1.02817067,  0.68353065, -1.18621785, -1.01171008],\n",
       "       [ 1.09048405, -0.2066488 ,  0.74747974,  0.70914258],\n",
       "       [-0.52966368,  1.79625497, -1.35683823, -1.01171008],\n",
       "       [ 2.33675153, -0.65173853,  1.71432854,  1.10626242],\n",
       "       [-0.28041018, -0.87428339,  0.29249207,  0.17964945],\n",
       "       [ 1.2151108 , -0.2066488 ,  1.03184704,  1.2386357 ],\n",
       "       [-0.40503693,  0.90607551, -1.35683823, -1.27645664],\n",
       "       [-1.27742417,  0.68353065, -1.01559748, -1.27645664],\n",
       "       [-0.52966368,  0.68353065, -1.1293444 , -1.27645664],\n",
       "       [ 2.33675153,  1.5737101 ,  1.71432854,  1.37100899],\n",
       "       [ 1.33973754,  0.01589606,  0.97497358,  1.2386357 ],\n",
       "       [-0.28041018, -1.31937312,  0.1218717 , -0.08509711],\n",
       "       [-0.90354392,  0.68353065, -1.24309131, -1.27645664],\n",
       "       [-0.90354392,  1.5737101 , -1.18621785, -1.27645664],\n",
       "       [ 0.34272356, -0.42919366,  0.57685937,  0.31202273],\n",
       "       [-0.03115669,  2.01879983, -1.41371169, -1.27645664],\n",
       "       [-1.02817067, -2.43209743, -0.10562214, -0.21747039],\n",
       "       [ 0.7166038 ,  0.23844092,  0.46311245,  0.44439602],\n",
       "       [ 0.34272356, -0.2066488 ,  0.51998591,  0.31202273],\n",
       "       [ 0.09347006,  0.23844092,  0.63373283,  0.84151586],\n",
       "       [ 0.21809681, -1.98700771,  0.17874516, -0.21747039],\n",
       "       [ 1.96287128, -0.65173853,  1.37308779,  0.97388914]])"
      ]
     },
     "execution_count": 25,
     "metadata": {},
     "output_type": "execute_result"
    }
   ],
   "source": [
    "X_train_standard"
   ]
  },
  {
   "cell_type": "code",
   "execution_count": 26,
   "id": "09f1b979-68de-425b-adf1-7464d42cdc04",
   "metadata": {},
   "outputs": [],
   "source": [
    "X_test_standard = standardScaler.transform(X_test)"
   ]
  },
  {
   "cell_type": "code",
   "execution_count": 27,
   "id": "7972eceb-64fb-455a-849e-29ac9df33975",
   "metadata": {},
   "outputs": [],
   "source": [
    "from sklearn.neighbors import KNeighborsClassifier"
   ]
  },
  {
   "cell_type": "code",
   "execution_count": 28,
   "id": "494297ea-bde7-475f-b4fd-8023a430334a",
   "metadata": {},
   "outputs": [],
   "source": [
    "knn_clf = KNeighborsClassifier(n_neighbors=3)"
   ]
  },
  {
   "cell_type": "code",
   "execution_count": 29,
   "id": "8bb8a9d8-c12b-4e1a-82a9-b6c85490ede4",
   "metadata": {},
   "outputs": [
    {
     "data": {
      "text/html": [
       "<style>#sk-container-id-2 {color: black;background-color: white;}#sk-container-id-2 pre{padding: 0;}#sk-container-id-2 div.sk-toggleable {background-color: white;}#sk-container-id-2 label.sk-toggleable__label {cursor: pointer;display: block;width: 100%;margin-bottom: 0;padding: 0.3em;box-sizing: border-box;text-align: center;}#sk-container-id-2 label.sk-toggleable__label-arrow:before {content: \"▸\";float: left;margin-right: 0.25em;color: #696969;}#sk-container-id-2 label.sk-toggleable__label-arrow:hover:before {color: black;}#sk-container-id-2 div.sk-estimator:hover label.sk-toggleable__label-arrow:before {color: black;}#sk-container-id-2 div.sk-toggleable__content {max-height: 0;max-width: 0;overflow: hidden;text-align: left;background-color: #f0f8ff;}#sk-container-id-2 div.sk-toggleable__content pre {margin: 0.2em;color: black;border-radius: 0.25em;background-color: #f0f8ff;}#sk-container-id-2 input.sk-toggleable__control:checked~div.sk-toggleable__content {max-height: 200px;max-width: 100%;overflow: auto;}#sk-container-id-2 input.sk-toggleable__control:checked~label.sk-toggleable__label-arrow:before {content: \"▾\";}#sk-container-id-2 div.sk-estimator input.sk-toggleable__control:checked~label.sk-toggleable__label {background-color: #d4ebff;}#sk-container-id-2 div.sk-label input.sk-toggleable__control:checked~label.sk-toggleable__label {background-color: #d4ebff;}#sk-container-id-2 input.sk-hidden--visually {border: 0;clip: rect(1px 1px 1px 1px);clip: rect(1px, 1px, 1px, 1px);height: 1px;margin: -1px;overflow: hidden;padding: 0;position: absolute;width: 1px;}#sk-container-id-2 div.sk-estimator {font-family: monospace;background-color: #f0f8ff;border: 1px dotted black;border-radius: 0.25em;box-sizing: border-box;margin-bottom: 0.5em;}#sk-container-id-2 div.sk-estimator:hover {background-color: #d4ebff;}#sk-container-id-2 div.sk-parallel-item::after {content: \"\";width: 100%;border-bottom: 1px solid gray;flex-grow: 1;}#sk-container-id-2 div.sk-label:hover label.sk-toggleable__label {background-color: #d4ebff;}#sk-container-id-2 div.sk-serial::before {content: \"\";position: absolute;border-left: 1px solid gray;box-sizing: border-box;top: 0;bottom: 0;left: 50%;z-index: 0;}#sk-container-id-2 div.sk-serial {display: flex;flex-direction: column;align-items: center;background-color: white;padding-right: 0.2em;padding-left: 0.2em;position: relative;}#sk-container-id-2 div.sk-item {position: relative;z-index: 1;}#sk-container-id-2 div.sk-parallel {display: flex;align-items: stretch;justify-content: center;background-color: white;position: relative;}#sk-container-id-2 div.sk-item::before, #sk-container-id-2 div.sk-parallel-item::before {content: \"\";position: absolute;border-left: 1px solid gray;box-sizing: border-box;top: 0;bottom: 0;left: 50%;z-index: -1;}#sk-container-id-2 div.sk-parallel-item {display: flex;flex-direction: column;z-index: 1;position: relative;background-color: white;}#sk-container-id-2 div.sk-parallel-item:first-child::after {align-self: flex-end;width: 50%;}#sk-container-id-2 div.sk-parallel-item:last-child::after {align-self: flex-start;width: 50%;}#sk-container-id-2 div.sk-parallel-item:only-child::after {width: 0;}#sk-container-id-2 div.sk-dashed-wrapped {border: 1px dashed gray;margin: 0 0.4em 0.5em 0.4em;box-sizing: border-box;padding-bottom: 0.4em;background-color: white;}#sk-container-id-2 div.sk-label label {font-family: monospace;font-weight: bold;display: inline-block;line-height: 1.2em;}#sk-container-id-2 div.sk-label-container {text-align: center;}#sk-container-id-2 div.sk-container {/* jupyter's `normalize.less` sets `[hidden] { display: none; }` but bootstrap.min.css set `[hidden] { display: none !important; }` so we also need the `!important` here to be able to override the default hidden behavior on the sphinx rendered scikit-learn.org. See: https://github.com/scikit-learn/scikit-learn/issues/21755 */display: inline-block !important;position: relative;}#sk-container-id-2 div.sk-text-repr-fallback {display: none;}</style><div id=\"sk-container-id-2\" class=\"sk-top-container\"><div class=\"sk-text-repr-fallback\"><pre>KNeighborsClassifier(n_neighbors=3)</pre><b>In a Jupyter environment, please rerun this cell to show the HTML representation or trust the notebook. <br />On GitHub, the HTML representation is unable to render, please try loading this page with nbviewer.org.</b></div><div class=\"sk-container\" hidden><div class=\"sk-item\"><div class=\"sk-estimator sk-toggleable\"><input class=\"sk-toggleable__control sk-hidden--visually\" id=\"sk-estimator-id-2\" type=\"checkbox\" checked><label for=\"sk-estimator-id-2\" class=\"sk-toggleable__label sk-toggleable__label-arrow\">KNeighborsClassifier</label><div class=\"sk-toggleable__content\"><pre>KNeighborsClassifier(n_neighbors=3)</pre></div></div></div></div></div>"
      ],
      "text/plain": [
       "KNeighborsClassifier(n_neighbors=3)"
      ]
     },
     "execution_count": 29,
     "metadata": {},
     "output_type": "execute_result"
    }
   ],
   "source": [
    "knn_clf.fit(X_train_standard, y_train)"
   ]
  },
  {
   "cell_type": "code",
   "execution_count": 30,
   "id": "3fb05b78-c362-402c-929b-073e4c11e559",
   "metadata": {},
   "outputs": [
    {
     "data": {
      "text/plain": [
       "0.9736842105263158"
      ]
     },
     "execution_count": 30,
     "metadata": {},
     "output_type": "execute_result"
    }
   ],
   "source": [
    "knn_clf.score(X_test_standard, y_test)"
   ]
  },
  {
   "cell_type": "code",
   "execution_count": 31,
   "id": "80ae2bda-1b03-495d-8a50-c9d2275e2818",
   "metadata": {},
   "outputs": [
    {
     "data": {
      "text/plain": [
       "0.34210526315789475"
      ]
     },
     "execution_count": 31,
     "metadata": {},
     "output_type": "execute_result"
    }
   ],
   "source": [
    "knn_clf.score(X_test, y_test)"
   ]
  },
  {
   "cell_type": "code",
   "execution_count": null,
   "id": "77dfec3f-e380-4824-ac0e-586dfe68e6e3",
   "metadata": {},
   "outputs": [],
   "source": []
  }
 ],
 "metadata": {
  "kernelspec": {
   "display_name": "Python 3 (ipykernel)",
   "language": "python",
   "name": "python3"
  },
  "language_info": {
   "codemirror_mode": {
    "name": "ipython",
    "version": 3
   },
   "file_extension": ".py",
   "mimetype": "text/x-python",
   "name": "python",
   "nbconvert_exporter": "python",
   "pygments_lexer": "ipython3",
   "version": "3.11.7"
  }
 },
 "nbformat": 4,
 "nbformat_minor": 5
}
