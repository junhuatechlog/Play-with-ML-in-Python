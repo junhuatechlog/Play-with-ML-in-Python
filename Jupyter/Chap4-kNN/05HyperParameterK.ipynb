{
 "cells": [
  {
   "cell_type": "markdown",
   "id": "d15da3a0-e19f-44b4-8cd9-35087bb63a94",
   "metadata": {},
   "source": [
    "## 引入超参数 - 2点之间的距离"
   ]
  },
  {
   "cell_type": "markdown",
   "id": "160c0904-2573-450e-8a73-f12173cbeccc",
   "metadata": {},
   "source": [
    "import numpy as np\n",
    "import matplotlib\n",
    "import matplotlib.pyplot as plt\n",
    "from sklearn import datasets\n",
    "from sklearn.neighbors import KNeighborsClassifier\n",
    "from sklearn.model_selection import train_test_split\n",
    "\n",
    "digits = datasets.load_digits()\n",
    "X_train, X_test, y_train, y_test = train_test_split(digits.data, digits.target, test_size=0.2, random_state=666)\n",
    "\n",
    "best_distance = ''\n",
    "best_score =  0.0\n",
    "best_k = -1\n",
    "\n",
    "for method in ['uniform', 'distance']:\n",
    "    for k in range(1, 11):\n",
    "        knn_clf = KNeighborsClassifier(n_neighbors = k, weights = method)\n",
    "        knn_clf.fit(X_train, y_train)\n",
    "        score = knn_clf.score(X_test, y_test)\n",
    "        if score > best_score:\n",
    "            best_score = score\n",
    "            best_k = k\n",
    "            best_method = method\n",
    "            \n",
    "print('Best method: ' + best_method)\n",
    "print('Best k:', best_k)\n",
    "print('Best score: ', best_score)"
   ]
  },
  {
   "cell_type": "markdown",
   "id": "8d16902a-d2ba-4d64-9d3a-9f09ed4301c3",
   "metadata": {},
   "source": [
    "## 距离种类 - 欧拉距离，曼哈顿距离，明可夫斯基距离 - Minkowski distance"
   ]
  },
  {
   "cell_type": "code",
   "execution_count": 24,
   "id": "f5e37ae1-2fd1-4ed5-b126-6562c70b26a8",
   "metadata": {},
   "outputs": [
    {
     "name": "stdout",
     "output_type": "stream",
     "text": [
      "Best p:  2\n",
      "Best k: 3\n",
      "Best score:  0.9916666666666667\n",
      "CPU times: total: 55.4 s\n",
      "Wall time: 10.7 s\n"
     ]
    }
   ],
   "source": [
    "%%time\n",
    "\n",
    "import numpy as np\n",
    "import matplotlib\n",
    "import matplotlib.pyplot as plt\n",
    "from sklearn import datasets\n",
    "from sklearn.neighbors import KNeighborsClassifier\n",
    "from sklearn.model_selection import train_test_split\n",
    "\n",
    "digits = datasets.load_digits()\n",
    "X_train, X_test, y_train, y_test = train_test_split(digits.data, digits.target, test_size=0.2, random_state=666)\n",
    "\n",
    "best_p = 1\n",
    "best_score =  0.0\n",
    "best_k = -1\n",
    "\n",
    "for _p in range(1, 6):\n",
    "    for k in range(1, 11):\n",
    "        knn_clf = KNeighborsClassifier(n_neighbors = k, weights = 'distance', p = _p)\n",
    "        knn_clf.fit(X_train, y_train)\n",
    "        score = knn_clf.score(X_test, y_test)\n",
    "        if score > best_score:\n",
    "            best_score = score\n",
    "            best_k = k\n",
    "            best_p = _p\n",
    "            \n",
    "print('Best p: ', best_p)\n",
    "print('Best k:', best_k)\n",
    "print('Best score: ', best_score)"
   ]
  },
  {
   "cell_type": "markdown",
   "id": "b83b5178-467f-445f-a851-de6e9a28b358",
   "metadata": {},
   "source": [
    "## Grid search 网格搜索"
   ]
  },
  {
   "cell_type": "code",
   "execution_count": 25,
   "id": "f8efccfd-a174-40de-9d3a-9f15d8c2e0d3",
   "metadata": {},
   "outputs": [
    {
     "data": {
      "text/plain": [
       "{'algorithm': 'auto',\n",
       " 'leaf_size': 30,\n",
       " 'metric': 'minkowski',\n",
       " 'metric_params': None,\n",
       " 'n_jobs': None,\n",
       " 'n_neighbors': 10,\n",
       " 'p': 5,\n",
       " 'weights': 'distance'}"
      ]
     },
     "execution_count": 25,
     "metadata": {},
     "output_type": "execute_result"
    }
   ],
   "source": [
    "knn_clf.get_params()"
   ]
  },
  {
   "cell_type": "code",
   "execution_count": 26,
   "id": "67ad7ce7-0db6-4896-9d97-55ff5726278e",
   "metadata": {},
   "outputs": [],
   "source": [
    "X = np.array([[1, 2], [3, 4], [5, 6]])\n",
    "Y = np.array([[7, 8], [9, 10]])\n",
    "\n"
   ]
  },
  {
   "cell_type": "code",
   "execution_count": 27,
   "id": "f46ecf0f-aaef-4169-b14b-f15900f70c48",
   "metadata": {},
   "outputs": [
    {
     "data": {
      "text/plain": [
       "array([[1, 2],\n",
       "       [3, 4],\n",
       "       [5, 6]])"
      ]
     },
     "execution_count": 27,
     "metadata": {},
     "output_type": "execute_result"
    }
   ],
   "source": [
    "X"
   ]
  },
  {
   "cell_type": "code",
   "execution_count": 28,
   "id": "cf4d585e-9d42-4995-892f-3f96fdfc1beb",
   "metadata": {},
   "outputs": [
    {
     "data": {
      "text/plain": [
       "array([[ 7,  8],\n",
       "       [ 9, 10]])"
      ]
     },
     "execution_count": 28,
     "metadata": {},
     "output_type": "execute_result"
    }
   ],
   "source": [
    "Y"
   ]
  },
  {
   "cell_type": "code",
   "execution_count": 29,
   "id": "a07606c2-9085-40b5-a8da-c9b928a96e0a",
   "metadata": {},
   "outputs": [
    {
     "ename": "ValueError",
     "evalue": "operands could not be broadcast together with shapes (3,2) (2,2) ",
     "output_type": "error",
     "traceback": [
      "\u001b[1;31m---------------------------------------------------------------------------\u001b[0m",
      "\u001b[1;31mValueError\u001b[0m                                Traceback (most recent call last)",
      "Cell \u001b[1;32mIn[29], line 1\u001b[0m\n\u001b[1;32m----> 1\u001b[0m X\u001b[38;5;241m*\u001b[39mY\u001b[38;5;241m.\u001b[39mT\n",
      "\u001b[1;31mValueError\u001b[0m: operands could not be broadcast together with shapes (3,2) (2,2) "
     ]
    }
   ],
   "source": [
    "X*Y.T"
   ]
  },
  {
   "cell_type": "code",
   "execution_count": 30,
   "id": "f5fc59e3-f631-4c76-8862-7c23ead95eef",
   "metadata": {},
   "outputs": [
    {
     "data": {
      "text/plain": [
       "array([[ 7,  9],\n",
       "       [ 8, 10]])"
      ]
     },
     "execution_count": 30,
     "metadata": {},
     "output_type": "execute_result"
    }
   ],
   "source": [
    "Y.T"
   ]
  },
  {
   "cell_type": "code",
   "execution_count": 31,
   "id": "24c7213a-1349-4547-ac0e-1f1fe31a46f3",
   "metadata": {},
   "outputs": [
    {
     "ename": "ValueError",
     "evalue": "operands could not be broadcast together with shapes (3,2) (2,2) ",
     "output_type": "error",
     "traceback": [
      "\u001b[1;31m---------------------------------------------------------------------------\u001b[0m",
      "\u001b[1;31mValueError\u001b[0m                                Traceback (most recent call last)",
      "Cell \u001b[1;32mIn[31], line 1\u001b[0m\n\u001b[1;32m----> 1\u001b[0m X\u001b[38;5;241m*\u001b[39m(Y\u001b[38;5;241m.\u001b[39mT)\n",
      "\u001b[1;31mValueError\u001b[0m: operands could not be broadcast together with shapes (3,2) (2,2) "
     ]
    }
   ],
   "source": [
    "X*(Y.T)"
   ]
  },
  {
   "cell_type": "code",
   "execution_count": 32,
   "id": "ef8aeb9b-1b80-4077-bf50-5d72a8031826",
   "metadata": {},
   "outputs": [
    {
     "data": {
      "text/plain": [
       "array([[ 23,  29],\n",
       "       [ 53,  67],\n",
       "       [ 83, 105]])"
      ]
     },
     "execution_count": 32,
     "metadata": {},
     "output_type": "execute_result"
    }
   ],
   "source": [
    "np.dot(X, Y.T)\n",
    "    "
   ]
  },
  {
   "cell_type": "code",
   "execution_count": 35,
   "id": "63d9445e-f13e-4d90-8e48-5fca892be1ef",
   "metadata": {},
   "outputs": [],
   "source": [
    "from math import sqrt\n",
    "result = np.dot(X, Y.T)"
   ]
  },
  {
   "cell_type": "code",
   "execution_count": 36,
   "id": "da2d3e6b-9fb2-4ab5-b552-005ccf3a576f",
   "metadata": {},
   "outputs": [
    {
     "data": {
      "text/plain": [
       "array([[ 23,  29],\n",
       "       [ 53,  67],\n",
       "       [ 83, 105]])"
      ]
     },
     "execution_count": 36,
     "metadata": {},
     "output_type": "execute_result"
    }
   ],
   "source": [
    "result"
   ]
  },
  {
   "cell_type": "code",
   "execution_count": 37,
   "id": "67be1d67-6380-4529-9590-fd4de705ba82",
   "metadata": {},
   "outputs": [
    {
     "data": {
      "text/plain": [
       "4.795831523312719"
      ]
     },
     "execution_count": 37,
     "metadata": {},
     "output_type": "execute_result"
    }
   ],
   "source": [
    "sqrt(23)"
   ]
  },
  {
   "cell_type": "code",
   "execution_count": 39,
   "id": "5584788c-446c-43ee-9f4c-6c0365be4de5",
   "metadata": {},
   "outputs": [
    {
     "data": {
      "text/plain": [
       "array([[12., 16.],\n",
       "       [ 8., 12.],\n",
       "       [ 4.,  8.]])"
      ]
     },
     "execution_count": 39,
     "metadata": {},
     "output_type": "execute_result"
    }
   ],
   "source": [
    "from sklearn.metrics import DistanceMetric\n",
    "dist = DistanceMetric.get_metric('manhattan')\n",
    "dist.pairwise(X, Y)"
   ]
  },
  {
   "cell_type": "code",
   "execution_count": 40,
   "id": "1a275e3d-2de2-47a0-bcd0-46dcee22cf4c",
   "metadata": {},
   "outputs": [
    {
     "data": {
      "text/plain": [
       "array([[ 8.48528137, 11.3137085 ],\n",
       "       [ 5.65685425,  8.48528137],\n",
       "       [ 2.82842712,  5.65685425]])"
      ]
     },
     "execution_count": 40,
     "metadata": {},
     "output_type": "execute_result"
    }
   ],
   "source": [
    "X = [[1, 2], [3, 4], [5, 6]]\n",
    "Y = [[7, 8], [9, 10]]\n",
    "dist = DistanceMetric.get_metric('euclidean')\n",
    "dist.pairwise(X, Y)\n"
   ]
  },
  {
   "cell_type": "code",
   "execution_count": 44,
   "id": "dc03154c-1110-44fd-a6a1-18d527b1ff28",
   "metadata": {},
   "outputs": [
    {
     "data": {
      "text/plain": [
       "11.313708498984761"
      ]
     },
     "execution_count": 44,
     "metadata": {},
     "output_type": "execute_result"
    }
   ],
   "source": [
    "sqrt(128)\n",
    "\n",
    "\n"
   ]
  },
  {
   "cell_type": "code",
   "execution_count": 46,
   "id": "c9178760-e51a-4a78-b216-11b07572118c",
   "metadata": {},
   "outputs": [
    {
     "name": "stdout",
     "output_type": "stream",
     "text": [
      "8.48528137423857\n",
      "5.656854249492381\n",
      "2.8284271247461903\n",
      "11.313708498984761\n",
      "8.48528137423857\n",
      "5.656854249492381\n"
     ]
    }
   ],
   "source": [
    "for y in Y:\n",
    "    for x in X:\n",
    "        print(sqrt((y[0] - x[0])**2 + (y[1] - x[1])**2))\n"
   ]
  },
  {
   "cell_type": "code",
   "execution_count": null,
   "id": "f580d81d-5300-467c-b3c3-204b674332c0",
   "metadata": {},
   "outputs": [],
   "source": []
  }
 ],
 "metadata": {
  "kernelspec": {
   "display_name": "Python 3 (ipykernel)",
   "language": "python",
   "name": "python3"
  },
  "language_info": {
   "codemirror_mode": {
    "name": "ipython",
    "version": 3
   },
   "file_extension": ".py",
   "mimetype": "text/x-python",
   "name": "python",
   "nbconvert_exporter": "python",
   "pygments_lexer": "ipython3",
   "version": "3.11.7"
  }
 },
 "nbformat": 4,
 "nbformat_minor": 5
}
