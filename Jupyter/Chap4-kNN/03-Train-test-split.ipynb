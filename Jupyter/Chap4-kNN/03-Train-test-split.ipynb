{
 "cells": [
  {
   "cell_type": "markdown",
   "id": "c5db984c-6f8e-491d-ad60-7e104ec46d07",
   "metadata": {},
   "source": [
    "### 测试与训练数据集分离"
   ]
  },
  {
   "cell_type": "code",
   "execution_count": 164,
   "id": "d0c64f9f-9441-4d5c-b3f7-1cb47e9aad31",
   "metadata": {},
   "outputs": [
    {
     "name": "stdout",
     "output_type": "stream",
     "text": [
      "[2 0 1 2 0 0 1 2 2 2 0 2 0 2 0 1 2 1 2 2 1 2 0 0 2 0 1 1 1 0]\n",
      "[2 0 1 2 0 0 1 2 2 2 0 2 0 2 0 1 2 1 2 2 1 1 0 0 2 0 1 1 1 0]\n",
      "0.9666666666666667\n"
     ]
    }
   ],
   "source": [
    "import numpy as np\n",
    "import matplotlib.pyplot as plt\n",
    "from math import sqrt\n",
    "from sklearn import datasets\n",
    "iris = datasets.load_iris()\n",
    "X = iris.data\n",
    "y = iris.target\n",
    "%run PycharmProjects/playML/playML/model_selection.py\n",
    "X_train, X_test, y_train, y_test = train_test_split(X, y, 0.2)\n",
    "%run PycharmProjects/playML/playML/kNN_function.py\n",
    "kNN_clf = KNNClassifier(6)\n",
    "kNN_clf.fit(X_train, y_train)\n",
    "y_predict = kNN_clf.predict(X_test)\n",
    "print(y_predict)\n",
    "print(y_test)\n",
    "print (np.sum([y_predict == y_test])/len(y_test))"
   ]
  },
  {
   "cell_type": "code",
   "execution_count": 5,
   "id": "51b1e98c-4052-4e18-a8c7-3a5a21ff194e",
   "metadata": {},
   "outputs": [
    {
     "data": {
      "text/plain": [
       "(150, 4)"
      ]
     },
     "execution_count": 5,
     "metadata": {},
     "output_type": "execute_result"
    }
   ],
   "source": [
    "X.shape\n"
   ]
  },
  {
   "cell_type": "code",
   "execution_count": 6,
   "id": "e2ad9860-73c5-4ea4-8909-e6786159e735",
   "metadata": {},
   "outputs": [
    {
     "data": {
      "text/plain": [
       "(150,)"
      ]
     },
     "execution_count": 6,
     "metadata": {},
     "output_type": "execute_result"
    }
   ],
   "source": [
    "y.shape"
   ]
  },
  {
   "cell_type": "code",
   "execution_count": 78,
   "id": "4e6aada4-3e90-4623-8207-93015b86f76b",
   "metadata": {},
   "outputs": [
    {
     "data": {
      "text/plain": [
       "array([0, 0, 0, 0, 0, 0, 0, 0, 0, 0, 0, 0, 0, 0, 0, 0, 0, 0, 0, 0, 0, 0,\n",
       "       0, 0, 0, 0, 0, 0, 0, 0, 0, 0, 0, 0, 0, 0, 0, 0, 0, 0, 0, 0, 0, 0,\n",
       "       0, 0, 0, 0, 0, 0, 1, 1, 1, 1, 1, 1, 1, 1, 1, 1, 1, 1, 1, 1, 1, 1,\n",
       "       1, 1, 1, 1, 1, 1, 1, 1, 1, 1, 1, 1, 1, 1, 1, 1, 1, 1, 1, 1, 1, 1,\n",
       "       1, 1, 1, 1, 1, 1, 1, 1, 1, 1, 1, 1, 2, 2, 2, 2, 2, 2, 2, 2, 2, 2,\n",
       "       2, 2, 2, 2, 2, 2, 2, 2, 2, 2, 2, 2, 2, 2, 2, 2, 2, 2, 2, 2, 2, 2,\n",
       "       2, 2, 2, 2, 2, 2, 2, 2, 2, 2, 2, 2, 2, 2, 2, 2, 2, 2])"
      ]
     },
     "execution_count": 78,
     "metadata": {},
     "output_type": "execute_result"
    }
   ],
   "source": [
    "y"
   ]
  },
  {
   "cell_type": "code",
   "execution_count": 79,
   "id": "abcb245f-d261-4651-8384-151f390183c9",
   "metadata": {},
   "outputs": [
    {
     "data": {
      "text/plain": [
       "['T',\n",
       " '__abs__',\n",
       " '__add__',\n",
       " '__and__',\n",
       " '__array__',\n",
       " '__array_finalize__',\n",
       " '__array_function__',\n",
       " '__array_interface__',\n",
       " '__array_prepare__',\n",
       " '__array_priority__',\n",
       " '__array_struct__',\n",
       " '__array_ufunc__',\n",
       " '__array_wrap__',\n",
       " '__bool__',\n",
       " '__class__',\n",
       " '__class_getitem__',\n",
       " '__complex__',\n",
       " '__contains__',\n",
       " '__copy__',\n",
       " '__deepcopy__',\n",
       " '__delattr__',\n",
       " '__delitem__',\n",
       " '__dir__',\n",
       " '__divmod__',\n",
       " '__dlpack__',\n",
       " '__dlpack_device__',\n",
       " '__doc__',\n",
       " '__eq__',\n",
       " '__float__',\n",
       " '__floordiv__',\n",
       " '__format__',\n",
       " '__ge__',\n",
       " '__getattribute__',\n",
       " '__getitem__',\n",
       " '__getstate__',\n",
       " '__gt__',\n",
       " '__hash__',\n",
       " '__iadd__',\n",
       " '__iand__',\n",
       " '__ifloordiv__',\n",
       " '__ilshift__',\n",
       " '__imatmul__',\n",
       " '__imod__',\n",
       " '__imul__',\n",
       " '__index__',\n",
       " '__init__',\n",
       " '__init_subclass__',\n",
       " '__int__',\n",
       " '__invert__',\n",
       " '__ior__',\n",
       " '__ipow__',\n",
       " '__irshift__',\n",
       " '__isub__',\n",
       " '__iter__',\n",
       " '__itruediv__',\n",
       " '__ixor__',\n",
       " '__le__',\n",
       " '__len__',\n",
       " '__lshift__',\n",
       " '__lt__',\n",
       " '__matmul__',\n",
       " '__mod__',\n",
       " '__mul__',\n",
       " '__ne__',\n",
       " '__neg__',\n",
       " '__new__',\n",
       " '__or__',\n",
       " '__pos__',\n",
       " '__pow__',\n",
       " '__radd__',\n",
       " '__rand__',\n",
       " '__rdivmod__',\n",
       " '__reduce__',\n",
       " '__reduce_ex__',\n",
       " '__repr__',\n",
       " '__rfloordiv__',\n",
       " '__rlshift__',\n",
       " '__rmatmul__',\n",
       " '__rmod__',\n",
       " '__rmul__',\n",
       " '__ror__',\n",
       " '__rpow__',\n",
       " '__rrshift__',\n",
       " '__rshift__',\n",
       " '__rsub__',\n",
       " '__rtruediv__',\n",
       " '__rxor__',\n",
       " '__setattr__',\n",
       " '__setitem__',\n",
       " '__setstate__',\n",
       " '__sizeof__',\n",
       " '__str__',\n",
       " '__sub__',\n",
       " '__subclasshook__',\n",
       " '__truediv__',\n",
       " '__xor__',\n",
       " 'all',\n",
       " 'any',\n",
       " 'argmax',\n",
       " 'argmin',\n",
       " 'argpartition',\n",
       " 'argsort',\n",
       " 'astype',\n",
       " 'base',\n",
       " 'byteswap',\n",
       " 'choose',\n",
       " 'clip',\n",
       " 'compress',\n",
       " 'conj',\n",
       " 'conjugate',\n",
       " 'copy',\n",
       " 'ctypes',\n",
       " 'cumprod',\n",
       " 'cumsum',\n",
       " 'data',\n",
       " 'diagonal',\n",
       " 'dot',\n",
       " 'dtype',\n",
       " 'dump',\n",
       " 'dumps',\n",
       " 'fill',\n",
       " 'flags',\n",
       " 'flat',\n",
       " 'flatten',\n",
       " 'getfield',\n",
       " 'imag',\n",
       " 'item',\n",
       " 'itemset',\n",
       " 'itemsize',\n",
       " 'max',\n",
       " 'mean',\n",
       " 'min',\n",
       " 'nbytes',\n",
       " 'ndim',\n",
       " 'newbyteorder',\n",
       " 'nonzero',\n",
       " 'partition',\n",
       " 'prod',\n",
       " 'ptp',\n",
       " 'put',\n",
       " 'ravel',\n",
       " 'real',\n",
       " 'repeat',\n",
       " 'reshape',\n",
       " 'resize',\n",
       " 'round',\n",
       " 'searchsorted',\n",
       " 'setfield',\n",
       " 'setflags',\n",
       " 'shape',\n",
       " 'size',\n",
       " 'sort',\n",
       " 'squeeze',\n",
       " 'std',\n",
       " 'strides',\n",
       " 'sum',\n",
       " 'swapaxes',\n",
       " 'take',\n",
       " 'tobytes',\n",
       " 'tofile',\n",
       " 'tolist',\n",
       " 'tostring',\n",
       " 'trace',\n",
       " 'transpose',\n",
       " 'var',\n",
       " 'view']"
      ]
     },
     "execution_count": 79,
     "metadata": {},
     "output_type": "execute_result"
    }
   ],
   "source": [
    "dir(y)\n",
    "\n",
    "\n",
    "\n"
   ]
  },
  {
   "cell_type": "code",
   "execution_count": 81,
   "id": "ffb408a3-bc47-4823-aa34-25912f0e3715",
   "metadata": {},
   "outputs": [],
   "source": [
    "import random"
   ]
  },
  {
   "cell_type": "code",
   "execution_count": 82,
   "id": "29252094-e66e-4ab0-8363-6c829346f7b0",
   "metadata": {},
   "outputs": [],
   "source": [
    "y_shuffle = random.shuffle(y)"
   ]
  },
  {
   "cell_type": "code",
   "execution_count": 83,
   "id": "55ae9f8f-271e-44c3-8751-875a0e7ad8dd",
   "metadata": {},
   "outputs": [],
   "source": [
    "y_shuffle"
   ]
  },
  {
   "cell_type": "code",
   "execution_count": 84,
   "id": "141fcf92-7e47-4189-bec2-d66c1ef9fc0e",
   "metadata": {},
   "outputs": [
    {
     "data": {
      "text/plain": [
       "array([2, 0, 2, 2, 0, 1, 1, 1, 2, 2, 1, 2, 2, 2, 0, 1, 0, 2, 1, 1, 1, 1,\n",
       "       2, 2, 0, 0, 0, 2, 0, 0, 1, 1, 2, 2, 1, 1, 0, 2, 1, 0, 0, 0, 1, 0,\n",
       "       0, 0, 0, 1, 0, 2, 2, 0, 0, 0, 1, 0, 0, 0, 0, 1, 1, 2, 1, 2, 1, 2,\n",
       "       2, 0, 0, 0, 1, 1, 0, 2, 0, 0, 0, 1, 0, 1, 1, 1, 1, 0, 2, 2, 0, 0,\n",
       "       1, 2, 1, 2, 0, 2, 1, 0, 2, 1, 2, 2, 2, 0, 1, 0, 0, 0, 2, 1, 1, 2,\n",
       "       2, 0, 1, 2, 2, 2, 1, 1, 0, 1, 1, 2, 1, 1, 0, 0, 2, 2, 1, 1, 2, 1,\n",
       "       2, 2, 1, 1, 0, 2, 0, 2, 2, 1, 0, 1, 2, 2, 2, 2, 1, 0])"
      ]
     },
     "execution_count": 84,
     "metadata": {},
     "output_type": "execute_result"
    }
   ],
   "source": [
    "y"
   ]
  },
  {
   "cell_type": "code",
   "execution_count": 85,
   "id": "3950b1fa-e3cd-40f3-a5e0-de9fd1c78cea",
   "metadata": {},
   "outputs": [
    {
     "data": {
      "text/plain": [
       "array([[5.1, 3.5, 1.4, 0.2],\n",
       "       [4.9, 3. , 1.4, 0.2],\n",
       "       [4.7, 3.2, 1.3, 0.2],\n",
       "       [4.6, 3.1, 1.5, 0.2],\n",
       "       [5. , 3.6, 1.4, 0.2],\n",
       "       [5.4, 3.9, 1.7, 0.4],\n",
       "       [4.6, 3.4, 1.4, 0.3],\n",
       "       [5. , 3.4, 1.5, 0.2],\n",
       "       [4.4, 2.9, 1.4, 0.2],\n",
       "       [4.9, 3.1, 1.5, 0.1],\n",
       "       [5.4, 3.7, 1.5, 0.2],\n",
       "       [4.8, 3.4, 1.6, 0.2],\n",
       "       [4.8, 3. , 1.4, 0.1],\n",
       "       [4.3, 3. , 1.1, 0.1],\n",
       "       [5.8, 4. , 1.2, 0.2],\n",
       "       [5.7, 4.4, 1.5, 0.4],\n",
       "       [5.4, 3.9, 1.3, 0.4],\n",
       "       [5.1, 3.5, 1.4, 0.3],\n",
       "       [5.7, 3.8, 1.7, 0.3],\n",
       "       [5.1, 3.8, 1.5, 0.3],\n",
       "       [5.4, 3.4, 1.7, 0.2],\n",
       "       [5.1, 3.7, 1.5, 0.4],\n",
       "       [4.6, 3.6, 1. , 0.2],\n",
       "       [5.1, 3.3, 1.7, 0.5],\n",
       "       [4.8, 3.4, 1.9, 0.2],\n",
       "       [5. , 3. , 1.6, 0.2],\n",
       "       [5. , 3.4, 1.6, 0.4],\n",
       "       [5.2, 3.5, 1.5, 0.2],\n",
       "       [5.2, 3.4, 1.4, 0.2],\n",
       "       [4.7, 3.2, 1.6, 0.2],\n",
       "       [4.8, 3.1, 1.6, 0.2],\n",
       "       [5.4, 3.4, 1.5, 0.4],\n",
       "       [5.2, 4.1, 1.5, 0.1],\n",
       "       [5.5, 4.2, 1.4, 0.2],\n",
       "       [4.9, 3.1, 1.5, 0.2],\n",
       "       [5. , 3.2, 1.2, 0.2],\n",
       "       [5.5, 3.5, 1.3, 0.2],\n",
       "       [4.9, 3.6, 1.4, 0.1],\n",
       "       [4.4, 3. , 1.3, 0.2],\n",
       "       [5.1, 3.4, 1.5, 0.2],\n",
       "       [5. , 3.5, 1.3, 0.3],\n",
       "       [4.5, 2.3, 1.3, 0.3],\n",
       "       [4.4, 3.2, 1.3, 0.2],\n",
       "       [5. , 3.5, 1.6, 0.6],\n",
       "       [5.1, 3.8, 1.9, 0.4],\n",
       "       [4.8, 3. , 1.4, 0.3],\n",
       "       [5.1, 3.8, 1.6, 0.2],\n",
       "       [4.6, 3.2, 1.4, 0.2],\n",
       "       [5.3, 3.7, 1.5, 0.2],\n",
       "       [5. , 3.3, 1.4, 0.2],\n",
       "       [7. , 3.2, 4.7, 1.4],\n",
       "       [6.4, 3.2, 4.5, 1.5],\n",
       "       [6.9, 3.1, 4.9, 1.5],\n",
       "       [5.5, 2.3, 4. , 1.3],\n",
       "       [6.5, 2.8, 4.6, 1.5],\n",
       "       [5.7, 2.8, 4.5, 1.3],\n",
       "       [6.3, 3.3, 4.7, 1.6],\n",
       "       [4.9, 2.4, 3.3, 1. ],\n",
       "       [6.6, 2.9, 4.6, 1.3],\n",
       "       [5.2, 2.7, 3.9, 1.4],\n",
       "       [5. , 2. , 3.5, 1. ],\n",
       "       [5.9, 3. , 4.2, 1.5],\n",
       "       [6. , 2.2, 4. , 1. ],\n",
       "       [6.1, 2.9, 4.7, 1.4],\n",
       "       [5.6, 2.9, 3.6, 1.3],\n",
       "       [6.7, 3.1, 4.4, 1.4],\n",
       "       [5.6, 3. , 4.5, 1.5],\n",
       "       [5.8, 2.7, 4.1, 1. ],\n",
       "       [6.2, 2.2, 4.5, 1.5],\n",
       "       [5.6, 2.5, 3.9, 1.1],\n",
       "       [5.9, 3.2, 4.8, 1.8],\n",
       "       [6.1, 2.8, 4. , 1.3],\n",
       "       [6.3, 2.5, 4.9, 1.5],\n",
       "       [6.1, 2.8, 4.7, 1.2],\n",
       "       [6.4, 2.9, 4.3, 1.3],\n",
       "       [6.6, 3. , 4.4, 1.4],\n",
       "       [6.8, 2.8, 4.8, 1.4],\n",
       "       [6.7, 3. , 5. , 1.7],\n",
       "       [6. , 2.9, 4.5, 1.5],\n",
       "       [5.7, 2.6, 3.5, 1. ],\n",
       "       [5.5, 2.4, 3.8, 1.1],\n",
       "       [5.5, 2.4, 3.7, 1. ],\n",
       "       [5.8, 2.7, 3.9, 1.2],\n",
       "       [6. , 2.7, 5.1, 1.6],\n",
       "       [5.4, 3. , 4.5, 1.5],\n",
       "       [6. , 3.4, 4.5, 1.6],\n",
       "       [6.7, 3.1, 4.7, 1.5],\n",
       "       [6.3, 2.3, 4.4, 1.3],\n",
       "       [5.6, 3. , 4.1, 1.3],\n",
       "       [5.5, 2.5, 4. , 1.3],\n",
       "       [5.5, 2.6, 4.4, 1.2],\n",
       "       [6.1, 3. , 4.6, 1.4],\n",
       "       [5.8, 2.6, 4. , 1.2],\n",
       "       [5. , 2.3, 3.3, 1. ],\n",
       "       [5.6, 2.7, 4.2, 1.3],\n",
       "       [5.7, 3. , 4.2, 1.2],\n",
       "       [5.7, 2.9, 4.2, 1.3],\n",
       "       [6.2, 2.9, 4.3, 1.3],\n",
       "       [5.1, 2.5, 3. , 1.1],\n",
       "       [5.7, 2.8, 4.1, 1.3],\n",
       "       [6.3, 3.3, 6. , 2.5],\n",
       "       [5.8, 2.7, 5.1, 1.9],\n",
       "       [7.1, 3. , 5.9, 2.1],\n",
       "       [6.3, 2.9, 5.6, 1.8],\n",
       "       [6.5, 3. , 5.8, 2.2],\n",
       "       [7.6, 3. , 6.6, 2.1],\n",
       "       [4.9, 2.5, 4.5, 1.7],\n",
       "       [7.3, 2.9, 6.3, 1.8],\n",
       "       [6.7, 2.5, 5.8, 1.8],\n",
       "       [7.2, 3.6, 6.1, 2.5],\n",
       "       [6.5, 3.2, 5.1, 2. ],\n",
       "       [6.4, 2.7, 5.3, 1.9],\n",
       "       [6.8, 3. , 5.5, 2.1],\n",
       "       [5.7, 2.5, 5. , 2. ],\n",
       "       [5.8, 2.8, 5.1, 2.4],\n",
       "       [6.4, 3.2, 5.3, 2.3],\n",
       "       [6.5, 3. , 5.5, 1.8],\n",
       "       [7.7, 3.8, 6.7, 2.2],\n",
       "       [7.7, 2.6, 6.9, 2.3],\n",
       "       [6. , 2.2, 5. , 1.5],\n",
       "       [6.9, 3.2, 5.7, 2.3],\n",
       "       [5.6, 2.8, 4.9, 2. ],\n",
       "       [7.7, 2.8, 6.7, 2. ],\n",
       "       [6.3, 2.7, 4.9, 1.8],\n",
       "       [6.7, 3.3, 5.7, 2.1],\n",
       "       [7.2, 3.2, 6. , 1.8],\n",
       "       [6.2, 2.8, 4.8, 1.8],\n",
       "       [6.1, 3. , 4.9, 1.8],\n",
       "       [6.4, 2.8, 5.6, 2.1],\n",
       "       [7.2, 3. , 5.8, 1.6],\n",
       "       [7.4, 2.8, 6.1, 1.9],\n",
       "       [7.9, 3.8, 6.4, 2. ],\n",
       "       [6.4, 2.8, 5.6, 2.2],\n",
       "       [6.3, 2.8, 5.1, 1.5],\n",
       "       [6.1, 2.6, 5.6, 1.4],\n",
       "       [7.7, 3. , 6.1, 2.3],\n",
       "       [6.3, 3.4, 5.6, 2.4],\n",
       "       [6.4, 3.1, 5.5, 1.8],\n",
       "       [6. , 3. , 4.8, 1.8],\n",
       "       [6.9, 3.1, 5.4, 2.1],\n",
       "       [6.7, 3.1, 5.6, 2.4],\n",
       "       [6.9, 3.1, 5.1, 2.3],\n",
       "       [5.8, 2.7, 5.1, 1.9],\n",
       "       [6.8, 3.2, 5.9, 2.3],\n",
       "       [6.7, 3.3, 5.7, 2.5],\n",
       "       [6.7, 3. , 5.2, 2.3],\n",
       "       [6.3, 2.5, 5. , 1.9],\n",
       "       [6.5, 3. , 5.2, 2. ],\n",
       "       [6.2, 3.4, 5.4, 2.3],\n",
       "       [5.9, 3. , 5.1, 1.8]])"
      ]
     },
     "execution_count": 85,
     "metadata": {},
     "output_type": "execute_result"
    }
   ],
   "source": [
    "X"
   ]
  },
  {
   "cell_type": "code",
   "execution_count": 87,
   "id": "d17aa9bf-716c-4389-8215-2c45693b20d3",
   "metadata": {},
   "outputs": [],
   "source": [
    "shuffle_index = np.random.permutation(len(X))\n"
   ]
  },
  {
   "cell_type": "code",
   "execution_count": 88,
   "id": "86e1f28a-c220-4ab6-9dd8-57f18fc2f3b1",
   "metadata": {},
   "outputs": [
    {
     "data": {
      "text/plain": [
       "150"
      ]
     },
     "execution_count": 88,
     "metadata": {},
     "output_type": "execute_result"
    }
   ],
   "source": [
    "len(X)"
   ]
  },
  {
   "cell_type": "code",
   "execution_count": 89,
   "id": "8764c870-6a39-449f-8fb1-667d486fa3c4",
   "metadata": {},
   "outputs": [
    {
     "data": {
      "text/plain": [
       "array([ 92,  28, 100,  79, 115, 131, 109,   6,   0,  66,  90,  86,  55,\n",
       "        51,  36,  64,  49,  70,  16,  14,  56,  54, 120,  74,  34,  21,\n",
       "        69, 126,  13, 135,  97, 148, 119,  11,  30, 145, 143,  26, 113,\n",
       "        59,  95, 118,  87, 130, 128,  53,  47, 106,  17,  57, 141,  18,\n",
       "        50,  83,  44,  22, 144,  89, 149,   1,  81, 127, 125,  91,   5,\n",
       "        61,  88,  99, 122,  93,   9,  33,  98,   2,  23, 133, 116, 136,\n",
       "       110,  80,  72, 147, 138,  60,   3,   4,  63,  25, 101,  48,  84,\n",
       "        37,  45, 104,  43,  77,  96, 132,  85,  29, 111,  75, 102,  40,\n",
       "        41,  62,  67, 146, 103,   8, 139, 121, 108,  78,  82,  94, 134,\n",
       "        35, 123,  46, 117,  42, 124,   7,  52,  12, 140, 142,  73,  58,\n",
       "        68,  10,  31,  39, 112,  76,  15,  65,  27, 137,  38,  19,  32,\n",
       "       107,  71, 129,  20,  24, 105, 114])"
      ]
     },
     "execution_count": 89,
     "metadata": {},
     "output_type": "execute_result"
    }
   ],
   "source": [
    "shuffle_index"
   ]
  },
  {
   "cell_type": "code",
   "execution_count": 90,
   "id": "c0b3ed5b-7a82-4d59-917e-1d51213ce727",
   "metadata": {},
   "outputs": [
    {
     "data": {
      "text/plain": [
       "array([147,  11,  17,   8,  47,  21, 129,  63, 141,   5,  89,  85,  33,\n",
       "       107,  50,  18,  42,  45,  64,  74, 144,  55,  37,  26,  44, 139,\n",
       "       114,  62, 102, 132, 112,  28,  75, 106,   2,  86,  16,   4,  79,\n",
       "        71, 131, 130, 140,  60, 110,  23, 126,  38, 115, 125,  43,  76,\n",
       "        35, 136,   0,  40, 134, 123,  54,   3,  13,   7,  91,  94, 109,\n",
       "        29,  99, 145,  19,  84,  93, 137,  72,  69,  92, 128,  58,  98,\n",
       "        82,  68,  59,  41,  20, 133,  56, 120,  83,  97,  90, 100, 127,\n",
       "        70,  48, 103,  10,  73, 113,  30,  61,  95,  36, 138, 117,  87,\n",
       "        96,  25,  88,   6, 142, 101,  77, 118,  32,  67, 146,  31,  57,\n",
       "        12,  27, 135,  81, 122,  52, 124,   1, 108, 148,  80, 149, 121,\n",
       "        14,  24,  66,  34, 104,  49,  53,  22, 111,  51,   9, 119,  78,\n",
       "        65, 116, 143,  46,  15,  39, 105])"
      ]
     },
     "execution_count": 90,
     "metadata": {},
     "output_type": "execute_result"
    }
   ],
   "source": [
    "np.random.permutation(len(X))"
   ]
  },
  {
   "cell_type": "code",
   "execution_count": 91,
   "id": "6ae5fc65-d3b1-4e0d-8c98-2761b607bf84",
   "metadata": {},
   "outputs": [],
   "source": [
    "test_ratio = 0.2"
   ]
  },
  {
   "cell_type": "code",
   "execution_count": 92,
   "id": "7650409f-fa10-49d4-b1e5-f5b30df64a70",
   "metadata": {},
   "outputs": [],
   "source": [
    "test_size = int(test_ratio * len(X))"
   ]
  },
  {
   "cell_type": "code",
   "execution_count": 93,
   "id": "09168651-4339-4649-ac6a-6746fd95cca0",
   "metadata": {},
   "outputs": [
    {
     "data": {
      "text/plain": [
       "30"
      ]
     },
     "execution_count": 93,
     "metadata": {},
     "output_type": "execute_result"
    }
   ],
   "source": [
    "test_size\n"
   ]
  },
  {
   "cell_type": "code",
   "execution_count": 94,
   "id": "21b28305-22eb-4ce6-a266-c17856857e33",
   "metadata": {},
   "outputs": [],
   "source": [
    "test_indexes = shuffle_index[:test_size]"
   ]
  },
  {
   "cell_type": "code",
   "execution_count": 95,
   "id": "199a4b5a-46c8-402c-8966-31493258e3a3",
   "metadata": {},
   "outputs": [
    {
     "data": {
      "text/plain": [
       "array([ 92,  28, 100,  79, 115, 131, 109,   6,   0,  66,  90,  86,  55,\n",
       "        51,  36,  64,  49,  70,  16,  14,  56,  54, 120,  74,  34,  21,\n",
       "        69, 126,  13, 135])"
      ]
     },
     "execution_count": 95,
     "metadata": {},
     "output_type": "execute_result"
    }
   ],
   "source": [
    "test_indexes"
   ]
  },
  {
   "cell_type": "code",
   "execution_count": 96,
   "id": "594d095e-4c00-438b-8615-82fd3d9b7ce4",
   "metadata": {},
   "outputs": [
    {
     "data": {
      "text/plain": [
       "array([ 92,  28, 100,  79, 115, 131, 109,   6,   0,  66,  90,  86,  55,\n",
       "        51,  36,  64,  49,  70,  16,  14,  56,  54, 120,  74,  34,  21,\n",
       "        69, 126,  13, 135,  97, 148, 119,  11,  30, 145, 143,  26, 113,\n",
       "        59,  95, 118,  87, 130, 128,  53,  47, 106,  17,  57, 141,  18,\n",
       "        50,  83,  44,  22, 144,  89, 149,   1,  81, 127, 125,  91,   5,\n",
       "        61,  88,  99, 122,  93,   9,  33,  98,   2,  23, 133, 116, 136,\n",
       "       110,  80,  72, 147, 138,  60,   3,   4,  63,  25, 101,  48,  84,\n",
       "        37,  45, 104,  43,  77,  96, 132,  85,  29, 111,  75, 102,  40,\n",
       "        41,  62,  67, 146, 103,   8, 139, 121, 108,  78,  82,  94, 134,\n",
       "        35, 123,  46, 117,  42, 124,   7,  52,  12, 140, 142,  73,  58,\n",
       "        68,  10,  31,  39, 112,  76,  15,  65,  27, 137,  38,  19,  32,\n",
       "       107,  71, 129,  20,  24, 105, 114])"
      ]
     },
     "execution_count": 96,
     "metadata": {},
     "output_type": "execute_result"
    }
   ],
   "source": [
    "shuffle_index"
   ]
  },
  {
   "cell_type": "code",
   "execution_count": 97,
   "id": "142e7041-d6de-49dd-9f90-8806706599b5",
   "metadata": {},
   "outputs": [],
   "source": [
    "train_indexes = shuffle_index[test_size:]"
   ]
  },
  {
   "cell_type": "code",
   "execution_count": 98,
   "id": "deda5c49-fbe9-43e0-99db-68f1446f98f1",
   "metadata": {},
   "outputs": [
    {
     "data": {
      "text/plain": [
       "array([ 97, 148, 119,  11,  30, 145, 143,  26, 113,  59,  95, 118,  87,\n",
       "       130, 128,  53,  47, 106,  17,  57, 141,  18,  50,  83,  44,  22,\n",
       "       144,  89, 149,   1,  81, 127, 125,  91,   5,  61,  88,  99, 122,\n",
       "        93,   9,  33,  98,   2,  23, 133, 116, 136, 110,  80,  72, 147,\n",
       "       138,  60,   3,   4,  63,  25, 101,  48,  84,  37,  45, 104,  43,\n",
       "        77,  96, 132,  85,  29, 111,  75, 102,  40,  41,  62,  67, 146,\n",
       "       103,   8, 139, 121, 108,  78,  82,  94, 134,  35, 123,  46, 117,\n",
       "        42, 124,   7,  52,  12, 140, 142,  73,  58,  68,  10,  31,  39,\n",
       "       112,  76,  15,  65,  27, 137,  38,  19,  32, 107,  71, 129,  20,\n",
       "        24, 105, 114])"
      ]
     },
     "execution_count": 98,
     "metadata": {},
     "output_type": "execute_result"
    }
   ],
   "source": [
    "train_indexes"
   ]
  },
  {
   "cell_type": "code",
   "execution_count": 99,
   "id": "d87a480a-5c40-48af-af72-9fd9c5a87911",
   "metadata": {},
   "outputs": [
    {
     "data": {
      "text/plain": [
       "120"
      ]
     },
     "execution_count": 99,
     "metadata": {},
     "output_type": "execute_result"
    }
   ],
   "source": [
    "len(train_indexes)"
   ]
  },
  {
   "cell_type": "code",
   "execution_count": 100,
   "id": "e7d25e17-d29e-4dd3-8ff5-dd33a38c7d3a",
   "metadata": {},
   "outputs": [
    {
     "data": {
      "text/plain": [
       "30"
      ]
     },
     "execution_count": 100,
     "metadata": {},
     "output_type": "execute_result"
    }
   ],
   "source": [
    "len(test_indexes)"
   ]
  },
  {
   "cell_type": "code",
   "execution_count": 101,
   "id": "8029653e-88e7-4b28-a556-4fdcfca7938c",
   "metadata": {},
   "outputs": [],
   "source": [
    "X_train = X[train_indexes]\n",
    "y_train = y[train_indexes]"
   ]
  },
  {
   "cell_type": "code",
   "execution_count": 102,
   "id": "9a05ceaa-6e25-4f0b-a8b9-9541ffd4bc7a",
   "metadata": {},
   "outputs": [],
   "source": [
    "X_test = X[test_indexes]\n",
    "y_test = y[test_indexes]"
   ]
  },
  {
   "cell_type": "code",
   "execution_count": 103,
   "id": "89714b0f-a221-4c93-ade8-1144bfdea8e0",
   "metadata": {},
   "outputs": [
    {
     "data": {
      "text/plain": [
       "120"
      ]
     },
     "execution_count": 103,
     "metadata": {},
     "output_type": "execute_result"
    }
   ],
   "source": [
    "len(X_train)"
   ]
  },
  {
   "cell_type": "code",
   "execution_count": 104,
   "id": "5470f50b-410d-4714-aa3e-bf78ffadd43c",
   "metadata": {},
   "outputs": [
    {
     "data": {
      "text/plain": [
       "(120, 4)"
      ]
     },
     "execution_count": 104,
     "metadata": {},
     "output_type": "execute_result"
    }
   ],
   "source": [
    "X_train.shape"
   ]
  },
  {
   "cell_type": "code",
   "execution_count": 130,
   "id": "7f2f975f-9f0a-43da-9fe7-fe0195d4e5b1",
   "metadata": {},
   "outputs": [],
   "source": [
    "%run PycharmProjects/playML/playML/model_selection.py\n"
   ]
  },
  {
   "cell_type": "code",
   "execution_count": 131,
   "id": "6fd6fd9d-3017-44dc-ba46-e85a7803414f",
   "metadata": {},
   "outputs": [
    {
     "data": {
      "text/plain": [
       "<function __main__.train_test_split(X, y, test_ratio=0.2, seed=None)>"
      ]
     },
     "execution_count": 131,
     "metadata": {},
     "output_type": "execute_result"
    }
   ],
   "source": [
    "train_test_split"
   ]
  },
  {
   "cell_type": "code",
   "execution_count": 150,
   "id": "2e2e3570-b926-4b8c-8892-da633dbd5ffb",
   "metadata": {},
   "outputs": [
    {
     "name": "stdout",
     "output_type": "stream",
     "text": [
      "[0 0 0 0 0 0 0 0 0 0 0 0 0 0 0 0 0 0 0 0 0 0 0 0 0 0 0 0 0 0 0 0 0 0 0 0 0\n",
      " 0 0 0 0 0 0 0 0 0 0 0 0 0 1 1 1 1 1 1 1 1 1 1 1 1 1 1 1 1 1 1 1 1 1 1 1 1\n",
      " 1 1 1 1 1 1 1 1 1 1 1 1 1 1 1 1 1 1 1 1 1 1 1 1 1 1 2 2 2 2 2 2 2 2 2 2 2\n",
      " 2 2 2 2 2 2 2 2 2 2 2 2 2 2 2 2 2 2 2 2 2 2 2 2 2 2 2 2 2 2 2 2 2 2 2 2 2\n",
      " 2 2]\n",
      "150\n"
     ]
    }
   ],
   "source": [
    "X = iris.data\n",
    "y = iris.target\n",
    "print (y)\n",
    "print (len(y))\n",
    "X_train, X_test, y_train, y_test = train_test_split(X, y, 0.2, 666)\n"
   ]
  },
  {
   "cell_type": "code",
   "execution_count": 151,
   "id": "705bb1c1-50e1-4b79-8287-87b4dff9ae2b",
   "metadata": {},
   "outputs": [
    {
     "name": "stdout",
     "output_type": "stream",
     "text": [
      "[0 0 0 0 0 0 0 0 0 0 0 0 0 0 0 0 0 0 0 0 0 0 0 0 0 0 0 0 0 0 0 0 0 0 0 0 0\n",
      " 0 0 0 0 0 0 0 0 0 0 0 0 0 1 1 1 1 1 1 1 1 1 1 1 1 1 1 1 1 1 1 1 1 1 1 1 1\n",
      " 1 1 1 1 1 1 1 1 1 1 1 1 1 1 1 1 1 1 1 1 1 1 1 1 1 1 2 2 2 2 2 2 2 2 2 2 2\n",
      " 2 2 2 2 2 2 2 2 2 2 2 2 2 2 2 2 2 2 2 2 2 2 2 2 2 2 2 2 2 2 2 2 2 2 2 2 2\n",
      " 2 2]\n",
      "[0 0 1 2 1 1 2 2 0 1 2 2 1 1 0 0 0 0 1 0 0 2 1 1 1 0 0 2 2 1 2 0 1 1 0 1 0\n",
      " 0 2 2 2 1 1 2 2 0 1 2 0 0 2 0 2 2 0 1 0 0 0 1 1 1 0 0 2 1 2 2 2 2 0 2 2 1\n",
      " 1 2 2 1 2 1 0 2 0 1 1 2 0 2 2 0 2 2 1 0 0 2 0 0 0 1 0 2 1 2 0 0 0 2 2 1 0\n",
      " 0 1 0 1 1 1 1 1 2]\n",
      "[1 2 1 2 0 1 1 2 1 1 1 0 0 0 2 1 0 2 2 2 1 0 2 0 1 1 0 1 2 2]\n"
     ]
    }
   ],
   "source": [
    "print(y)\n",
    "print(y_train)\n",
    "print(y_test)\n"
   ]
  },
  {
   "cell_type": "code",
   "execution_count": 152,
   "id": "04e3c3ab-6724-4fd6-8be8-986bb633f391",
   "metadata": {},
   "outputs": [],
   "source": [
    "%run PycharmProjects/playML/playML/kNN_function.py"
   ]
  },
  {
   "cell_type": "code",
   "execution_count": 153,
   "id": "038f438f-d41d-47b4-9fe1-c75917d7bfa9",
   "metadata": {},
   "outputs": [
    {
     "data": {
      "text/plain": [
       "KNN(k = 6)"
      ]
     },
     "execution_count": 153,
     "metadata": {},
     "output_type": "execute_result"
    }
   ],
   "source": [
    "kNN_clf = KNNClassifier(6)\n",
    "\n",
    "kNN_clf.fit(X_train, y_train)\n"
   ]
  },
  {
   "cell_type": "code",
   "execution_count": 154,
   "id": "633db2e7-0b3c-469b-8c32-4009c95aed98",
   "metadata": {},
   "outputs": [],
   "source": [
    "y_predict = kNN_clf.predict(X_test)"
   ]
  },
  {
   "cell_type": "code",
   "execution_count": 155,
   "id": "97c1c99c-2af9-418b-a5ba-8770ffb10cdd",
   "metadata": {},
   "outputs": [
    {
     "data": {
      "text/plain": [
       "array([1, 2, 1, 2, 0, 1, 1, 2, 1, 1, 1, 0, 0, 0, 2, 1, 0, 2, 2, 2, 1, 0,\n",
       "       2, 0, 1, 1, 0, 1, 2, 2])"
      ]
     },
     "execution_count": 155,
     "metadata": {},
     "output_type": "execute_result"
    }
   ],
   "source": [
    "y_predict"
   ]
  },
  {
   "cell_type": "code",
   "execution_count": 156,
   "id": "32cc4fe0-a338-4f41-854b-4dcc9702e101",
   "metadata": {},
   "outputs": [
    {
     "data": {
      "text/plain": [
       "array([1, 2, 1, 2, 0, 1, 1, 2, 1, 1, 1, 0, 0, 0, 2, 1, 0, 2, 2, 2, 1, 0,\n",
       "       2, 0, 1, 1, 0, 1, 2, 2])"
      ]
     },
     "execution_count": 156,
     "metadata": {},
     "output_type": "execute_result"
    }
   ],
   "source": [
    "y_test"
   ]
  },
  {
   "cell_type": "code",
   "execution_count": 157,
   "id": "55093b47-71e5-4a89-a5f0-59e7f70e133a",
   "metadata": {},
   "outputs": [],
   "source": [
    "result = [y_predict == y_test]"
   ]
  },
  {
   "cell_type": "code",
   "execution_count": 158,
   "id": "c39ab0a9-4ddc-474a-97c9-e04ba6f46aa6",
   "metadata": {},
   "outputs": [
    {
     "data": {
      "text/plain": [
       "[array([ True,  True,  True,  True,  True,  True,  True,  True,  True,\n",
       "         True,  True,  True,  True,  True,  True,  True,  True,  True,\n",
       "         True,  True,  True,  True,  True,  True,  True,  True,  True,\n",
       "         True,  True,  True])]"
      ]
     },
     "execution_count": 158,
     "metadata": {},
     "output_type": "execute_result"
    }
   ],
   "source": [
    "result"
   ]
  },
  {
   "cell_type": "code",
   "execution_count": 159,
   "id": "7d00c0ee-c11f-4821-bae5-7b066b92f709",
   "metadata": {},
   "outputs": [
    {
     "data": {
      "text/plain": [
       "30"
      ]
     },
     "execution_count": 159,
     "metadata": {},
     "output_type": "execute_result"
    }
   ],
   "source": [
    "np.sum(result)\n"
   ]
  },
  {
   "cell_type": "markdown",
   "id": "5e466b38-7d92-4aa6-9fb5-4472abf460a1",
   "metadata": {},
   "source": [
    "### Scikit learn test train split"
   ]
  },
  {
   "cell_type": "code",
   "execution_count": 165,
   "id": "449dd304-cac9-4e96-9cdc-8562d5d04027",
   "metadata": {},
   "outputs": [],
   "source": [
    "from sklearn.model_selection import train_test_split"
   ]
  },
  {
   "cell_type": "code",
   "execution_count": 169,
   "id": "f5e8515a-c683-4dd9-a1c0-18c0f2e07271",
   "metadata": {},
   "outputs": [],
   "source": [
    "X_train, X_test, y_train, y_test = train_test_split(X, y, test_size = 0.2, random_state = 100)\n"
   ]
  },
  {
   "cell_type": "code",
   "execution_count": 167,
   "id": "22088369-a0b7-413b-8c69-ae5b8dda35e8",
   "metadata": {},
   "outputs": [
    {
     "name": "stdout",
     "output_type": "stream",
     "text": [
      "(120, 4)\n"
     ]
    }
   ],
   "source": [
    "print(X_train.shape)\n"
   ]
  },
  {
   "cell_type": "code",
   "execution_count": 168,
   "id": "d284545e-dc09-4967-b873-77ad014d8c4b",
   "metadata": {},
   "outputs": [
    {
     "name": "stdout",
     "output_type": "stream",
     "text": [
      "(30, 4)\n"
     ]
    }
   ],
   "source": [
    "print(X_test.shape)"
   ]
  },
  {
   "cell_type": "code",
   "execution_count": null,
   "id": "0668b3bd-92bb-4a1d-8eed-411e2b8bcd22",
   "metadata": {},
   "outputs": [],
   "source": []
  }
 ],
 "metadata": {
  "kernelspec": {
   "display_name": "Python 3 (ipykernel)",
   "language": "python",
   "name": "python3"
  },
  "language_info": {
   "codemirror_mode": {
    "name": "ipython",
    "version": 3
   },
   "file_extension": ".py",
   "mimetype": "text/x-python",
   "name": "python",
   "nbconvert_exporter": "python",
   "pygments_lexer": "ipython3",
   "version": "3.11.7"
  }
 },
 "nbformat": 4,
 "nbformat_minor": 5
}
