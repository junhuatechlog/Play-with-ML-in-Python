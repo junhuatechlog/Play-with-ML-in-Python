{
 "cells": [
  {
   "cell_type": "code",
   "execution_count": 12,
   "id": "27a723d0-cfad-4c0b-9bf0-413a5a44286e",
   "metadata": {},
   "outputs": [],
   "source": [
    "import numpy as np\n",
    "import math"
   ]
  },
  {
   "cell_type": "code",
   "execution_count": 6,
   "id": "314bf136-f427-46b1-83e5-aa2f8f695c2d",
   "metadata": {},
   "outputs": [],
   "source": [
    "x = np.linspace(251, 500, 250)"
   ]
  },
  {
   "cell_type": "code",
   "execution_count": 7,
   "id": "4587c2f5-c96a-4589-9eb3-13878d03862b",
   "metadata": {},
   "outputs": [
    {
     "data": {
      "text/plain": [
       "(250,)"
      ]
     },
     "execution_count": 7,
     "metadata": {},
     "output_type": "execute_result"
    }
   ],
   "source": [
    "x.shape"
   ]
  },
  {
   "cell_type": "code",
   "execution_count": 8,
   "id": "a14d015a-0991-493b-bf1a-d73f2f5a9c57",
   "metadata": {},
   "outputs": [
    {
     "data": {
      "text/plain": [
       "(250,)"
      ]
     },
     "execution_count": 8,
     "metadata": {},
     "output_type": "execute_result"
    }
   ],
   "source": [
    "x.shape"
   ]
  },
  {
   "cell_type": "code",
   "execution_count": 9,
   "id": "71583e93-9824-4669-b0cc-f18d4756626f",
   "metadata": {},
   "outputs": [
    {
     "data": {
      "text/plain": [
       "array([251., 252., 253., 254., 255., 256., 257., 258., 259., 260., 261.,\n",
       "       262., 263., 264., 265., 266., 267., 268., 269., 270., 271., 272.,\n",
       "       273., 274., 275., 276., 277., 278., 279., 280., 281., 282., 283.,\n",
       "       284., 285., 286., 287., 288., 289., 290., 291., 292., 293., 294.,\n",
       "       295., 296., 297., 298., 299., 300., 301., 302., 303., 304., 305.,\n",
       "       306., 307., 308., 309., 310., 311., 312., 313., 314., 315., 316.,\n",
       "       317., 318., 319., 320., 321., 322., 323., 324., 325., 326., 327.,\n",
       "       328., 329., 330., 331., 332., 333., 334., 335., 336., 337., 338.,\n",
       "       339., 340., 341., 342., 343., 344., 345., 346., 347., 348., 349.,\n",
       "       350., 351., 352., 353., 354., 355., 356., 357., 358., 359., 360.,\n",
       "       361., 362., 363., 364., 365., 366., 367., 368., 369., 370., 371.,\n",
       "       372., 373., 374., 375., 376., 377., 378., 379., 380., 381., 382.,\n",
       "       383., 384., 385., 386., 387., 388., 389., 390., 391., 392., 393.,\n",
       "       394., 395., 396., 397., 398., 399., 400., 401., 402., 403., 404.,\n",
       "       405., 406., 407., 408., 409., 410., 411., 412., 413., 414., 415.,\n",
       "       416., 417., 418., 419., 420., 421., 422., 423., 424., 425., 426.,\n",
       "       427., 428., 429., 430., 431., 432., 433., 434., 435., 436., 437.,\n",
       "       438., 439., 440., 441., 442., 443., 444., 445., 446., 447., 448.,\n",
       "       449., 450., 451., 452., 453., 454., 455., 456., 457., 458., 459.,\n",
       "       460., 461., 462., 463., 464., 465., 466., 467., 468., 469., 470.,\n",
       "       471., 472., 473., 474., 475., 476., 477., 478., 479., 480., 481.,\n",
       "       482., 483., 484., 485., 486., 487., 488., 489., 490., 491., 492.,\n",
       "       493., 494., 495., 496., 497., 498., 499., 500.])"
      ]
     },
     "execution_count": 9,
     "metadata": {},
     "output_type": "execute_result"
    }
   ],
   "source": [
    "x"
   ]
  },
  {
   "cell_type": "code",
   "execution_count": 14,
   "id": "7b6382a5-e892-4ab9-8eb0-e9daf96cb156",
   "metadata": {},
   "outputs": [],
   "source": [
    "res = 0.0\n",
    "for i in range(251, 500):\n",
    "    c = math.comb(500, i)\n",
    "    pp = (0.51)**i\n",
    "    pn = (0.49)**(500-i)\n",
    "    res += c*pp*pn"
   ]
  },
  {
   "cell_type": "raw",
   "id": "8685023e-77ce-4b46-b9b2-f01d7e526025",
   "metadata": {},
   "source": [
    "res"
   ]
  },
  {
   "cell_type": "code",
   "execution_count": 15,
   "id": "73b3507a-470d-4328-8b85-8e3096e5d19a",
   "metadata": {},
   "outputs": [
    {
     "data": {
      "text/plain": [
       "0.6564399889599041"
      ]
     },
     "execution_count": 15,
     "metadata": {},
     "output_type": "execute_result"
    }
   ],
   "source": [
    "res"
   ]
  },
  {
   "cell_type": "code",
   "execution_count": 16,
   "id": "71fd3c3a-adfb-494b-a79d-fbbe890c7ffa",
   "metadata": {},
   "outputs": [
    {
     "data": {
      "text/plain": [
       "0.6564399889599041"
      ]
     },
     "execution_count": 16,
     "metadata": {},
     "output_type": "execute_result"
    }
   ],
   "source": [
    "res"
   ]
  },
  {
   "cell_type": "code",
   "execution_count": 17,
   "id": "d25a2fa3-a5bd-47be-b450-1f8f6a5d1a22",
   "metadata": {},
   "outputs": [],
   "source": [
    "res = 0.0\n",
    "for i in range(251, 500):\n",
    "    c = math.comb(500, i)\n",
    "    pp = (0.6)**i\n",
    "    pn = (0.4)**(500-i)\n",
    "    res += c*pp*pn"
   ]
  },
  {
   "cell_type": "code",
   "execution_count": 18,
   "id": "fb5b6675-1a24-431d-89f7-be18cf2d6c85",
   "metadata": {},
   "outputs": [
    {
     "data": {
      "text/plain": [
       "0.999996183951592"
      ]
     },
     "execution_count": 18,
     "metadata": {},
     "output_type": "execute_result"
    }
   ],
   "source": [
    "res"
   ]
  },
  {
   "cell_type": "code",
   "execution_count": null,
   "id": "2ed08d1e-6069-4e39-95f1-3f96eb3306b5",
   "metadata": {},
   "outputs": [],
   "source": []
  }
 ],
 "metadata": {
  "kernelspec": {
   "display_name": "Python 3 (ipykernel)",
   "language": "python",
   "name": "python3"
  },
  "language_info": {
   "codemirror_mode": {
    "name": "ipython",
    "version": 3
   },
   "file_extension": ".py",
   "mimetype": "text/x-python",
   "name": "python",
   "nbconvert_exporter": "python",
   "pygments_lexer": "ipython3",
   "version": "3.11.7"
  }
 },
 "nbformat": 4,
 "nbformat_minor": 5
}
