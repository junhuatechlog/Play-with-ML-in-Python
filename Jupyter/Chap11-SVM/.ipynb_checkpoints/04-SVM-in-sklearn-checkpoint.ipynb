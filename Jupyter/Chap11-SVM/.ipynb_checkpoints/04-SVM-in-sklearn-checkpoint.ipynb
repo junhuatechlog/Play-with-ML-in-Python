{
 "cells": [
  {
   "cell_type": "code",
   "execution_count": 1,
   "id": "c03c6288-62d0-4d48-bdbd-b65412bce030",
   "metadata": {},
   "outputs": [],
   "source": [
    "import numpy as np\n",
    "x = np.linspace(-3, 3, 200)"
   ]
  },
  {
   "cell_type": "code",
   "execution_count": 4,
   "id": "7e3d19d1-8bd1-4bdf-aaa4-f3804496cfd0",
   "metadata": {},
   "outputs": [],
   "source": [
    "x = np.array([1, 2, 3, 4, 5, 6, 3, 2, 5, 6, 7, 8, 5, 4])"
   ]
  },
  {
   "cell_type": "code",
   "execution_count": 5,
   "id": "a8f85af8-24ae-4d79-95c8-60ad5133510e",
   "metadata": {},
   "outputs": [
    {
     "data": {
      "text/plain": [
       "(14,)"
      ]
     },
     "execution_count": 5,
     "metadata": {},
     "output_type": "execute_result"
    }
   ],
   "source": [
    "x.shape"
   ]
  },
  {
   "cell_type": "code",
   "execution_count": 7,
   "id": "88e85fad-e16a-408c-8ee3-63c8b291d45b",
   "metadata": {},
   "outputs": [],
   "source": [
    "index = (x >= 3) & (x <=5)"
   ]
  },
  {
   "cell_type": "code",
   "execution_count": 8,
   "id": "972c151a-5da9-48aa-b32c-98c7bd15e426",
   "metadata": {},
   "outputs": [
    {
     "data": {
      "text/plain": [
       "array([3, 4, 5, 3, 5, 5, 4])"
      ]
     },
     "execution_count": 8,
     "metadata": {},
     "output_type": "execute_result"
    }
   ],
   "source": [
    "x[index]"
   ]
  },
  {
   "cell_type": "code",
   "execution_count": null,
   "id": "38d8e104-7195-42a3-a167-a7b5b053364e",
   "metadata": {},
   "outputs": [],
   "source": []
  }
 ],
 "metadata": {
  "kernelspec": {
   "display_name": "Python 3 (ipykernel)",
   "language": "python",
   "name": "python3"
  },
  "language_info": {
   "codemirror_mode": {
    "name": "ipython",
    "version": 3
   },
   "file_extension": ".py",
   "mimetype": "text/x-python",
   "name": "python",
   "nbconvert_exporter": "python",
   "pygments_lexer": "ipython3",
   "version": "3.11.7"
  }
 },
 "nbformat": 4,
 "nbformat_minor": 5
}
