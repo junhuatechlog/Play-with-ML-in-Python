{
 "cells": [
  {
   "cell_type": "markdown",
   "id": "8c713f84-04db-4190-857a-7f11f1a548d8",
   "metadata": {},
   "source": [
    "# 随机梯度下降法 (stochastic grandient descent)\n"
   ]
  },
  {
   "cell_type": "code",
   "execution_count": 2,
   "id": "b15a905d-1649-4c7d-bc61-a74cf69f7556",
   "metadata": {},
   "outputs": [],
   "source": [
    "import numpy as np\n",
    "import matplotlib.pyplot as plt\n",
    "m = 100000\n",
    "x = np.random.normal(size=m)\n",
    "X = x.reshape(-1, 1)\n",
    "y = 4.*x + 3.+np.random.normal(0, 3, size=m)"
   ]
  },
  {
   "cell_type": "code",
   "execution_count": 18,
   "id": "3fcd25d2-6e04-43f6-9eee-6172b00c8a7d",
   "metadata": {},
   "outputs": [],
   "source": [
    "def dJ_sgd(theta, X_b_i, y_i):\n",
    "    return X_b_i.T.dot(X_b_i.dot(theta) - y_i) * 2.\n",
    "\n",
    "def J(theta, X_b, y):\n",
    "    try:\n",
    "        return np.sum((X_b.dot(theta) - y) ** 2) / len(X_b)\n",
    "    except:\n",
    "        return float('inf')\n",
    "        \n",
    "def sgd(X_b, y, theta, n_iters):\n",
    "\n",
    "    t0 = 5\n",
    "    t1 = 50\n",
    "    def learning_rate(t):\n",
    "        return t0/(t + t1)\n",
    "    \n",
    "    for cur_iter in range(n_iters):\n",
    "        rand_i = np.random.randint(len(X_b))\n",
    "        gradient = dJ_sgd(theta, X_b[rand_i], y[rand_i])\n",
    "        theta = theta - learning_rate(cur_iter) * gradient\n",
    "\n",
    "    return theta"
   ]
  },
  {
   "cell_type": "code",
   "execution_count": 19,
   "id": "a10b0fd5-9288-4976-92a7-eccddbeda56b",
   "metadata": {},
   "outputs": [
    {
     "name": "stdout",
     "output_type": "stream",
     "text": [
      "CPU times: total: 219 ms\n",
      "Wall time: 368 ms\n"
     ]
    }
   ],
   "source": [
    "%%time\n",
    "X_b = np.hstack([np.ones((len(X), 1)), X])\n",
    "initial_theta = np.zeros(X_b.shape[1])\n",
    "theta = sgd(X_b, y, initial_theta, len(X)//3)"
   ]
  },
  {
   "cell_type": "code",
   "execution_count": 20,
   "id": "bb579443-ba14-4dc3-bf5e-bd07405ef783",
   "metadata": {},
   "outputs": [
    {
     "data": {
      "text/plain": [
       "array([2.94080133, 4.02817242])"
      ]
     },
     "execution_count": 20,
     "metadata": {},
     "output_type": "execute_result"
    }
   ],
   "source": [
    "theta"
   ]
  },
  {
   "cell_type": "code",
   "execution_count": null,
   "id": "12a5f1ab-505e-4ce4-94c9-a48a04e80713",
   "metadata": {},
   "outputs": [],
   "source": []
  }
 ],
 "metadata": {
  "kernelspec": {
   "display_name": "Python 3 (ipykernel)",
   "language": "python",
   "name": "python3"
  },
  "language_info": {
   "codemirror_mode": {
    "name": "ipython",
    "version": 3
   },
   "file_extension": ".py",
   "mimetype": "text/x-python",
   "name": "python",
   "nbconvert_exporter": "python",
   "pygments_lexer": "ipython3",
   "version": "3.11.7"
  }
 },
 "nbformat": 4,
 "nbformat_minor": 5
}
