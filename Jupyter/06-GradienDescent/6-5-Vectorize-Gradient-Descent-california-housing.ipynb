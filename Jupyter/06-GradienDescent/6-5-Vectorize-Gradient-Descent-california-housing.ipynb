{
 "cells": [
  {
   "cell_type": "code",
   "execution_count": 1,
   "id": "3ea3b198-91bd-406e-8383-9d38bca985d2",
   "metadata": {},
   "outputs": [],
   "source": [
    "import numpy as np\n",
    "from sklearn import datasets"
   ]
  },
  {
   "cell_type": "code",
   "execution_count": 2,
   "id": "41478742-d3f2-4983-abd2-2553f35d7eb1",
   "metadata": {},
   "outputs": [],
   "source": [
    "import sys"
   ]
  },
  {
   "cell_type": "code",
   "execution_count": 3,
   "id": "7b7c8fa2-8c36-416d-aa2f-f63a79703cb1",
   "metadata": {},
   "outputs": [],
   "source": [
    "sys.path.append(r'C:\\\\N-20KEPC0Y7KFA-Data\\\\junhuawa\\\\Documents\\\\00-Play-with-ML-in-Python\\\\Jupyter')"
   ]
  },
  {
   "cell_type": "code",
   "execution_count": 4,
   "id": "afdd466d-e939-4007-958d-97398eabd669",
   "metadata": {},
   "outputs": [],
   "source": [
    "import playML\n",
    "from playML.model_selection import train_test_split"
   ]
  },
  {
   "cell_type": "code",
   "execution_count": 5,
   "id": "9a6954cf-3e68-41de-87c8-cfe67817e6dd",
   "metadata": {},
   "outputs": [],
   "source": [
    "    from sklearn.datasets import fetch_california_housing\n",
    "    housing = fetch_california_housing()\n"
   ]
  },
  {
   "cell_type": "code",
   "execution_count": 6,
   "id": "68527636-1beb-4e4c-aaa6-c1ebd275a7bb",
   "metadata": {},
   "outputs": [
    {
     "data": {
      "text/plain": [
       "dict_keys(['data', 'target', 'frame', 'target_names', 'feature_names', 'DESCR'])"
      ]
     },
     "execution_count": 6,
     "metadata": {},
     "output_type": "execute_result"
    }
   ],
   "source": [
    "housing.keys()"
   ]
  },
  {
   "cell_type": "code",
   "execution_count": 7,
   "id": "54cbef65-0e72-4b64-b4f2-040cd4455fb2",
   "metadata": {},
   "outputs": [],
   "source": [
    "X = housing.data\n",
    "y = housing.target"
   ]
  },
  {
   "cell_type": "code",
   "execution_count": 8,
   "id": "e537a196-8c6c-4547-b31c-9022c3649ba9",
   "metadata": {},
   "outputs": [],
   "source": [
    "X_train, X_test, y_train, y_test = train_test_split(X, y, seed=666)"
   ]
  },
  {
   "cell_type": "code",
   "execution_count": 9,
   "id": "834ac7a2-383b-491a-a8db-496ac95fab1b",
   "metadata": {},
   "outputs": [
    {
     "data": {
      "text/plain": [
       "(16512, 8)"
      ]
     },
     "execution_count": 9,
     "metadata": {},
     "output_type": "execute_result"
    }
   ],
   "source": [
    "X_train.shape"
   ]
  },
  {
   "cell_type": "code",
   "execution_count": 10,
   "id": "2c8e88b0-f8d0-4e13-b441-9c6ee519a695",
   "metadata": {},
   "outputs": [],
   "source": [
    "from playML.LinearRegression import LinearRegression"
   ]
  },
  {
   "cell_type": "code",
   "execution_count": 11,
   "id": "62a1653a-8713-474c-9b82-55ccb070b7db",
   "metadata": {},
   "outputs": [
    {
     "name": "stdout",
     "output_type": "stream",
     "text": [
      "1.47 ms ± 180 µs per loop (mean ± std. dev. of 7 runs, 1,000 loops each)\n"
     ]
    },
    {
     "data": {
      "text/plain": [
       "0.5877457143284552"
      ]
     },
     "execution_count": 11,
     "metadata": {},
     "output_type": "execute_result"
    }
   ],
   "source": [
    "lin_reg1 = LinearRegression()\n",
    "%timeit lin_reg1.fit_normal(X_train, y_train)\n",
    "lin_reg1.score(X_test, y_test)"
   ]
  },
  {
   "cell_type": "code",
   "execution_count": 12,
   "id": "eec74230-0c67-45d6-80b5-336c1353cd12",
   "metadata": {},
   "outputs": [
    {
     "name": "stderr",
     "output_type": "stream",
     "text": [
      "C:\\\\N-20KEPC0Y7KFA-Data\\\\junhuawa\\\\Documents\\\\00-Play-with-ML-in-Python\\\\Jupyter\\playML\\LinearRegression.py:63: RuntimeWarning: overflow encountered in square\n",
      "  return np.sum((X_b.dot(theta) - y) ** 2) * 2 / len(X_b)\n",
      "C:\\\\N-20KEPC0Y7KFA-Data\\\\junhuawa\\\\Documents\\\\00-Play-with-ML-in-Python\\\\Jupyter\\playML\\LinearRegression.py:75: RuntimeWarning: invalid value encountered in scalar subtract\n",
      "  if np.abs(J(theta, X_b, y_train) - J(last_theta, X_b, y_train)) < epsilon:\n",
      "C:\\\\N-20KEPC0Y7KFA-Data\\\\junhuawa\\\\Documents\\\\00-Play-with-ML-in-Python\\\\Jupyter\\playML\\LinearRegression.py:57: RuntimeWarning: overflow encountered in multiply\n",
      "  return X_b.T.dot(X_b.dot(theta) - y) * 2. / len(X_b)\n",
      "C:\\\\N-20KEPC0Y7KFA-Data\\\\junhuawa\\\\Documents\\\\00-Play-with-ML-in-Python\\\\Jupyter\\playML\\LinearRegression.py:74: RuntimeWarning: invalid value encountered in subtract\n",
      "  theta = theta - eta*gradient\n"
     ]
    },
    {
     "name": "stdout",
     "output_type": "stream",
     "text": [
      "3.52 s ± 262 ms per loop (mean ± std. dev. of 7 runs, 1 loop each)\n"
     ]
    },
    {
     "data": {
      "text/plain": [
       "nan"
      ]
     },
     "execution_count": 12,
     "metadata": {},
     "output_type": "execute_result"
    }
   ],
   "source": [
    "lin_reg2 = LinearRegression()\n",
    "%timeit lin_reg2.fit_gd(X_train, y_train)\n",
    "lin_reg2.score(X_test, y_test)\n"
   ]
  },
  {
   "cell_type": "code",
   "execution_count": 13,
   "id": "cc6001a0-aa5d-4148-9ead-7b52f45e9d02",
   "metadata": {},
   "outputs": [
    {
     "data": {
      "text/plain": [
       "array([nan, nan, nan, nan, nan, nan, nan, nan])"
      ]
     },
     "execution_count": 13,
     "metadata": {},
     "output_type": "execute_result"
    }
   ],
   "source": [
    "lin_reg2.coef_"
   ]
  },
  {
   "cell_type": "code",
   "execution_count": 14,
   "id": "0151bd27-71a5-41b3-9d7d-76fc67f9028a",
   "metadata": {},
   "outputs": [
    {
     "data": {
      "text/plain": [
       "array([[ 4.25000000e+00,  1.80000000e+01,  5.60197368e+00,\n",
       "         1.03865132e+00,  3.70400000e+03,  3.04605263e+00,\n",
       "         3.38700000e+01, -1.18250000e+02],\n",
       "       [ 3.09620000e+00,  3.50000000e+01,  5.20098039e+00,\n",
       "         9.80392157e-01,  1.18900000e+03,  2.91421569e+00,\n",
       "         3.81100000e+01, -1.22210000e+02],\n",
       "       [ 7.75890000e+00,  8.00000000e+00,  6.37689970e+00,\n",
       "         1.03951368e+00,  9.08000000e+02,  2.75987842e+00,\n",
       "         3.36700000e+01, -1.17810000e+02],\n",
       "       [ 5.32920000e+00,  3.40000000e+01,  5.54032258e+00,\n",
       "         9.67741935e-01,  9.06000000e+02,  3.65322581e+00,\n",
       "         3.39200000e+01, -1.18290000e+02],\n",
       "       [ 2.03530000e+00,  3.20000000e+01,  4.70685579e+00,\n",
       "         1.19148936e+00,  1.13900000e+03,  2.69267139e+00,\n",
       "         3.79600000e+01, -1.22350000e+02],\n",
       "       [ 8.56210000e+00,  2.30000000e+01,  7.32986111e+00,\n",
       "         1.06250000e+00,  9.79000000e+02,  3.39930556e+00,\n",
       "         3.38900000e+01, -1.17990000e+02],\n",
       "       [ 3.06250000e+00,  2.50000000e+01,  5.10355987e+00,\n",
       "         1.00323625e+00,  8.44000000e+02,  2.73139159e+00,\n",
       "         3.54100000e+01, -1.19040000e+02],\n",
       "       [ 4.31940000e+00,  4.30000000e+01,  6.20071685e+00,\n",
       "         1.16845878e+00,  6.29000000e+02,  2.25448029e+00,\n",
       "         3.79100000e+01, -1.22690000e+02],\n",
       "       [ 4.07140000e+00,  4.20000000e+01,  5.84350133e+00,\n",
       "         1.09283820e+00,  1.01200000e+03,  2.68435013e+00,\n",
       "         3.41900000e+01, -1.18130000e+02],\n",
       "       [ 3.50000000e+00,  3.10000000e+01,  5.17340067e+00,\n",
       "         1.03872054e+00,  2.64000000e+03,  4.44444444e+00,\n",
       "         3.40900000e+01, -1.17980000e+02]])"
      ]
     },
     "execution_count": 14,
     "metadata": {},
     "output_type": "execute_result"
    }
   ],
   "source": [
    "X_train[:10, :]"
   ]
  },
  {
   "cell_type": "code",
   "execution_count": 2,
   "id": "0868307f-350d-4467-b29c-fc3743e81e93",
   "metadata": {},
   "outputs": [
    {
     "ename": "NameError",
     "evalue": "name 'lin_reg2' is not defined",
     "output_type": "error",
     "traceback": [
      "\u001b[1;31m---------------------------------------------------------------------------\u001b[0m",
      "\u001b[1;31mNameError\u001b[0m                                 Traceback (most recent call last)",
      "Cell \u001b[1;32mIn[2], line 1\u001b[0m\n\u001b[1;32m----> 1\u001b[0m get_ipython()\u001b[38;5;241m.\u001b[39mrun_line_magic(\u001b[38;5;124m'\u001b[39m\u001b[38;5;124mtimeit\u001b[39m\u001b[38;5;124m'\u001b[39m, \u001b[38;5;124m'\u001b[39m\u001b[38;5;124mlin_reg2.fit_gd(X_train, y_train, eta=0.000001)\u001b[39m\u001b[38;5;124m'\u001b[39m)\n",
      "File \u001b[1;32m~\\AppData\\Local\\anaconda3\\Lib\\site-packages\\IPython\\core\\interactiveshell.py:2456\u001b[0m, in \u001b[0;36mInteractiveShell.run_line_magic\u001b[1;34m(self, magic_name, line, _stack_depth)\u001b[0m\n\u001b[0;32m   2454\u001b[0m     kwargs[\u001b[38;5;124m'\u001b[39m\u001b[38;5;124mlocal_ns\u001b[39m\u001b[38;5;124m'\u001b[39m] \u001b[38;5;241m=\u001b[39m \u001b[38;5;28mself\u001b[39m\u001b[38;5;241m.\u001b[39mget_local_scope(stack_depth)\n\u001b[0;32m   2455\u001b[0m \u001b[38;5;28;01mwith\u001b[39;00m \u001b[38;5;28mself\u001b[39m\u001b[38;5;241m.\u001b[39mbuiltin_trap:\n\u001b[1;32m-> 2456\u001b[0m     result \u001b[38;5;241m=\u001b[39m fn(\u001b[38;5;241m*\u001b[39margs, \u001b[38;5;241m*\u001b[39m\u001b[38;5;241m*\u001b[39mkwargs)\n\u001b[0;32m   2458\u001b[0m \u001b[38;5;66;03m# The code below prevents the output from being displayed\u001b[39;00m\n\u001b[0;32m   2459\u001b[0m \u001b[38;5;66;03m# when using magics with decorator @output_can_be_silenced\u001b[39;00m\n\u001b[0;32m   2460\u001b[0m \u001b[38;5;66;03m# when the last Python token in the expression is a ';'.\u001b[39;00m\n\u001b[0;32m   2461\u001b[0m \u001b[38;5;28;01mif\u001b[39;00m \u001b[38;5;28mgetattr\u001b[39m(fn, magic\u001b[38;5;241m.\u001b[39mMAGIC_OUTPUT_CAN_BE_SILENCED, \u001b[38;5;28;01mFalse\u001b[39;00m):\n",
      "File \u001b[1;32m~\\AppData\\Local\\anaconda3\\Lib\\site-packages\\IPython\\core\\magics\\execution.py:1185\u001b[0m, in \u001b[0;36mExecutionMagics.timeit\u001b[1;34m(self, line, cell, local_ns)\u001b[0m\n\u001b[0;32m   1183\u001b[0m \u001b[38;5;28;01mfor\u001b[39;00m index \u001b[38;5;129;01min\u001b[39;00m \u001b[38;5;28mrange\u001b[39m(\u001b[38;5;241m0\u001b[39m, \u001b[38;5;241m10\u001b[39m):\n\u001b[0;32m   1184\u001b[0m     number \u001b[38;5;241m=\u001b[39m \u001b[38;5;241m10\u001b[39m \u001b[38;5;241m*\u001b[39m\u001b[38;5;241m*\u001b[39m index\n\u001b[1;32m-> 1185\u001b[0m     time_number \u001b[38;5;241m=\u001b[39m timer\u001b[38;5;241m.\u001b[39mtimeit(number)\n\u001b[0;32m   1186\u001b[0m     \u001b[38;5;28;01mif\u001b[39;00m time_number \u001b[38;5;241m>\u001b[39m\u001b[38;5;241m=\u001b[39m \u001b[38;5;241m0.2\u001b[39m:\n\u001b[0;32m   1187\u001b[0m         \u001b[38;5;28;01mbreak\u001b[39;00m\n",
      "File \u001b[1;32m~\\AppData\\Local\\anaconda3\\Lib\\site-packages\\IPython\\core\\magics\\execution.py:173\u001b[0m, in \u001b[0;36mTimer.timeit\u001b[1;34m(self, number)\u001b[0m\n\u001b[0;32m    171\u001b[0m gc\u001b[38;5;241m.\u001b[39mdisable()\n\u001b[0;32m    172\u001b[0m \u001b[38;5;28;01mtry\u001b[39;00m:\n\u001b[1;32m--> 173\u001b[0m     timing \u001b[38;5;241m=\u001b[39m \u001b[38;5;28mself\u001b[39m\u001b[38;5;241m.\u001b[39minner(it, \u001b[38;5;28mself\u001b[39m\u001b[38;5;241m.\u001b[39mtimer)\n\u001b[0;32m    174\u001b[0m \u001b[38;5;28;01mfinally\u001b[39;00m:\n\u001b[0;32m    175\u001b[0m     \u001b[38;5;28;01mif\u001b[39;00m gcold:\n",
      "File \u001b[1;32m<magic-timeit>:1\u001b[0m, in \u001b[0;36minner\u001b[1;34m(_it, _timer)\u001b[0m\n",
      "\u001b[1;31mNameError\u001b[0m: name 'lin_reg2' is not defined"
     ]
    }
   ],
   "source": [
    "%timeit lin_reg2.fit_gd(X_train, y_train, eta=0.000001)"
   ]
  },
  {
   "cell_type": "code",
   "execution_count": 1,
   "id": "a7ca9eca-e1aa-4c54-b511-95817f32531b",
   "metadata": {},
   "outputs": [
    {
     "ename": "NameError",
     "evalue": "name 'lin_reg2' is not defined",
     "output_type": "error",
     "traceback": [
      "\u001b[1;31m---------------------------------------------------------------------------\u001b[0m",
      "\u001b[1;31mNameError\u001b[0m                                 Traceback (most recent call last)",
      "Cell \u001b[1;32mIn[1], line 1\u001b[0m\n\u001b[1;32m----> 1\u001b[0m lin_reg2\u001b[38;5;241m.\u001b[39mscore(X_test, y_test)\n",
      "\u001b[1;31mNameError\u001b[0m: name 'lin_reg2' is not defined"
     ]
    }
   ],
   "source": [
    "lin_reg2.score(X_test, y_test)"
   ]
  },
  {
   "cell_type": "code",
   "execution_count": null,
   "id": "66b2eb46-8732-4744-84b4-c385c93a75af",
   "metadata": {},
   "outputs": [],
   "source": []
  }
 ],
 "metadata": {
  "kernelspec": {
   "display_name": "Python 3 (ipykernel)",
   "language": "python",
   "name": "python3"
  },
  "language_info": {
   "codemirror_mode": {
    "name": "ipython",
    "version": 3
   },
   "file_extension": ".py",
   "mimetype": "text/x-python",
   "name": "python",
   "nbconvert_exporter": "python",
   "pygments_lexer": "ipython3",
   "version": "3.11.7"
  }
 },
 "nbformat": 4,
 "nbformat_minor": 5
}
