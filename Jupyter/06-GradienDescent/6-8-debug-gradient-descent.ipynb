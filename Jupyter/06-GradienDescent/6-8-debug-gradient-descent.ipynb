{
 "cells": [
  {
   "cell_type": "code",
   "execution_count": 1,
   "id": "1fd54f38-826e-4494-9f98-6ae58dfc6edc",
   "metadata": {},
   "outputs": [],
   "source": [
    "import numpy as np\n",
    "import matplotlib.pyplot as plt\n",
    "np.random.seed(666)\n",
    "X=np.random.random(size=(1000,10))"
   ]
  },
  {
   "cell_type": "code",
   "execution_count": 2,
   "id": "b35a4c8b-f9d6-434b-a423-a1b5ff7c315e",
   "metadata": {},
   "outputs": [],
   "source": [
    "true_theta = np.arange(1, 12, dtype=float)"
   ]
  },
  {
   "cell_type": "code",
   "execution_count": 3,
   "id": "93929d8f-db23-4aa1-a523-957acc197407",
   "metadata": {},
   "outputs": [
    {
     "data": {
      "text/plain": [
       "array([ 1.,  2.,  3.,  4.,  5.,  6.,  7.,  8.,  9., 10., 11.])"
      ]
     },
     "execution_count": 3,
     "metadata": {},
     "output_type": "execute_result"
    }
   ],
   "source": [
    "true_theta\n"
   ]
  },
  {
   "cell_type": "code",
   "execution_count": 4,
   "id": "e7eab540-e85f-4c4b-acb6-a3ea2ed47f8f",
   "metadata": {},
   "outputs": [],
   "source": [
    "X_b = np.hstack([np.ones((len(X), 1)), X])"
   ]
  },
  {
   "cell_type": "code",
   "execution_count": 5,
   "id": "4c9701a0-26c2-4df1-b2d8-9945b86b8e9b",
   "metadata": {},
   "outputs": [
    {
     "data": {
      "text/plain": [
       "array([[1.        , 0.70043712, 0.84418664, ..., 0.04881279, 0.09992856,\n",
       "        0.50806631],\n",
       "       [1.        , 0.20024754, 0.74415417, ..., 0.11285765, 0.11095367,\n",
       "        0.24766823],\n",
       "       [1.        , 0.0232363 , 0.72732115, ..., 0.25913185, 0.58381262,\n",
       "        0.32569065],\n",
       "       ...,\n",
       "       [1.        , 0.88593917, 0.49480495, ..., 0.50598273, 0.86447115,\n",
       "        0.31128276],\n",
       "       [1.        , 0.81051618, 0.87890841, ..., 0.37299025, 0.81523744,\n",
       "        0.31074351],\n",
       "       [1.        , 0.75052272, 0.98612317, ..., 0.26679141, 0.34224855,\n",
       "        0.02366081]])"
      ]
     },
     "execution_count": 5,
     "metadata": {},
     "output_type": "execute_result"
    }
   ],
   "source": [
    "X_b"
   ]
  },
  {
   "cell_type": "code",
   "execution_count": 6,
   "id": "4dad613b-8a0a-4031-b5e8-c2c56cbb7b0f",
   "metadata": {},
   "outputs": [],
   "source": [
    "y = X_b.dot(true_theta) + np.random.normal(size=1000)"
   ]
  },
  {
   "cell_type": "code",
   "execution_count": 7,
   "id": "b4561caa-9e87-432c-ac0c-b362f78a86a0",
   "metadata": {},
   "outputs": [
    {
     "data": {
      "text/plain": [
       "(1000, 10)"
      ]
     },
     "execution_count": 7,
     "metadata": {},
     "output_type": "execute_result"
    }
   ],
   "source": [
    "X.shape"
   ]
  },
  {
   "cell_type": "code",
   "execution_count": 8,
   "id": "d69571da-a26c-4c52-b104-8e0f392e1537",
   "metadata": {},
   "outputs": [
    {
     "data": {
      "text/plain": [
       "(1000,)"
      ]
     },
     "execution_count": 8,
     "metadata": {},
     "output_type": "execute_result"
    }
   ],
   "source": [
    "y.shape\n"
   ]
  },
  {
   "cell_type": "code",
   "execution_count": 9,
   "id": "a631cb1b-42c7-478c-b9e4-ec4eef065b6a",
   "metadata": {},
   "outputs": [],
   "source": [
    "import sys\n",
    "sys.path.append(r'C:\\\\N-20KEPC0Y7KFA-Data\\\\junhuawa\\\\Documents\\\\00-Play-with-ML-in-Python\\\\Jupyter')\n",
    "import playML"
   ]
  },
  {
   "cell_type": "code",
   "execution_count": 10,
   "id": "daf87a24-21b9-49d3-a0a5-efcb93a7339d",
   "metadata": {},
   "outputs": [],
   "source": [
    "from playML.LinearRegression import LinearRegression"
   ]
  },
  {
   "cell_type": "code",
   "execution_count": 11,
   "id": "87322688-54c5-4aea-99a0-96e6c4a31b25",
   "metadata": {},
   "outputs": [
    {
     "data": {
      "text/plain": [
       "array([[0.70043712, 0.84418664, 0.67651434, ..., 0.04881279, 0.09992856,\n",
       "        0.50806631],\n",
       "       [0.20024754, 0.74415417, 0.192892  , ..., 0.11285765, 0.11095367,\n",
       "        0.24766823],\n",
       "       [0.0232363 , 0.72732115, 0.34003494, ..., 0.25913185, 0.58381262,\n",
       "        0.32569065],\n",
       "       ...,\n",
       "       [0.88593917, 0.49480495, 0.32095669, ..., 0.50598273, 0.86447115,\n",
       "        0.31128276],\n",
       "       [0.81051618, 0.87890841, 0.47112617, ..., 0.37299025, 0.81523744,\n",
       "        0.31074351],\n",
       "       [0.75052272, 0.98612317, 0.44421196, ..., 0.26679141, 0.34224855,\n",
       "        0.02366081]])"
      ]
     },
     "execution_count": 11,
     "metadata": {},
     "output_type": "execute_result"
    }
   ],
   "source": [
    "X"
   ]
  },
  {
   "cell_type": "code",
   "execution_count": 18,
   "id": "fea81646-d836-455e-9c02-0d20597f7338",
   "metadata": {},
   "outputs": [
    {
     "data": {
      "text/plain": [
       "LinearRegression()"
      ]
     },
     "execution_count": 18,
     "metadata": {},
     "output_type": "execute_result"
    }
   ],
   "source": [
    "\n",
    "def J(theta, X_b, y):\n",
    "    try:\n",
    "       return np.sum((X_b.dot(theta) - y) ** 2) / len(X_b)\n",
    "    except:\n",
    "       return float('inf')\n",
    "\n",
    "def dJ_math(theta, X_b, y):\n",
    "    return X_b.T.dot(X_b.dot(theta) - y) * 2. / len(X_b)\n",
    "    \n",
    "def dJ_debug(theta, X_b, y, epsilon=0.01):\n",
    "    res = np.empty(len(theta))\n",
    "    for i in range(len(theta)):\n",
    "       theta_1 = theta.copy()\n",
    "       theta_2 = theta.copy()\n",
    "       theta_1[i] += epsilon\n",
    "       theta_2[i] -= epsilon\n",
    "       res[i] = (J(theta_1, X_b, y) - J(theta_2, X_b, y)) /(2*epsilon)\n",
    "    return res\n",
    "\n",
    "lin_reg1 = LinearRegression()\n",
    "lin_reg1.fit_gd_debug(dJ_math, X, y)"
   ]
  },
  {
   "cell_type": "code",
   "execution_count": 19,
   "id": "cecbbb89-60bb-4996-9a42-fc3f841fd6f8",
   "metadata": {},
   "outputs": [
    {
     "data": {
      "text/plain": [
       "array([ 1.1251597 ,  2.05312521,  2.91522497,  4.11895968,  5.05002117,\n",
       "        5.90494046,  6.97383745,  8.00088367,  8.86213468,  9.98608331,\n",
       "       10.90529198])"
      ]
     },
     "execution_count": 19,
     "metadata": {},
     "output_type": "execute_result"
    }
   ],
   "source": [
    "lin_reg1._theta"
   ]
  },
  {
   "cell_type": "code",
   "execution_count": 20,
   "id": "2b66e709-c55b-4add-b6ef-32f76dfc6df7",
   "metadata": {},
   "outputs": [
    {
     "data": {
      "text/plain": [
       "array([ 1.1251597 ,  2.05312521,  2.91522497,  4.11895968,  5.05002117,\n",
       "        5.90494046,  6.97383745,  8.00088367,  8.86213468,  9.98608331,\n",
       "       10.90529198])"
      ]
     },
     "execution_count": 20,
     "metadata": {},
     "output_type": "execute_result"
    }
   ],
   "source": [
    "lin_reg2 = LinearRegression()\n",
    "lin_reg2.fit_gd_debug(dJ_debug, X, y)\n",
    "lin_reg2._theta"
   ]
  },
  {
   "cell_type": "code",
   "execution_count": null,
   "id": "5a2b4888-cc46-4aec-b8cc-d6450c755f60",
   "metadata": {},
   "outputs": [],
   "source": []
  },
  {
   "cell_type": "code",
   "execution_count": null,
   "id": "8330e04f-7089-48af-984f-aa28a535d804",
   "metadata": {},
   "outputs": [],
   "source": []
  }
 ],
 "metadata": {
  "kernelspec": {
   "display_name": "Python 3 (ipykernel)",
   "language": "python",
   "name": "python3"
  },
  "language_info": {
   "codemirror_mode": {
    "name": "ipython",
    "version": 3
   },
   "file_extension": ".py",
   "mimetype": "text/x-python",
   "name": "python",
   "nbconvert_exporter": "python",
   "pygments_lexer": "ipython3",
   "version": "3.11.7"
  }
 },
 "nbformat": 4,
 "nbformat_minor": 5
}
