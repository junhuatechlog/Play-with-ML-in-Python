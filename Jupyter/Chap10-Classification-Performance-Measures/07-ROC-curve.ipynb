{
 "cells": [
  {
   "cell_type": "code",
   "execution_count": 1,
   "id": "32a0b509-3173-4797-95a2-b980c688a827",
   "metadata": {},
   "outputs": [],
   "source": [
    "import numpy as np\n",
    "import matplotlib.pyplot as plt\n",
    "from sklearn.datasets import load_digits"
   ]
  },
  {
   "cell_type": "code",
   "execution_count": 2,
   "id": "b4e49395-d2c8-4fe6-835d-80a9ab4a45a0",
   "metadata": {},
   "outputs": [],
   "source": [
    "X = load_digits().data"
   ]
  },
  {
   "cell_type": "code",
   "execution_count": 3,
   "id": "5abecb4e-aefb-47ed-b1f5-042e211f0e2b",
   "metadata": {},
   "outputs": [],
   "source": [
    "y = load_digits().target"
   ]
  },
  {
   "cell_type": "code",
   "execution_count": 4,
   "id": "5ee4cf23-f6af-44eb-bc8d-2153a003f33d",
   "metadata": {},
   "outputs": [],
   "source": [
    "y = np.array( y == 9, dtype='int')"
   ]
  },
  {
   "cell_type": "code",
   "execution_count": 5,
   "id": "8886b471-b924-4fdc-9235-46194965a319",
   "metadata": {},
   "outputs": [],
   "source": [
    "from sklearn.linear_model import LogisticRegression"
   ]
  },
  {
   "cell_type": "code",
   "execution_count": 6,
   "id": "de04bcd4-b9dd-4695-be10-046d14df97d0",
   "metadata": {},
   "outputs": [],
   "source": [
    "log_reg = LogisticRegression(solver = 'liblinear')"
   ]
  },
  {
   "cell_type": "code",
   "execution_count": 7,
   "id": "6f73c7c6-57c8-443c-bf33-33581c33ac45",
   "metadata": {},
   "outputs": [],
   "source": [
    "from sklearn.model_selection import train_test_split\n",
    "X_train, X_test, y_train, y_test = train_test_split(X, y, random_state = 666)"
   ]
  },
  {
   "cell_type": "code",
   "execution_count": 8,
   "id": "dd369a85-a7be-4329-b462-0f385736922d",
   "metadata": {},
   "outputs": [
    {
     "data": {
      "text/html": [
       "<style>#sk-container-id-1 {color: black;background-color: white;}#sk-container-id-1 pre{padding: 0;}#sk-container-id-1 div.sk-toggleable {background-color: white;}#sk-container-id-1 label.sk-toggleable__label {cursor: pointer;display: block;width: 100%;margin-bottom: 0;padding: 0.3em;box-sizing: border-box;text-align: center;}#sk-container-id-1 label.sk-toggleable__label-arrow:before {content: \"▸\";float: left;margin-right: 0.25em;color: #696969;}#sk-container-id-1 label.sk-toggleable__label-arrow:hover:before {color: black;}#sk-container-id-1 div.sk-estimator:hover label.sk-toggleable__label-arrow:before {color: black;}#sk-container-id-1 div.sk-toggleable__content {max-height: 0;max-width: 0;overflow: hidden;text-align: left;background-color: #f0f8ff;}#sk-container-id-1 div.sk-toggleable__content pre {margin: 0.2em;color: black;border-radius: 0.25em;background-color: #f0f8ff;}#sk-container-id-1 input.sk-toggleable__control:checked~div.sk-toggleable__content {max-height: 200px;max-width: 100%;overflow: auto;}#sk-container-id-1 input.sk-toggleable__control:checked~label.sk-toggleable__label-arrow:before {content: \"▾\";}#sk-container-id-1 div.sk-estimator input.sk-toggleable__control:checked~label.sk-toggleable__label {background-color: #d4ebff;}#sk-container-id-1 div.sk-label input.sk-toggleable__control:checked~label.sk-toggleable__label {background-color: #d4ebff;}#sk-container-id-1 input.sk-hidden--visually {border: 0;clip: rect(1px 1px 1px 1px);clip: rect(1px, 1px, 1px, 1px);height: 1px;margin: -1px;overflow: hidden;padding: 0;position: absolute;width: 1px;}#sk-container-id-1 div.sk-estimator {font-family: monospace;background-color: #f0f8ff;border: 1px dotted black;border-radius: 0.25em;box-sizing: border-box;margin-bottom: 0.5em;}#sk-container-id-1 div.sk-estimator:hover {background-color: #d4ebff;}#sk-container-id-1 div.sk-parallel-item::after {content: \"\";width: 100%;border-bottom: 1px solid gray;flex-grow: 1;}#sk-container-id-1 div.sk-label:hover label.sk-toggleable__label {background-color: #d4ebff;}#sk-container-id-1 div.sk-serial::before {content: \"\";position: absolute;border-left: 1px solid gray;box-sizing: border-box;top: 0;bottom: 0;left: 50%;z-index: 0;}#sk-container-id-1 div.sk-serial {display: flex;flex-direction: column;align-items: center;background-color: white;padding-right: 0.2em;padding-left: 0.2em;position: relative;}#sk-container-id-1 div.sk-item {position: relative;z-index: 1;}#sk-container-id-1 div.sk-parallel {display: flex;align-items: stretch;justify-content: center;background-color: white;position: relative;}#sk-container-id-1 div.sk-item::before, #sk-container-id-1 div.sk-parallel-item::before {content: \"\";position: absolute;border-left: 1px solid gray;box-sizing: border-box;top: 0;bottom: 0;left: 50%;z-index: -1;}#sk-container-id-1 div.sk-parallel-item {display: flex;flex-direction: column;z-index: 1;position: relative;background-color: white;}#sk-container-id-1 div.sk-parallel-item:first-child::after {align-self: flex-end;width: 50%;}#sk-container-id-1 div.sk-parallel-item:last-child::after {align-self: flex-start;width: 50%;}#sk-container-id-1 div.sk-parallel-item:only-child::after {width: 0;}#sk-container-id-1 div.sk-dashed-wrapped {border: 1px dashed gray;margin: 0 0.4em 0.5em 0.4em;box-sizing: border-box;padding-bottom: 0.4em;background-color: white;}#sk-container-id-1 div.sk-label label {font-family: monospace;font-weight: bold;display: inline-block;line-height: 1.2em;}#sk-container-id-1 div.sk-label-container {text-align: center;}#sk-container-id-1 div.sk-container {/* jupyter's `normalize.less` sets `[hidden] { display: none; }` but bootstrap.min.css set `[hidden] { display: none !important; }` so we also need the `!important` here to be able to override the default hidden behavior on the sphinx rendered scikit-learn.org. See: https://github.com/scikit-learn/scikit-learn/issues/21755 */display: inline-block !important;position: relative;}#sk-container-id-1 div.sk-text-repr-fallback {display: none;}</style><div id=\"sk-container-id-1\" class=\"sk-top-container\"><div class=\"sk-text-repr-fallback\"><pre>LogisticRegression(solver=&#x27;liblinear&#x27;)</pre><b>In a Jupyter environment, please rerun this cell to show the HTML representation or trust the notebook. <br />On GitHub, the HTML representation is unable to render, please try loading this page with nbviewer.org.</b></div><div class=\"sk-container\" hidden><div class=\"sk-item\"><div class=\"sk-estimator sk-toggleable\"><input class=\"sk-toggleable__control sk-hidden--visually\" id=\"sk-estimator-id-1\" type=\"checkbox\" checked><label for=\"sk-estimator-id-1\" class=\"sk-toggleable__label sk-toggleable__label-arrow\">LogisticRegression</label><div class=\"sk-toggleable__content\"><pre>LogisticRegression(solver=&#x27;liblinear&#x27;)</pre></div></div></div></div></div>"
      ],
      "text/plain": [
       "LogisticRegression(solver='liblinear')"
      ]
     },
     "execution_count": 8,
     "metadata": {},
     "output_type": "execute_result"
    }
   ],
   "source": [
    "log_reg.fit(X_train, y_train)\n"
   ]
  },
  {
   "cell_type": "code",
   "execution_count": 9,
   "id": "f46ccf2c-e961-4db7-a7cd-3ce12728e7a8",
   "metadata": {},
   "outputs": [],
   "source": [
    "y_predict = log_reg.predict(X_test)"
   ]
  },
  {
   "cell_type": "code",
   "execution_count": 10,
   "id": "e6d0976f-e03a-4f1c-bc90-a8a9bc66e3f3",
   "metadata": {},
   "outputs": [
    {
     "data": {
      "text/plain": [
       "0.9755555555555555"
      ]
     },
     "execution_count": 10,
     "metadata": {},
     "output_type": "execute_result"
    }
   ],
   "source": [
    "log_reg.score(X_test, y_test)"
   ]
  },
  {
   "cell_type": "code",
   "execution_count": 11,
   "id": "c0fba465-5b35-4469-89b5-fe1def2d2430",
   "metadata": {},
   "outputs": [],
   "source": [
    "from sklearn.metrics import confusion_matrix"
   ]
  },
  {
   "cell_type": "code",
   "execution_count": 12,
   "id": "e6be6c03-a7e9-4e8d-8fd6-0c835eabc235",
   "metadata": {},
   "outputs": [
    {
     "data": {
      "text/plain": [
       "array([[403,   2],\n",
       "       [  9,  36]], dtype=int64)"
      ]
     },
     "execution_count": 12,
     "metadata": {},
     "output_type": "execute_result"
    }
   ],
   "source": [
    "confusion_matrix(y_test, y_predict)"
   ]
  },
  {
   "cell_type": "code",
   "execution_count": 13,
   "id": "8a77a9aa-a0b9-44e6-a79e-b74432000ea3",
   "metadata": {},
   "outputs": [],
   "source": [
    "from sklearn.metrics import precision_score"
   ]
  },
  {
   "cell_type": "code",
   "execution_count": 14,
   "id": "106de633-87e7-4716-9d7e-f88aa06d95fc",
   "metadata": {},
   "outputs": [],
   "source": [
    "from sklearn.metrics import recall_score"
   ]
  },
  {
   "cell_type": "code",
   "execution_count": 15,
   "id": "676fddc0-3059-4061-ab4f-d541e988f8ab",
   "metadata": {},
   "outputs": [],
   "source": [
    "decision_scores = log_reg.decision_function(X_test)"
   ]
  },
  {
   "cell_type": "code",
   "execution_count": 16,
   "id": "0bb99d96-f31d-47d1-bafa-9532b6bfcdb6",
   "metadata": {},
   "outputs": [
    {
     "data": {
      "text/plain": [
       "-85.68608522646575"
      ]
     },
     "execution_count": 16,
     "metadata": {},
     "output_type": "execute_result"
    }
   ],
   "source": [
    "decision_scores.min()"
   ]
  },
  {
   "cell_type": "code",
   "execution_count": 17,
   "id": "eadf6fce-1d4b-4880-af53-efebbab2e894",
   "metadata": {},
   "outputs": [
    {
     "data": {
      "text/plain": [
       "0.96"
      ]
     },
     "execution_count": 17,
     "metadata": {},
     "output_type": "execute_result"
    }
   ],
   "source": [
    "24/25"
   ]
  },
  {
   "cell_type": "code",
   "execution_count": 18,
   "id": "d770e23b-2c77-4d47-b234-c8fc829678d1",
   "metadata": {},
   "outputs": [],
   "source": [
    "from sklearn.metrics import recall_score\n",
    "thresholds = np.arange(np.min(decision_scores), np.max(decision_scores), 0.1)\n",
    "precisions = []\n",
    "recalls = []\n",
    "for threshold in thresholds:\n",
    "    y_predict = np.array(decision_scores >= threshold, dtype='int')\n",
    "    precisions.append(precision_score(y_test, y_predict))\n",
    "    recalls.append(recall_score(y_test, y_predict))\n",
    "    "
   ]
  },
  {
   "cell_type": "code",
   "execution_count": 19,
   "id": "b1489e28-7451-4720-b45e-c96cd3e05567",
   "metadata": {},
   "outputs": [
    {
     "data": {
      "text/plain": [
       "1056"
      ]
     },
     "execution_count": 19,
     "metadata": {},
     "output_type": "execute_result"
    }
   ],
   "source": [
    "len(precisions)"
   ]
  },
  {
   "cell_type": "code",
   "execution_count": 20,
   "id": "8636d32d-9c70-4118-8ff5-f38d8d2c9bf7",
   "metadata": {},
   "outputs": [
    {
     "data": {
      "text/plain": [
       "450"
      ]
     },
     "execution_count": 20,
     "metadata": {},
     "output_type": "execute_result"
    }
   ],
   "source": [
    "len(X_test)"
   ]
  },
  {
   "cell_type": "code",
   "execution_count": 21,
   "id": "46dc72b8-89a7-4583-9946-f6b6ff4ed301",
   "metadata": {},
   "outputs": [
    {
     "data": {
      "text/plain": [
       "1056"
      ]
     },
     "execution_count": 21,
     "metadata": {},
     "output_type": "execute_result"
    }
   ],
   "source": [
    "len(thresholds)"
   ]
  },
  {
   "cell_type": "code",
   "execution_count": 22,
   "id": "3bf25662-a9c7-4049-a8b3-73afaa721245",
   "metadata": {},
   "outputs": [
    {
     "data": {
      "text/plain": [
       "[<matplotlib.lines.Line2D at 0x23ef8b66590>]"
      ]
     },
     "execution_count": 22,
     "metadata": {},
     "output_type": "execute_result"
    },
    {
     "data": {
      "image/png": "[encoded data removed]",
      "text/plain": [
       "<Figure size 640x480 with 1 Axes>"
      ]
     },
     "metadata": {},
     "output_type": "display_data"
    }
   ],
   "source": [
    "plt.plot(thresholds, precisions)\n",
    "plt.plot(thresholds, recalls)"
   ]
  },
  {
   "cell_type": "code",
   "execution_count": 23,
   "id": "8103775b-536c-4044-984d-3208ced9df47",
   "metadata": {},
   "outputs": [
    {
     "data": {
      "text/plain": [
       "[<matplotlib.lines.Line2D at 0x23efa29d990>]"
      ]
     },
     "execution_count": 23,
     "metadata": {},
     "output_type": "execute_result"
    },
    {
     "data": {
      "image/png": "[encoded data removed]",
      "text/plain": [
       "<Figure size 640x480 with 1 Axes>"
      ]
     },
     "metadata": {},
     "output_type": "display_data"
    }
   ],
   "source": [
    "plt.plot(precisions, recalls)"
   ]
  },
  {
   "cell_type": "code",
   "execution_count": 24,
   "id": "bbc0e1ca-71fc-4d75-b520-ea87fafd30d1",
   "metadata": {},
   "outputs": [],
   "source": [
    "from sklearn.metrics import precision_recall_curve\n"
   ]
  },
  {
   "cell_type": "code",
   "execution_count": 25,
   "id": "85f4303e-1ba8-4f7a-af0c-4bdb90b4afbd",
   "metadata": {},
   "outputs": [
    {
     "data": {
      "text/plain": [
       "\u001b[1;31mSignature:\u001b[0m\n",
       "\u001b[0mprecision_recall_curve\u001b[0m\u001b[1;33m(\u001b[0m\u001b[1;33m\n",
       "\u001b[0m    \u001b[0my_true\u001b[0m\u001b[1;33m,\u001b[0m\u001b[1;33m\n",
       "\u001b[0m    \u001b[0mprobas_pred\u001b[0m\u001b[1;33m,\u001b[0m\u001b[1;33m\n",
       "\u001b[0m    \u001b[1;33m*\u001b[0m\u001b[1;33m,\u001b[0m\u001b[1;33m\n",
       "\u001b[0m    \u001b[0mpos_label\u001b[0m\u001b[1;33m=\u001b[0m\u001b[1;32mNone\u001b[0m\u001b[1;33m,\u001b[0m\u001b[1;33m\n",
       "\u001b[0m    \u001b[0msample_weight\u001b[0m\u001b[1;33m=\u001b[0m\u001b[1;32mNone\u001b[0m\u001b[1;33m,\u001b[0m\u001b[1;33m\n",
       "\u001b[0m\u001b[1;33m)\u001b[0m\u001b[1;33m\u001b[0m\u001b[1;33m\u001b[0m\u001b[0m\n",
       "\u001b[1;31mDocstring:\u001b[0m\n",
       "Compute precision-recall pairs for different probability thresholds.\n",
       "\n",
       "Note: this implementation is restricted to the binary classification task.\n",
       "\n",
       "The precision is the ratio ``tp / (tp + fp)`` where ``tp`` is the number of\n",
       "true positives and ``fp`` the number of false positives. The precision is\n",
       "intuitively the ability of the classifier not to label as positive a sample\n",
       "that is negative.\n",
       "\n",
       "The recall is the ratio ``tp / (tp + fn)`` where ``tp`` is the number of\n",
       "true positives and ``fn`` the number of false negatives. The recall is\n",
       "intuitively the ability of the classifier to find all the positive samples.\n",
       "\n",
       "The last precision and recall values are 1. and 0. respectively and do not\n",
       "have a corresponding threshold. This ensures that the graph starts on the\n",
       "y axis.\n",
       "\n",
       "The first precision and recall values are precision=class balance and recall=1.0\n",
       "which corresponds to a classifier that always predicts the positive class.\n",
       "\n",
       "Read more in the :ref:`User Guide <precision_recall_f_measure_metrics>`.\n",
       "\n",
       "Parameters\n",
       "----------\n",
       "y_true : ndarray of shape (n_samples,)\n",
       "    True binary labels. If labels are not either {-1, 1} or {0, 1}, then\n",
       "    pos_label should be explicitly given.\n",
       "\n",
       "probas_pred : ndarray of shape (n_samples,)\n",
       "    Target scores, can either be probability estimates of the positive\n",
       "    class, or non-thresholded measure of decisions (as returned by\n",
       "    `decision_function` on some classifiers).\n",
       "\n",
       "pos_label : int or str, default=None\n",
       "    The label of the positive class.\n",
       "    When ``pos_label=None``, if y_true is in {-1, 1} or {0, 1},\n",
       "    ``pos_label`` is set to 1, otherwise an error will be raised.\n",
       "\n",
       "sample_weight : array-like of shape (n_samples,), default=None\n",
       "    Sample weights.\n",
       "\n",
       "Returns\n",
       "-------\n",
       "precision : ndarray of shape (n_thresholds + 1,)\n",
       "    Precision values such that element i is the precision of\n",
       "    predictions with score >= thresholds[i] and the last element is 1.\n",
       "\n",
       "recall : ndarray of shape (n_thresholds + 1,)\n",
       "    Decreasing recall values such that element i is the recall of\n",
       "    predictions with score >= thresholds[i] and the last element is 0.\n",
       "\n",
       "thresholds : ndarray of shape (n_thresholds,)\n",
       "    Increasing thresholds on the decision function used to compute\n",
       "    precision and recall where `n_thresholds = len(np.unique(probas_pred))`.\n",
       "\n",
       "See Also\n",
       "--------\n",
       "PrecisionRecallDisplay.from_estimator : Plot Precision Recall Curve given\n",
       "    a binary classifier.\n",
       "PrecisionRecallDisplay.from_predictions : Plot Precision Recall Curve\n",
       "    using predictions from a binary classifier.\n",
       "average_precision_score : Compute average precision from prediction scores.\n",
       "det_curve: Compute error rates for different probability thresholds.\n",
       "roc_curve : Compute Receiver operating characteristic (ROC) curve.\n",
       "\n",
       "Examples\n",
       "--------\n",
       ">>> import numpy as np\n",
       ">>> from sklearn.metrics import precision_recall_curve\n",
       ">>> y_true = np.array([0, 0, 1, 1])\n",
       ">>> y_scores = np.array([0.1, 0.4, 0.35, 0.8])\n",
       ">>> precision, recall, thresholds = precision_recall_curve(\n",
       "...     y_true, y_scores)\n",
       ">>> precision\n",
       "array([0.5       , 0.66666667, 0.5       , 1.        , 1.        ])\n",
       ">>> recall\n",
       "array([1. , 1. , 0.5, 0.5, 0. ])\n",
       ">>> thresholds\n",
       "array([0.1 , 0.35, 0.4 , 0.8 ])\n",
       "\u001b[1;31mFile:\u001b[0m      c:\\users\\junhuawa\\appdata\\local\\anaconda3\\lib\\site-packages\\sklearn\\metrics\\_ranking.py\n",
       "\u001b[1;31mType:\u001b[0m      function"
      ]
     },
     "metadata": {},
     "output_type": "display_data"
    }
   ],
   "source": [
    "precision_recall_curve?"
   ]
  },
  {
   "cell_type": "code",
   "execution_count": 26,
   "id": "8a2dcf8e-e673-4185-a957-970bf19a1457",
   "metadata": {},
   "outputs": [],
   "source": [
    "from sklearn.metrics import precision_recall_curve"
   ]
  },
  {
   "cell_type": "code",
   "execution_count": 29,
   "id": "d8592c6e-844d-4058-ab8f-8de64f417bf7",
   "metadata": {},
   "outputs": [],
   "source": [
    "precisions, recalls, thresholds = precision_recall_curve(y_test, decision_scores)"
   ]
  },
  {
   "cell_type": "code",
   "execution_count": 31,
   "id": "fa0d978e-0e7a-4b74-9878-9cae2fec9016",
   "metadata": {},
   "outputs": [
    {
     "data": {
      "text/plain": [
       "[<matplotlib.lines.Line2D at 0x23ef8b9e5d0>]"
      ]
     },
     "execution_count": 31,
     "metadata": {},
     "output_type": "execute_result"
    },
    {
     "data": {
      "image/png": "[encoded data removed]",
      "text/plain": [
       "<Figure size 640x480 with 1 Axes>"
      ]
     },
     "metadata": {},
     "output_type": "display_data"
    }
   ],
   "source": [
    "plt.plot(thresholds, precisions[:-1])\n",
    "plt.plot(thresholds, recalls[:-1])"
   ]
  },
  {
   "cell_type": "markdown",
   "id": "be0f2795-d80a-418f-b7f7-b506053fd81f",
   "metadata": {},
   "source": [
    "### ROC curve"
   ]
  },
  {
   "cell_type": "code",
   "execution_count": null,
   "id": "6f446749-c31b-4715-b459-b1f94cb1e68a",
   "metadata": {},
   "outputs": [],
   "source": [
    "from sklearn.metrics import recall_score\n",
    "thresholds = np.arange(np.min(decision_scores), np.max(decision_scores), 0.1)\n",
    "precisions = []\n",
    "recalls = []\n",
    "for threshold in thresholds:\n",
    "    y_predict = np.array(decision_scores >= threshold, dtype='int')\n",
    "    precisions.append(precision_score(y_test, y_predict))\n",
    "    recalls.append(recall_score(y_test, y_predict))"
   ]
  },
  {
   "cell_type": "code",
   "execution_count": 33,
   "id": "bfca9808-324c-4717-9066-c95c259e4c9c",
   "metadata": {},
   "outputs": [],
   "source": [
    "from sklearn.metrics import roc_curve"
   ]
  },
  {
   "cell_type": "code",
   "execution_count": 34,
   "id": "298e16d2-2db9-4468-8a42-9f176210f90f",
   "metadata": {},
   "outputs": [],
   "source": [
    "fpr, tpr, thresholds = roc_curve(y_test, decision_scores)"
   ]
  },
  {
   "cell_type": "code",
   "execution_count": 37,
   "id": "8b0d678a-b3bd-4ab8-a5eb-35f59688d51b",
   "metadata": {},
   "outputs": [
    {
     "data": {
      "text/plain": [
       "[<matplotlib.lines.Line2D at 0x23efb04f0d0>]"
      ]
     },
     "execution_count": 37,
     "metadata": {},
     "output_type": "execute_result"
    },
    {
     "data": {
      "image/png": "[encoded data removed]",
      "text/plain": [
       "<Figure size 640x480 with 1 Axes>"
      ]
     },
     "metadata": {},
     "output_type": "display_data"
    }
   ],
   "source": [
    "plt.plot(thresholds, fpr)\n",
    "plt.plot(thresholds, tpr, color='r')\n"
   ]
  },
  {
   "cell_type": "code",
   "execution_count": 36,
   "id": "3e09867e-0da5-4d9b-b2f2-2033ae16c84b",
   "metadata": {},
   "outputs": [
    {
     "data": {
      "text/plain": [
       "[<matplotlib.lines.Line2D at 0x23efb1f51d0>]"
      ]
     },
     "execution_count": 36,
     "metadata": {},
     "output_type": "execute_result"
    },
    {
     "data": {
      "image/png": "[encoded data removed]",
      "text/plain": [
       "<Figure size 640x480 with 1 Axes>"
      ]
     },
     "metadata": {},
     "output_type": "display_data"
    }
   ],
   "source": [
    "plt.plot(fpr, tpr)"
   ]
  },
  {
   "cell_type": "code",
   "execution_count": null,
   "id": "144f9568-05e8-4f0d-bc94-cce402dd3cfb",
   "metadata": {},
   "outputs": [],
   "source": []
  }
 ],
 "metadata": {
  "kernelspec": {
   "display_name": "Python 3 (ipykernel)",
   "language": "python",
   "name": "python3"
  },
  "language_info": {
   "codemirror_mode": {
    "name": "ipython",
    "version": 3
   },
   "file_extension": ".py",
   "mimetype": "text/x-python",
   "name": "python",
   "nbconvert_exporter": "python",
   "pygments_lexer": "ipython3",
   "version": "3.11.7"
  }
 },
 "nbformat": 4,
 "nbformat_minor": 5
}
