{
 "cells": [
  {
   "cell_type": "code",
   "execution_count": 1,
   "id": "ebc938ea-2c76-4feb-beb7-7536a956e19a",
   "metadata": {},
   "outputs": [],
   "source": [
    "import numpy as np\n",
    "import matplotlib.pyplot as plt\n",
    "import sys\n",
    "sys.path.append(r'C:\\\\N-20KEPC0Y7KFA-Data\\\\junhuawa\\\\Documents\\\\00-Play-with-ML-in-Python\\\\Jupyter')\n",
    "from playML.metrics import TPR\n",
    "from playML.metrics import FPR\n",
    "\n",
    "from sklearn.datasets import load_digits\n",
    "X = load_digits().data\n",
    "y = load_digits().target\n",
    "y = np.array( y == 9, dtype='int')\n",
    "from sklearn.linear_model import LogisticRegression\n",
    "log_reg = LogisticRegression(solver = 'liblinear')\n",
    "from sklearn.model_selection import train_test_split\n",
    "X_train, X_test, y_train, y_test = train_test_split(X, y, random_state = 666)\n",
    "log_reg.fit(X_train, y_train)\n",
    "#y_predict = log_reg.predict(X_test)\n",
    "decision_scores = log_reg.decision_function(X_test)"
   ]
  },
  {
   "cell_type": "code",
   "execution_count": 2,
   "id": "837d3631-86b1-4333-b249-97b8822ce296",
   "metadata": {},
   "outputs": [
    {
     "data": {
      "text/plain": [
       "[<matplotlib.lines.Line2D at 0x27f3e72e610>]"
      ]
     },
     "execution_count": 2,
     "metadata": {},
     "output_type": "execute_result"
    },
    {
     "data": {
      "image/png": "[encoded data removed]",
      "text/plain": [
       "<Figure size 640x480 with 1 Axes>"
      ]
     },
     "metadata": {},
     "output_type": "display_data"
    }
   ],
   "source": [
    "thresholds = np.arange(np.min(decision_scores), np.max(decision_scores), 0.1)\n",
    "tprs = []\n",
    "fprs = []\n",
    "for threshold in thresholds:\n",
    "    y_predict = np.array(decision_scores >= threshold, dtype='int')\n",
    "    fprs.append(FPR(y_test, y_predict))\n",
    "    tprs.append(TPR(y_test, y_predict))\n",
    "\t\n",
    "plt.plot(fprs, tprs)\n"
   ]
  },
  {
   "cell_type": "code",
   "execution_count": 5,
   "id": "d2328e9d-cb7c-4f7d-8d14-a618b1e39a6c",
   "metadata": {},
   "outputs": [],
   "source": [
    "y_predict = log_reg.predict(X_test)"
   ]
  },
  {
   "cell_type": "code",
   "execution_count": null,
   "id": "8261a416-0d63-46c7-94d7-b12e2adb16e6",
   "metadata": {},
   "outputs": [],
   "source": []
  },
  {
   "cell_type": "code",
   "execution_count": 8,
   "id": "63b3fe78-8547-4add-a44e-b2c785933f8b",
   "metadata": {},
   "outputs": [],
   "source": [
    "from playML.metrics import F1_Score"
   ]
  },
  {
   "cell_type": "code",
   "execution_count": 9,
   "id": "3d7b6ae5-0492-40c2-a068-44cb5a9e6744",
   "metadata": {},
   "outputs": [
    {
     "data": {
      "text/plain": [
       "0.8674698795180724"
      ]
     },
     "execution_count": 9,
     "metadata": {},
     "output_type": "execute_result"
    }
   ],
   "source": [
    "F1_Score(y_test, y_predict)"
   ]
  },
  {
   "cell_type": "markdown",
   "id": "f80a11b7-28fb-40d3-b7fb-7797e196c37c",
   "metadata": {},
   "source": [
    "### Sklearn 中的ROC曲线\n"
   ]
  },
  {
   "cell_type": "code",
   "execution_count": null,
   "id": "98ca2bed-f28d-4e56-9af9-8d0115d7138d",
   "metadata": {},
   "outputs": [],
   "source": [
    "from sklearn.metrics import roc_curve\n",
    "fpr, tpr, thresholds = roc_curve(y_test, decision_scores)\n",
    "plt.plot(fpr, tpr)\n",
    "plt.title(\"ROC curve \")\n",
    "plt.xlabel(\"FPR(false positive rate\")\n",
    "plt.ylabel(\"TPR(true positive rate)\")"
   ]
  },
  {
   "cell_type": "code",
   "execution_count": null,
   "id": "9cb0636a-d771-494e-a386-d87497f34b67",
   "metadata": {},
   "outputs": [],
   "source": [
    "from sklearn.metrics import roc_auc_score# 求ROC曲线下的面积"
   ]
  },
  {
   "cell_type": "code",
   "execution_count": null,
   "id": "699b5b03-b650-46a8-b384-7b223abd2bee",
   "metadata": {},
   "outputs": [],
   "source": [
    "roc_auc_score?"
   ]
  },
  {
   "cell_type": "code",
   "execution_count": null,
   "id": "a74fc6f8-fe64-4eec-a999-ef14e09559b0",
   "metadata": {},
   "outputs": [],
   "source": [
    "roc_auc_score(y_test, decision_scores)"
   ]
  },
  {
   "cell_type": "code",
   "execution_count": null,
   "id": "059a02c5-fce7-4daf-a261-5354829c9c6c",
   "metadata": {},
   "outputs": [],
   "source": []
  }
 ],
 "metadata": {
  "kernelspec": {
   "display_name": "Python 3 (ipykernel)",
   "language": "python",
   "name": "python3"
  },
  "language_info": {
   "codemirror_mode": {
    "name": "ipython",
    "version": 3
   },
   "file_extension": ".py",
   "mimetype": "text/x-python",
   "name": "python",
   "nbconvert_exporter": "python",
   "pygments_lexer": "ipython3",
   "version": "3.11.7"
  }
 },
 "nbformat": 4,
 "nbformat_minor": 5
}
