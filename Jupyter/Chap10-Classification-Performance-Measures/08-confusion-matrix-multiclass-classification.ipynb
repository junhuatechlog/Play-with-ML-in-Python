{
 "cells": [
  {
   "cell_type": "code",
   "execution_count": 3,
   "id": "4402e656-4fcb-4376-8218-bb577a06dd97",
   "metadata": {},
   "outputs": [],
   "source": [
    "import numpy as np\n",
    "import matplotlib.pyplot as plt\n",
    "from sklearn.datasets import load_digits\n",
    "X = load_digits().data\n",
    "y = load_digits().target\n",
    "\n",
    "from sklearn.linear_model import LogisticRegression\n",
    "log_reg = LogisticRegression(solver = 'liblinear')\n",
    "from sklearn.model_selection import train_test_split\n",
    "X_train, X_test, y_train, y_test = train_test_split(X, y, test_size=0.8)"
   ]
  },
  {
   "cell_type": "code",
   "execution_count": 4,
   "id": "9bd0bf98-e311-48ba-b48a-71b2b3938021",
   "metadata": {},
   "outputs": [
    {
     "data": {
      "text/html": [
       "<style>#sk-container-id-2 {color: black;background-color: white;}#sk-container-id-2 pre{padding: 0;}#sk-container-id-2 div.sk-toggleable {background-color: white;}#sk-container-id-2 label.sk-toggleable__label {cursor: pointer;display: block;width: 100%;margin-bottom: 0;padding: 0.3em;box-sizing: border-box;text-align: center;}#sk-container-id-2 label.sk-toggleable__label-arrow:before {content: \"▸\";float: left;margin-right: 0.25em;color: #696969;}#sk-container-id-2 label.sk-toggleable__label-arrow:hover:before {color: black;}#sk-container-id-2 div.sk-estimator:hover label.sk-toggleable__label-arrow:before {color: black;}#sk-container-id-2 div.sk-toggleable__content {max-height: 0;max-width: 0;overflow: hidden;text-align: left;background-color: #f0f8ff;}#sk-container-id-2 div.sk-toggleable__content pre {margin: 0.2em;color: black;border-radius: 0.25em;background-color: #f0f8ff;}#sk-container-id-2 input.sk-toggleable__control:checked~div.sk-toggleable__content {max-height: 200px;max-width: 100%;overflow: auto;}#sk-container-id-2 input.sk-toggleable__control:checked~label.sk-toggleable__label-arrow:before {content: \"▾\";}#sk-container-id-2 div.sk-estimator input.sk-toggleable__control:checked~label.sk-toggleable__label {background-color: #d4ebff;}#sk-container-id-2 div.sk-label input.sk-toggleable__control:checked~label.sk-toggleable__label {background-color: #d4ebff;}#sk-container-id-2 input.sk-hidden--visually {border: 0;clip: rect(1px 1px 1px 1px);clip: rect(1px, 1px, 1px, 1px);height: 1px;margin: -1px;overflow: hidden;padding: 0;position: absolute;width: 1px;}#sk-container-id-2 div.sk-estimator {font-family: monospace;background-color: #f0f8ff;border: 1px dotted black;border-radius: 0.25em;box-sizing: border-box;margin-bottom: 0.5em;}#sk-container-id-2 div.sk-estimator:hover {background-color: #d4ebff;}#sk-container-id-2 div.sk-parallel-item::after {content: \"\";width: 100%;border-bottom: 1px solid gray;flex-grow: 1;}#sk-container-id-2 div.sk-label:hover label.sk-toggleable__label {background-color: #d4ebff;}#sk-container-id-2 div.sk-serial::before {content: \"\";position: absolute;border-left: 1px solid gray;box-sizing: border-box;top: 0;bottom: 0;left: 50%;z-index: 0;}#sk-container-id-2 div.sk-serial {display: flex;flex-direction: column;align-items: center;background-color: white;padding-right: 0.2em;padding-left: 0.2em;position: relative;}#sk-container-id-2 div.sk-item {position: relative;z-index: 1;}#sk-container-id-2 div.sk-parallel {display: flex;align-items: stretch;justify-content: center;background-color: white;position: relative;}#sk-container-id-2 div.sk-item::before, #sk-container-id-2 div.sk-parallel-item::before {content: \"\";position: absolute;border-left: 1px solid gray;box-sizing: border-box;top: 0;bottom: 0;left: 50%;z-index: -1;}#sk-container-id-2 div.sk-parallel-item {display: flex;flex-direction: column;z-index: 1;position: relative;background-color: white;}#sk-container-id-2 div.sk-parallel-item:first-child::after {align-self: flex-end;width: 50%;}#sk-container-id-2 div.sk-parallel-item:last-child::after {align-self: flex-start;width: 50%;}#sk-container-id-2 div.sk-parallel-item:only-child::after {width: 0;}#sk-container-id-2 div.sk-dashed-wrapped {border: 1px dashed gray;margin: 0 0.4em 0.5em 0.4em;box-sizing: border-box;padding-bottom: 0.4em;background-color: white;}#sk-container-id-2 div.sk-label label {font-family: monospace;font-weight: bold;display: inline-block;line-height: 1.2em;}#sk-container-id-2 div.sk-label-container {text-align: center;}#sk-container-id-2 div.sk-container {/* jupyter's `normalize.less` sets `[hidden] { display: none; }` but bootstrap.min.css set `[hidden] { display: none !important; }` so we also need the `!important` here to be able to override the default hidden behavior on the sphinx rendered scikit-learn.org. See: https://github.com/scikit-learn/scikit-learn/issues/21755 */display: inline-block !important;position: relative;}#sk-container-id-2 div.sk-text-repr-fallback {display: none;}</style><div id=\"sk-container-id-2\" class=\"sk-top-container\"><div class=\"sk-text-repr-fallback\"><pre>LogisticRegression(solver=&#x27;liblinear&#x27;)</pre><b>In a Jupyter environment, please rerun this cell to show the HTML representation or trust the notebook. <br />On GitHub, the HTML representation is unable to render, please try loading this page with nbviewer.org.</b></div><div class=\"sk-container\" hidden><div class=\"sk-item\"><div class=\"sk-estimator sk-toggleable\"><input class=\"sk-toggleable__control sk-hidden--visually\" id=\"sk-estimator-id-2\" type=\"checkbox\" checked><label for=\"sk-estimator-id-2\" class=\"sk-toggleable__label sk-toggleable__label-arrow\">LogisticRegression</label><div class=\"sk-toggleable__content\"><pre>LogisticRegression(solver=&#x27;liblinear&#x27;)</pre></div></div></div></div></div>"
      ],
      "text/plain": [
       "LogisticRegression(solver='liblinear')"
      ]
     },
     "execution_count": 4,
     "metadata": {},
     "output_type": "execute_result"
    }
   ],
   "source": [
    "log_reg.fit(X_train, y_train)"
   ]
  },
  {
   "cell_type": "code",
   "execution_count": 5,
   "id": "83b0adbf-155a-431b-9f42-656eedeadd5f",
   "metadata": {},
   "outputs": [
    {
     "data": {
      "text/plain": [
       "0.9325452016689847"
      ]
     },
     "execution_count": 5,
     "metadata": {},
     "output_type": "execute_result"
    }
   ],
   "source": [
    "log_reg.score(X_test, y_test)"
   ]
  },
  {
   "cell_type": "code",
   "execution_count": 6,
   "id": "f554ba5b-2c8c-4074-b80d-3f66ded2a867",
   "metadata": {},
   "outputs": [],
   "source": [
    "y_predict = log_reg.predict(X_test)"
   ]
  },
  {
   "cell_type": "code",
   "execution_count": 7,
   "id": "318fab24-eb48-4b34-98cf-f2b4a13da4d5",
   "metadata": {},
   "outputs": [
    {
     "data": {
      "text/plain": [
       "array([4, 8, 2, ..., 9, 8, 4])"
      ]
     },
     "execution_count": 7,
     "metadata": {},
     "output_type": "execute_result"
    }
   ],
   "source": [
    "y_predict"
   ]
  },
  {
   "cell_type": "code",
   "execution_count": 8,
   "id": "a0d8cef6-4cb0-46ac-aed8-3619eefd68db",
   "metadata": {},
   "outputs": [
    {
     "data": {
      "text/plain": [
       "1438"
      ]
     },
     "execution_count": 8,
     "metadata": {},
     "output_type": "execute_result"
    }
   ],
   "source": [
    "len(y_predict)"
   ]
  },
  {
   "cell_type": "code",
   "execution_count": 9,
   "id": "3e647bea-7b9e-4bcc-a011-c34739435797",
   "metadata": {},
   "outputs": [],
   "source": [
    "from sklearn.metrics import confusion_matrix"
   ]
  },
  {
   "cell_type": "code",
   "execution_count": 13,
   "id": "6bd53733-93ed-4aa9-a83a-e0ee5029ac19",
   "metadata": {},
   "outputs": [],
   "source": [
    "cfm = confusion_matrix(y_test, y_predict)"
   ]
  },
  {
   "cell_type": "code",
   "execution_count": 53,
   "id": "cdeb6aaf-a73a-41e4-b7cd-638ef6e6597e",
   "metadata": {},
   "outputs": [
    {
     "data": {
      "text/plain": [
       "Text(0.5, 1.0, 'confusion matrix')"
      ]
     },
     "execution_count": 53,
     "metadata": {},
     "output_type": "execute_result"
    },
    {
     "data": {
      "image/png": "[encoded data removed]",
      "text/plain": [
       "<Figure size 480x480 with 1 Axes>"
      ]
     },
     "metadata": {},
     "output_type": "display_data"
    }
   ],
   "source": [
    "plt.matshow(cfm, cmap=plt.cm.gray)\n",
    "plt.title('confusion matrix')"
   ]
  },
  {
   "cell_type": "code",
   "execution_count": 15,
   "id": "ef01812a-a27e-4640-8eb8-b67bda5747f9",
   "metadata": {},
   "outputs": [
    {
     "data": {
      "text/plain": [
       "array([[146,   0,   0,   0,   0,   0,   0,   0,   0,   0],\n",
       "       [  0, 129,   0,   0,   0,   0,   0,   0,  14,   1],\n",
       "       [  2,   3, 137,   4,   0,   0,   0,   1,   1,   0],\n",
       "       [  0,   0,   0, 133,   0,   5,   0,   5,   6,   0],\n",
       "       [  0,   1,   0,   0, 143,   0,   0,   0,   2,   2],\n",
       "       [  1,   0,   1,   0,   0, 131,   1,   1,   0,   1],\n",
       "       [  0,   3,   0,   0,   0,   1, 149,   0,   3,   0],\n",
       "       [  0,   0,   0,   0,   0,   0,   0, 118,   2,   5],\n",
       "       [  0,   2,   2,   1,   0,   1,   0,   1, 124,   1],\n",
       "       [  0,   7,   2,   1,   1,   2,   0,   2,   8, 131]], dtype=int64)"
      ]
     },
     "execution_count": 15,
     "metadata": {},
     "output_type": "execute_result"
    }
   ],
   "source": [
    "cfm"
   ]
  },
  {
   "cell_type": "code",
   "execution_count": 16,
   "id": "f9685e2f-469a-48cb-9cf7-d0f4a41146df",
   "metadata": {},
   "outputs": [
    {
     "ename": "IndexError",
     "evalue": "index 10 is out of bounds for axis 0 with size 10",
     "output_type": "error",
     "traceback": [
      "\u001b[1;31m---------------------------------------------------------------------------\u001b[0m",
      "\u001b[1;31mIndexError\u001b[0m                                Traceback (most recent call last)",
      "Cell \u001b[1;32mIn[16], line 1\u001b[0m\n\u001b[1;32m----> 1\u001b[0m cfm[\u001b[38;5;241m4\u001b[39m][\u001b[38;5;241m10\u001b[39m]\n",
      "\u001b[1;31mIndexError\u001b[0m: index 10 is out of bounds for axis 0 with size 10"
     ]
    }
   ],
   "source": [
    "cfm[4][10]"
   ]
  },
  {
   "cell_type": "code",
   "execution_count": 18,
   "id": "6272ae11-a918-4d00-8be4-4bbc8886d61a",
   "metadata": {},
   "outputs": [
    {
     "data": {
      "text/plain": [
       "2"
      ]
     },
     "execution_count": 18,
     "metadata": {},
     "output_type": "execute_result"
    }
   ],
   "source": [
    "cfm[4][9]"
   ]
  },
  {
   "cell_type": "code",
   "execution_count": 19,
   "id": "afb6914f-9375-414a-b303-64b267eeabd1",
   "metadata": {},
   "outputs": [],
   "source": [
    "cfm[4][9]=30"
   ]
  },
  {
   "cell_type": "code",
   "execution_count": 20,
   "id": "87b310df-870a-46f1-a57f-902986c6b315",
   "metadata": {},
   "outputs": [
    {
     "data": {
      "text/plain": [
       "array([[146,   0,   0,   0,   0,   0,   0,   0,   0,   0],\n",
       "       [  0, 129,   0,   0,   0,   0,   0,   0,  14,   1],\n",
       "       [  2,   3, 137,   4,   0,   0,   0,   1,   1,   0],\n",
       "       [  0,   0,   0, 133,   0,   5,   0,   5,   6,   0],\n",
       "       [  0,   1,   0,   0, 143,   0,   0,   0,   2,  30],\n",
       "       [  1,   0,   1,   0,   0, 131,   1,   1,   0,   1],\n",
       "       [  0,   3,   0,   0,   0,   1, 149,   0,   3,   0],\n",
       "       [  0,   0,   0,   0,   0,   0,   0, 118,   2,   5],\n",
       "       [  0,   2,   2,   1,   0,   1,   0,   1, 124,   1],\n",
       "       [  0,   7,   2,   1,   1,   2,   0,   2,   8, 131]], dtype=int64)"
      ]
     },
     "execution_count": 20,
     "metadata": {},
     "output_type": "execute_result"
    }
   ],
   "source": [
    "cfm"
   ]
  },
  {
   "cell_type": "code",
   "execution_count": 21,
   "id": "0024a1d1-a2f8-48ea-be86-39f9c3cbe450",
   "metadata": {},
   "outputs": [
    {
     "data": {
      "text/plain": [
       "<matplotlib.image.AxesImage at 0x18c777de210>"
      ]
     },
     "execution_count": 21,
     "metadata": {},
     "output_type": "execute_result"
    },
    {
     "data": {
      "image/png": "[encoded data removed]",
      "text/plain": [
       "<Figure size 480x480 with 1 Axes>"
      ]
     },
     "metadata": {},
     "output_type": "display_data"
    }
   ],
   "source": [
    "plt.matshow(cfm, cmap=plt.cm.gray)"
   ]
  },
  {
   "cell_type": "code",
   "execution_count": 22,
   "id": "2b5d766f-1e9a-4c38-9176-a4f7c2b92c32",
   "metadata": {},
   "outputs": [],
   "source": [
    "cfm[5][1]=100"
   ]
  },
  {
   "cell_type": "code",
   "execution_count": 23,
   "id": "fd48d589-f22d-4c9a-be4c-ef4d677351ff",
   "metadata": {},
   "outputs": [
    {
     "data": {
      "text/plain": [
       "<matplotlib.image.AxesImage at 0x18c7786b890>"
      ]
     },
     "execution_count": 23,
     "metadata": {},
     "output_type": "execute_result"
    },
    {
     "data": {
      "image/png": "[encoded data removed]",
      "text/plain": [
       "<Figure size 480x480 with 1 Axes>"
      ]
     },
     "metadata": {},
     "output_type": "display_data"
    }
   ],
   "source": [
    "plt.matshow(cfm, cmap=plt.cm.gray)"
   ]
  },
  {
   "cell_type": "code",
   "execution_count": 24,
   "id": "aa7da0cc-c23d-4152-bf82-e2d62ff24ec8",
   "metadata": {},
   "outputs": [],
   "source": [
    "cfm = confusion_matrix(y_test, y_predict)"
   ]
  },
  {
   "cell_type": "code",
   "execution_count": 25,
   "id": "9df7d8cd-18d5-41bf-b732-2fa8fd3a97db",
   "metadata": {},
   "outputs": [],
   "source": [
    "row_sums = cfm.sum(axis=1, keepdims=True)"
   ]
  },
  {
   "cell_type": "code",
   "execution_count": 26,
   "id": "dcfaf48a-00b7-470f-8aec-1649b4451f24",
   "metadata": {},
   "outputs": [
    {
     "data": {
      "text/plain": [
       "array([[146],\n",
       "       [144],\n",
       "       [148],\n",
       "       [149],\n",
       "       [148],\n",
       "       [136],\n",
       "       [156],\n",
       "       [125],\n",
       "       [132],\n",
       "       [154]], dtype=int64)"
      ]
     },
     "execution_count": 26,
     "metadata": {},
     "output_type": "execute_result"
    }
   ],
   "source": [
    "row_sums\n"
   ]
  },
  {
   "cell_type": "code",
   "execution_count": 27,
   "id": "d7b7767c-b16b-4059-b0ec-6ee81d285b1e",
   "metadata": {},
   "outputs": [],
   "source": [
    "norm_cfm = cfm/row_sums"
   ]
  },
  {
   "cell_type": "code",
   "execution_count": 28,
   "id": "e1e89c6c-9091-475a-b1a0-6602647facba",
   "metadata": {},
   "outputs": [
    {
     "data": {
      "text/plain": [
       "array([[1.        , 0.        , 0.        , 0.        , 0.        ,\n",
       "        0.        , 0.        , 0.        , 0.        , 0.        ],\n",
       "       [0.        , 0.89583333, 0.        , 0.        , 0.        ,\n",
       "        0.        , 0.        , 0.        , 0.09722222, 0.00694444],\n",
       "       [0.01351351, 0.02027027, 0.92567568, 0.02702703, 0.        ,\n",
       "        0.        , 0.        , 0.00675676, 0.00675676, 0.        ],\n",
       "       [0.        , 0.        , 0.        , 0.89261745, 0.        ,\n",
       "        0.03355705, 0.        , 0.03355705, 0.04026846, 0.        ],\n",
       "       [0.        , 0.00675676, 0.        , 0.        , 0.96621622,\n",
       "        0.        , 0.        , 0.        , 0.01351351, 0.01351351],\n",
       "       [0.00735294, 0.        , 0.00735294, 0.        , 0.        ,\n",
       "        0.96323529, 0.00735294, 0.00735294, 0.        , 0.00735294],\n",
       "       [0.        , 0.01923077, 0.        , 0.        , 0.        ,\n",
       "        0.00641026, 0.95512821, 0.        , 0.01923077, 0.        ],\n",
       "       [0.        , 0.        , 0.        , 0.        , 0.        ,\n",
       "        0.        , 0.        , 0.944     , 0.016     , 0.04      ],\n",
       "       [0.        , 0.01515152, 0.01515152, 0.00757576, 0.        ,\n",
       "        0.00757576, 0.        , 0.00757576, 0.93939394, 0.00757576],\n",
       "       [0.        , 0.04545455, 0.01298701, 0.00649351, 0.00649351,\n",
       "        0.01298701, 0.        , 0.01298701, 0.05194805, 0.85064935]])"
      ]
     },
     "execution_count": 28,
     "metadata": {},
     "output_type": "execute_result"
    }
   ],
   "source": [
    "norm_cfm"
   ]
  },
  {
   "cell_type": "code",
   "execution_count": 29,
   "id": "1f6e8299-81fe-4433-827a-e9369edca521",
   "metadata": {},
   "outputs": [
    {
     "data": {
      "text/plain": [
       "<matplotlib.image.AxesImage at 0x18c778cc1d0>"
      ]
     },
     "execution_count": 29,
     "metadata": {},
     "output_type": "execute_result"
    },
    {
     "data": {
      "image/png": "[encoded data removed]",
      "text/plain": [
       "<Figure size 480x480 with 1 Axes>"
      ]
     },
     "metadata": {},
     "output_type": "display_data"
    }
   ],
   "source": [
    "plt.matshow(norm_cfm, cmap=plt.cm.gray)"
   ]
  },
  {
   "cell_type": "code",
   "execution_count": 39,
   "id": "bb6b7e59-81df-4c9a-a529-05aaf2182989",
   "metadata": {},
   "outputs": [],
   "source": [
    "np.fill_diagonal(norm_cfm, 0.001)"
   ]
  },
  {
   "cell_type": "code",
   "execution_count": 40,
   "id": "ebeb75a5-216c-4f83-a827-27ced79c4992",
   "metadata": {},
   "outputs": [
    {
     "data": {
      "text/plain": [
       "array([[0.001     , 0.        , 0.        , 0.        , 0.        ,\n",
       "        0.        , 0.        , 0.        , 0.        , 0.        ],\n",
       "       [0.        , 0.001     , 0.        , 0.        , 0.        ,\n",
       "        0.        , 0.        , 0.        , 0.09722222, 0.00694444],\n",
       "       [0.01351351, 0.02027027, 0.001     , 0.02702703, 0.        ,\n",
       "        0.        , 0.        , 0.00675676, 0.00675676, 0.        ],\n",
       "       [0.        , 0.        , 0.        , 0.001     , 0.        ,\n",
       "        0.03355705, 0.        , 0.03355705, 0.04026846, 0.        ],\n",
       "       [0.        , 0.00675676, 0.        , 0.        , 0.001     ,\n",
       "        0.        , 0.        , 0.        , 0.01351351, 0.01351351],\n",
       "       [0.00735294, 0.        , 0.00735294, 0.        , 0.        ,\n",
       "        0.001     , 0.00735294, 0.00735294, 0.        , 0.00735294],\n",
       "       [0.        , 0.01923077, 0.        , 0.        , 0.        ,\n",
       "        0.00641026, 0.001     , 0.        , 0.01923077, 0.        ],\n",
       "       [0.        , 0.        , 0.        , 0.        , 0.        ,\n",
       "        0.        , 0.        , 0.001     , 0.016     , 0.04      ],\n",
       "       [0.        , 0.01515152, 0.01515152, 0.00757576, 0.        ,\n",
       "        0.00757576, 0.        , 0.00757576, 0.001     , 0.00757576],\n",
       "       [0.        , 0.04545455, 0.01298701, 0.00649351, 0.00649351,\n",
       "        0.01298701, 0.        , 0.01298701, 0.05194805, 0.001     ]])"
      ]
     },
     "execution_count": 40,
     "metadata": {},
     "output_type": "execute_result"
    }
   ],
   "source": [
    "norm_cfm"
   ]
  },
  {
   "cell_type": "code",
   "execution_count": 54,
   "id": "3fb43c1f-c176-4238-a4a9-f279902b33a2",
   "metadata": {},
   "outputs": [
    {
     "data": {
      "text/plain": [
       "Text(0.5, 1.0, 'matrix without diagonal values')"
      ]
     },
     "execution_count": 54,
     "metadata": {},
     "output_type": "execute_result"
    },
    {
     "data": {
      "image/png": "[encoded data removed]",
      "text/plain": [
       "<Figure size 480x480 with 1 Axes>"
      ]
     },
     "metadata": {},
     "output_type": "display_data"
    }
   ],
   "source": [
    "plt.matshow(norm_cfm, cmap=plt.cm.gray)\n",
    "plt.title(\"matrix without diagonal values\")"
   ]
  },
  {
   "cell_type": "code",
   "execution_count": null,
   "id": "707b7562-99b5-49f1-aa09-f858ce8c9008",
   "metadata": {},
   "outputs": [],
   "source": []
  },
  {
   "cell_type": "code",
   "execution_count": 44,
   "id": "50dd9852-2337-4a04-bf77-96a7dd692425",
   "metadata": {},
   "outputs": [
    {
     "ename": "SyntaxError",
     "evalue": "closing parenthesis ')' does not match opening parenthesis '[' (2472760434.py, line 1)",
     "output_type": "error",
     "traceback": [
      "\u001b[1;36m  Cell \u001b[1;32mIn[44], line 1\u001b[1;36m\u001b[0m\n\u001b[1;33m    X_38 = np.array([X_test[(y_test == 3)&(y_predict ==8)], dtype='int')\u001b[0m\n\u001b[1;37m                                                                       ^\u001b[0m\n\u001b[1;31mSyntaxError\u001b[0m\u001b[1;31m:\u001b[0m closing parenthesis ')' does not match opening parenthesis '['\n"
     ]
    }
   ],
   "source": [
    "X_38 = np.array([X_test[(y_test == 3)&(y_predict ==8)], dtype='int')"
   ]
  },
  {
   "cell_type": "code",
   "execution_count": 45,
   "id": "57f77191-ead8-41f8-b0ea-6d05622d676d",
   "metadata": {},
   "outputs": [
    {
     "data": {
      "text/plain": [
       "array([[ 0.,  0.,  6., 12., 13., 12.,  0.,  0.,  0.,  0., 14., 12.,  7.,\n",
       "        16.,  1.,  0.,  0.,  0.,  6.,  6., 14.,  9.,  0.,  0.,  0.,  0.,\n",
       "         0., 14., 11.,  1.,  0.,  0.,  0.,  0.,  0.,  5., 16.,  5.,  0.,\n",
       "         0.,  0.,  0.,  0.,  0.,  6., 14.,  1.,  0.,  0.,  0., 10.,  8.,\n",
       "         3., 16.,  1.,  0.,  0.,  0.,  4., 14., 16., 12.,  0.,  0.],\n",
       "       [ 0.,  0.,  4., 13., 14.,  2.,  0.,  0.,  0.,  0., 15., 10., 11.,\n",
       "        10.,  0.,  0.,  0.,  3., 15.,  2., 12.,  6.,  0.,  0.,  0.,  0.,\n",
       "         3.,  8., 16.,  7.,  0.,  0.,  0.,  0.,  0.,  4.,  9., 16.,  2.,\n",
       "         0.,  0.,  0., 10.,  3.,  0., 13.,  6.,  0.,  0.,  0., 16.,  5.,\n",
       "         7., 16.,  3.,  0.,  0.,  0.,  7., 13., 13.,  8.,  0.,  0.],\n",
       "       [ 0.,  1.,  8., 13., 16., 13.,  0.,  0.,  0.,  1., 13., 12., 15.,\n",
       "        16.,  0.,  0.,  0.,  0.,  0.,  5., 15.,  8.,  0.,  0.,  0.,  0.,\n",
       "         5., 15.,  5.,  0.,  0.,  0.,  0.,  0.,  6., 16., 11.,  1.,  0.,\n",
       "         0.,  0.,  0.,  2., 13., 16., 11.,  0.,  0.,  0.,  0.,  0.,  2.,\n",
       "        14., 16.,  4.,  0.,  0.,  0., 13., 16., 15.,  7.,  0.,  0.],\n",
       "       [ 0.,  0.,  2., 11., 12.,  1.,  0.,  0.,  0.,  2., 14.,  9.,  9.,\n",
       "         8.,  0.,  0.,  0., 10., 12.,  0., 13.,  6.,  0.,  0.,  0.,  6.,\n",
       "         5.,  2., 13.,  2.,  0.,  0.,  0.,  0.,  0., 10.,  9.,  0.,  0.,\n",
       "         0.,  0.,  0.,  0.,  1., 10.,  9.,  1.,  0.,  0.,  0.,  6.,  7.,\n",
       "         0., 12.,  6.,  0.,  0.,  0.,  1., 12., 16., 16.,  5.,  0.],\n",
       "       [ 0.,  0., 11., 15., 16., 10.,  0.,  0.,  0.,  8., 16.,  8., 15.,\n",
       "        16.,  0.,  0.,  0.,  5.,  6., 10., 16.,  8.,  0.,  0.,  0.,  0.,\n",
       "         4., 16., 11.,  1.,  0.,  0.,  0.,  0.,  2., 15.,  9.,  0.,  0.,\n",
       "         0.,  0.,  0.,  0.,  9., 16.,  2.,  0.,  0.,  0.,  0.,  0.,  8.,\n",
       "        16.,  5.,  0.,  0.,  0.,  0., 13., 16., 15.,  0.,  0.,  0.],\n",
       "       [ 0.,  0.,  0.,  6., 15.,  6.,  0.,  0.,  0.,  1., 11., 13.,  8.,\n",
       "        11.,  0.,  0.,  0.,  9., 13.,  0.,  9., 10.,  0.,  0.,  0.,  8.,\n",
       "         9.,  3., 15.,  3.,  0.,  0.,  0.,  0.,  0.,  5., 14.,  3.,  0.,\n",
       "         0.,  0.,  0.,  3.,  0.,  5., 13.,  2.,  0.,  0.,  0.,  9., 12.,\n",
       "         5., 10.,  7.,  0.,  0.,  0.,  0.,  6., 12., 15.,  5.,  0.]])"
      ]
     },
     "execution_count": 45,
     "metadata": {},
     "output_type": "execute_result"
    }
   ],
   "source": [
    "X_38"
   ]
  },
  {
   "cell_type": "code",
   "execution_count": 46,
   "id": "108c6307-86cf-4e6c-9c46-45c3fb26010b",
   "metadata": {},
   "outputs": [
    {
     "data": {
      "text/plain": [
       "6"
      ]
     },
     "execution_count": 46,
     "metadata": {},
     "output_type": "execute_result"
    }
   ],
   "source": [
    "len(X_38)"
   ]
  },
  {
   "cell_type": "code",
   "execution_count": 52,
   "id": "10480a34-e9c0-4d5c-8693-4f0ff9c6636d",
   "metadata": {},
   "outputs": [
    {
     "data": {
      "text/plain": [
       "<matplotlib.image.AxesImage at 0x18c77d534d0>"
      ]
     },
     "execution_count": 52,
     "metadata": {},
     "output_type": "execute_result"
    },
    {
     "data": {
      "image/png": "[encoded data removed]",
      "text/plain": [
       "<Figure size 640x480 with 1 Axes>"
      ]
     },
     "metadata": {},
     "output_type": "display_data"
    }
   ],
   "source": [
    "plt.imshow(X_38[4].reshape(8, 8), cmap='binary')"
   ]
  },
  {
   "cell_type": "code",
   "execution_count": 55,
   "id": "345d8011-1cad-4887-b3e0-5667a30f7102",
   "metadata": {},
   "outputs": [],
   "source": [
    "from sklearn.metrics import precision_score"
   ]
  },
  {
   "cell_type": "code",
   "execution_count": 56,
   "id": "cb66d197-15af-492a-b69c-51099c148e39",
   "metadata": {},
   "outputs": [
    {
     "ename": "ValueError",
     "evalue": "Target is multiclass but average='binary'. Please choose another average setting, one of [None, 'micro', 'macro', 'weighted'].",
     "output_type": "error",
     "traceback": [
      "\u001b[1;31m---------------------------------------------------------------------------\u001b[0m",
      "\u001b[1;31mValueError\u001b[0m                                Traceback (most recent call last)",
      "Cell \u001b[1;32mIn[56], line 1\u001b[0m\n\u001b[1;32m----> 1\u001b[0m precision_score(y_test, y_predict)\n",
      "File \u001b[1;32m~\\AppData\\Local\\anaconda3\\Lib\\site-packages\\sklearn\\metrics\\_classification.py:1954\u001b[0m, in \u001b[0;36mprecision_score\u001b[1;34m(y_true, y_pred, labels, pos_label, average, sample_weight, zero_division)\u001b[0m\n\u001b[0;32m   1825\u001b[0m \u001b[38;5;28;01mdef\u001b[39;00m \u001b[38;5;21mprecision_score\u001b[39m(\n\u001b[0;32m   1826\u001b[0m     y_true,\n\u001b[0;32m   1827\u001b[0m     y_pred,\n\u001b[1;32m   (...)\u001b[0m\n\u001b[0;32m   1833\u001b[0m     zero_division\u001b[38;5;241m=\u001b[39m\u001b[38;5;124m\"\u001b[39m\u001b[38;5;124mwarn\u001b[39m\u001b[38;5;124m\"\u001b[39m,\n\u001b[0;32m   1834\u001b[0m ):\n\u001b[0;32m   1835\u001b[0m \u001b[38;5;250m    \u001b[39m\u001b[38;5;124;03m\"\"\"Compute the precision.\u001b[39;00m\n\u001b[0;32m   1836\u001b[0m \n\u001b[0;32m   1837\u001b[0m \u001b[38;5;124;03m    The precision is the ratio ``tp / (tp + fp)`` where ``tp`` is the number of\u001b[39;00m\n\u001b[1;32m   (...)\u001b[0m\n\u001b[0;32m   1952\u001b[0m \u001b[38;5;124;03m    array([0.5, 1. , 1. ])\u001b[39;00m\n\u001b[0;32m   1953\u001b[0m \u001b[38;5;124;03m    \"\"\"\u001b[39;00m\n\u001b[1;32m-> 1954\u001b[0m     p, _, _, _ \u001b[38;5;241m=\u001b[39m precision_recall_fscore_support(\n\u001b[0;32m   1955\u001b[0m         y_true,\n\u001b[0;32m   1956\u001b[0m         y_pred,\n\u001b[0;32m   1957\u001b[0m         labels\u001b[38;5;241m=\u001b[39mlabels,\n\u001b[0;32m   1958\u001b[0m         pos_label\u001b[38;5;241m=\u001b[39mpos_label,\n\u001b[0;32m   1959\u001b[0m         average\u001b[38;5;241m=\u001b[39maverage,\n\u001b[0;32m   1960\u001b[0m         warn_for\u001b[38;5;241m=\u001b[39m(\u001b[38;5;124m\"\u001b[39m\u001b[38;5;124mprecision\u001b[39m\u001b[38;5;124m\"\u001b[39m,),\n\u001b[0;32m   1961\u001b[0m         sample_weight\u001b[38;5;241m=\u001b[39msample_weight,\n\u001b[0;32m   1962\u001b[0m         zero_division\u001b[38;5;241m=\u001b[39mzero_division,\n\u001b[0;32m   1963\u001b[0m     )\n\u001b[0;32m   1964\u001b[0m     \u001b[38;5;28;01mreturn\u001b[39;00m p\n",
      "File \u001b[1;32m~\\AppData\\Local\\anaconda3\\Lib\\site-packages\\sklearn\\metrics\\_classification.py:1573\u001b[0m, in \u001b[0;36mprecision_recall_fscore_support\u001b[1;34m(y_true, y_pred, beta, labels, pos_label, average, warn_for, sample_weight, zero_division)\u001b[0m\n\u001b[0;32m   1571\u001b[0m \u001b[38;5;28;01mif\u001b[39;00m beta \u001b[38;5;241m<\u001b[39m \u001b[38;5;241m0\u001b[39m:\n\u001b[0;32m   1572\u001b[0m     \u001b[38;5;28;01mraise\u001b[39;00m \u001b[38;5;167;01mValueError\u001b[39;00m(\u001b[38;5;124m\"\u001b[39m\u001b[38;5;124mbeta should be >=0 in the F-beta score\u001b[39m\u001b[38;5;124m\"\u001b[39m)\n\u001b[1;32m-> 1573\u001b[0m labels \u001b[38;5;241m=\u001b[39m _check_set_wise_labels(y_true, y_pred, average, labels, pos_label)\n\u001b[0;32m   1575\u001b[0m \u001b[38;5;66;03m# Calculate tp_sum, pred_sum, true_sum ###\u001b[39;00m\n\u001b[0;32m   1576\u001b[0m samplewise \u001b[38;5;241m=\u001b[39m average \u001b[38;5;241m==\u001b[39m \u001b[38;5;124m\"\u001b[39m\u001b[38;5;124msamples\u001b[39m\u001b[38;5;124m\"\u001b[39m\n",
      "File \u001b[1;32m~\\AppData\\Local\\anaconda3\\Lib\\site-packages\\sklearn\\metrics\\_classification.py:1391\u001b[0m, in \u001b[0;36m_check_set_wise_labels\u001b[1;34m(y_true, y_pred, average, labels, pos_label)\u001b[0m\n\u001b[0;32m   1389\u001b[0m         \u001b[38;5;28;01mif\u001b[39;00m y_type \u001b[38;5;241m==\u001b[39m \u001b[38;5;124m\"\u001b[39m\u001b[38;5;124mmulticlass\u001b[39m\u001b[38;5;124m\"\u001b[39m:\n\u001b[0;32m   1390\u001b[0m             average_options\u001b[38;5;241m.\u001b[39mremove(\u001b[38;5;124m\"\u001b[39m\u001b[38;5;124msamples\u001b[39m\u001b[38;5;124m\"\u001b[39m)\n\u001b[1;32m-> 1391\u001b[0m         \u001b[38;5;28;01mraise\u001b[39;00m \u001b[38;5;167;01mValueError\u001b[39;00m(\n\u001b[0;32m   1392\u001b[0m             \u001b[38;5;124m\"\u001b[39m\u001b[38;5;124mTarget is \u001b[39m\u001b[38;5;132;01m%s\u001b[39;00m\u001b[38;5;124m but average=\u001b[39m\u001b[38;5;124m'\u001b[39m\u001b[38;5;124mbinary\u001b[39m\u001b[38;5;124m'\u001b[39m\u001b[38;5;124m. Please \u001b[39m\u001b[38;5;124m\"\u001b[39m\n\u001b[0;32m   1393\u001b[0m             \u001b[38;5;124m\"\u001b[39m\u001b[38;5;124mchoose another average setting, one of \u001b[39m\u001b[38;5;132;01m%r\u001b[39;00m\u001b[38;5;124m.\u001b[39m\u001b[38;5;124m\"\u001b[39m \u001b[38;5;241m%\u001b[39m (y_type, average_options)\n\u001b[0;32m   1394\u001b[0m         )\n\u001b[0;32m   1395\u001b[0m \u001b[38;5;28;01melif\u001b[39;00m pos_label \u001b[38;5;129;01mnot\u001b[39;00m \u001b[38;5;129;01min\u001b[39;00m (\u001b[38;5;28;01mNone\u001b[39;00m, \u001b[38;5;241m1\u001b[39m):\n\u001b[0;32m   1396\u001b[0m     warnings\u001b[38;5;241m.\u001b[39mwarn(\n\u001b[0;32m   1397\u001b[0m         \u001b[38;5;124m\"\u001b[39m\u001b[38;5;124mNote that pos_label (set to \u001b[39m\u001b[38;5;132;01m%r\u001b[39;00m\u001b[38;5;124m) is ignored when \u001b[39m\u001b[38;5;124m\"\u001b[39m\n\u001b[0;32m   1398\u001b[0m         \u001b[38;5;124m\"\u001b[39m\u001b[38;5;124maverage != \u001b[39m\u001b[38;5;124m'\u001b[39m\u001b[38;5;124mbinary\u001b[39m\u001b[38;5;124m'\u001b[39m\u001b[38;5;124m (got \u001b[39m\u001b[38;5;132;01m%r\u001b[39;00m\u001b[38;5;124m). You may use \u001b[39m\u001b[38;5;124m\"\u001b[39m\n\u001b[1;32m   (...)\u001b[0m\n\u001b[0;32m   1401\u001b[0m         \u001b[38;5;167;01mUserWarning\u001b[39;00m,\n\u001b[0;32m   1402\u001b[0m     )\n",
      "\u001b[1;31mValueError\u001b[0m: Target is multiclass but average='binary'. Please choose another average setting, one of [None, 'micro', 'macro', 'weighted']."
     ]
    }
   ],
   "source": [
    "precision_score(y_test, y_predict)"
   ]
  },
  {
   "cell_type": "code",
   "execution_count": 58,
   "id": "ec955ead-ea43-4680-956d-a7a6f7b386d6",
   "metadata": {},
   "outputs": [
    {
     "data": {
      "text/plain": [
       "0.9325452016689847"
      ]
     },
     "execution_count": 58,
     "metadata": {},
     "output_type": "execute_result"
    }
   ],
   "source": [
    "precision_score(y_test, y_predict, average='micro')"
   ]
  },
  {
   "cell_type": "code",
   "execution_count": null,
   "id": "4e2a4192-fe30-4d24-83bf-afa62a57fab5",
   "metadata": {},
   "outputs": [],
   "source": []
  }
 ],
 "metadata": {
  "kernelspec": {
   "display_name": "Python 3 (ipykernel)",
   "language": "python",
   "name": "python3"
  },
  "language_info": {
   "codemirror_mode": {
    "name": "ipython",
    "version": 3
   },
   "file_extension": ".py",
   "mimetype": "text/x-python",
   "name": "python",
   "nbconvert_exporter": "python",
   "pygments_lexer": "ipython3",
   "version": "3.11.7"
  }
 },
 "nbformat": 4,
 "nbformat_minor": 5
}
