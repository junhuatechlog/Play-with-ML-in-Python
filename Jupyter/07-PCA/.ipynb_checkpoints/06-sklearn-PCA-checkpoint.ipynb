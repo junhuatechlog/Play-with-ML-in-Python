{
 "cells": [
  {
   "cell_type": "code",
   "execution_count": 2,
   "id": "507a85d5-8c64-484d-9027-988f906c2dbe",
   "metadata": {},
   "outputs": [],
   "source": [
    "from sklearn.decomposition import PCA\n",
    "import numpy as np"
   ]
  },
  {
   "cell_type": "code",
   "execution_count": 3,
   "id": "ac91e38f-f4a6-43f1-8bb4-a4fa82126f96",
   "metadata": {},
   "outputs": [
    {
     "data": {
      "text/plain": [
       "sklearn.decomposition._pca.PCA"
      ]
     },
     "execution_count": 3,
     "metadata": {},
     "output_type": "execute_result"
    }
   ],
   "source": [
    "PCA"
   ]
  },
  {
   "cell_type": "code",
   "execution_count": 4,
   "id": "ccec206a-4888-48b3-8c44-b35c7f011aaa",
   "metadata": {},
   "outputs": [
    {
     "data": {
      "text/plain": [
       "\u001b[1;31mInit signature:\u001b[0m\n",
       "\u001b[0mPCA\u001b[0m\u001b[1;33m(\u001b[0m\u001b[1;33m\n",
       "\u001b[0m    \u001b[0mn_components\u001b[0m\u001b[1;33m=\u001b[0m\u001b[1;32mNone\u001b[0m\u001b[1;33m,\u001b[0m\u001b[1;33m\n",
       "\u001b[0m    \u001b[1;33m*\u001b[0m\u001b[1;33m,\u001b[0m\u001b[1;33m\n",
       "\u001b[0m    \u001b[0mcopy\u001b[0m\u001b[1;33m=\u001b[0m\u001b[1;32mTrue\u001b[0m\u001b[1;33m,\u001b[0m\u001b[1;33m\n",
       "\u001b[0m    \u001b[0mwhiten\u001b[0m\u001b[1;33m=\u001b[0m\u001b[1;32mFalse\u001b[0m\u001b[1;33m,\u001b[0m\u001b[1;33m\n",
       "\u001b[0m    \u001b[0msvd_solver\u001b[0m\u001b[1;33m=\u001b[0m\u001b[1;34m'auto'\u001b[0m\u001b[1;33m,\u001b[0m\u001b[1;33m\n",
       "\u001b[0m    \u001b[0mtol\u001b[0m\u001b[1;33m=\u001b[0m\u001b[1;36m0.0\u001b[0m\u001b[1;33m,\u001b[0m\u001b[1;33m\n",
       "\u001b[0m    \u001b[0miterated_power\u001b[0m\u001b[1;33m=\u001b[0m\u001b[1;34m'auto'\u001b[0m\u001b[1;33m,\u001b[0m\u001b[1;33m\n",
       "\u001b[0m    \u001b[0mn_oversamples\u001b[0m\u001b[1;33m=\u001b[0m\u001b[1;36m10\u001b[0m\u001b[1;33m,\u001b[0m\u001b[1;33m\n",
       "\u001b[0m    \u001b[0mpower_iteration_normalizer\u001b[0m\u001b[1;33m=\u001b[0m\u001b[1;34m'auto'\u001b[0m\u001b[1;33m,\u001b[0m\u001b[1;33m\n",
       "\u001b[0m    \u001b[0mrandom_state\u001b[0m\u001b[1;33m=\u001b[0m\u001b[1;32mNone\u001b[0m\u001b[1;33m,\u001b[0m\u001b[1;33m\n",
       "\u001b[0m\u001b[1;33m)\u001b[0m\u001b[1;33m\u001b[0m\u001b[1;33m\u001b[0m\u001b[0m\n",
       "\u001b[1;31mDocstring:\u001b[0m     \n",
       "Principal component analysis (PCA).\n",
       "\n",
       "Linear dimensionality reduction using Singular Value Decomposition of the\n",
       "data to project it to a lower dimensional space. The input data is centered\n",
       "but not scaled for each feature before applying the SVD.\n",
       "\n",
       "It uses the LAPACK implementation of the full SVD or a randomized truncated\n",
       "SVD by the method of Halko et al. 2009, depending on the shape of the input\n",
       "data and the number of components to extract.\n",
       "\n",
       "It can also use the scipy.sparse.linalg ARPACK implementation of the\n",
       "truncated SVD.\n",
       "\n",
       "Notice that this class does not support sparse input. See\n",
       ":class:`TruncatedSVD` for an alternative with sparse data.\n",
       "\n",
       "Read more in the :ref:`User Guide <PCA>`.\n",
       "\n",
       "Parameters\n",
       "----------\n",
       "n_components : int, float or 'mle', default=None\n",
       "    Number of components to keep.\n",
       "    if n_components is not set all components are kept::\n",
       "\n",
       "        n_components == min(n_samples, n_features)\n",
       "\n",
       "    If ``n_components == 'mle'`` and ``svd_solver == 'full'``, Minka's\n",
       "    MLE is used to guess the dimension. Use of ``n_components == 'mle'``\n",
       "    will interpret ``svd_solver == 'auto'`` as ``svd_solver == 'full'``.\n",
       "\n",
       "    If ``0 < n_components < 1`` and ``svd_solver == 'full'``, select the\n",
       "    number of components such that the amount of variance that needs to be\n",
       "    explained is greater than the percentage specified by n_components.\n",
       "\n",
       "    If ``svd_solver == 'arpack'``, the number of components must be\n",
       "    strictly less than the minimum of n_features and n_samples.\n",
       "\n",
       "    Hence, the None case results in::\n",
       "\n",
       "        n_components == min(n_samples, n_features) - 1\n",
       "\n",
       "copy : bool, default=True\n",
       "    If False, data passed to fit are overwritten and running\n",
       "    fit(X).transform(X) will not yield the expected results,\n",
       "    use fit_transform(X) instead.\n",
       "\n",
       "whiten : bool, default=False\n",
       "    When True (False by default) the `components_` vectors are multiplied\n",
       "    by the square root of n_samples and then divided by the singular values\n",
       "    to ensure uncorrelated outputs with unit component-wise variances.\n",
       "\n",
       "    Whitening will remove some information from the transformed signal\n",
       "    (the relative variance scales of the components) but can sometime\n",
       "    improve the predictive accuracy of the downstream estimators by\n",
       "    making their data respect some hard-wired assumptions.\n",
       "\n",
       "svd_solver : {'auto', 'full', 'arpack', 'randomized'}, default='auto'\n",
       "    If auto :\n",
       "        The solver is selected by a default policy based on `X.shape` and\n",
       "        `n_components`: if the input data is larger than 500x500 and the\n",
       "        number of components to extract is lower than 80% of the smallest\n",
       "        dimension of the data, then the more efficient 'randomized'\n",
       "        method is enabled. Otherwise the exact full SVD is computed and\n",
       "        optionally truncated afterwards.\n",
       "    If full :\n",
       "        run exact full SVD calling the standard LAPACK solver via\n",
       "        `scipy.linalg.svd` and select the components by postprocessing\n",
       "    If arpack :\n",
       "        run SVD truncated to n_components calling ARPACK solver via\n",
       "        `scipy.sparse.linalg.svds`. It requires strictly\n",
       "        0 < n_components < min(X.shape)\n",
       "    If randomized :\n",
       "        run randomized SVD by the method of Halko et al.\n",
       "\n",
       "    .. versionadded:: 0.18.0\n",
       "\n",
       "tol : float, default=0.0\n",
       "    Tolerance for singular values computed by svd_solver == 'arpack'.\n",
       "    Must be of range [0.0, infinity).\n",
       "\n",
       "    .. versionadded:: 0.18.0\n",
       "\n",
       "iterated_power : int or 'auto', default='auto'\n",
       "    Number of iterations for the power method computed by\n",
       "    svd_solver == 'randomized'.\n",
       "    Must be of range [0, infinity).\n",
       "\n",
       "    .. versionadded:: 0.18.0\n",
       "\n",
       "n_oversamples : int, default=10\n",
       "    This parameter is only relevant when `svd_solver=\"randomized\"`.\n",
       "    It corresponds to the additional number of random vectors to sample the\n",
       "    range of `X` so as to ensure proper conditioning. See\n",
       "    :func:`~sklearn.utils.extmath.randomized_svd` for more details.\n",
       "\n",
       "    .. versionadded:: 1.1\n",
       "\n",
       "power_iteration_normalizer : {'auto', 'QR', 'LU', 'none'}, default='auto'\n",
       "    Power iteration normalizer for randomized SVD solver.\n",
       "    Not used by ARPACK. See :func:`~sklearn.utils.extmath.randomized_svd`\n",
       "    for more details.\n",
       "\n",
       "    .. versionadded:: 1.1\n",
       "\n",
       "random_state : int, RandomState instance or None, default=None\n",
       "    Used when the 'arpack' or 'randomized' solvers are used. Pass an int\n",
       "    for reproducible results across multiple function calls.\n",
       "    See :term:`Glossary <random_state>`.\n",
       "\n",
       "    .. versionadded:: 0.18.0\n",
       "\n",
       "Attributes\n",
       "----------\n",
       "components_ : ndarray of shape (n_components, n_features)\n",
       "    Principal axes in feature space, representing the directions of\n",
       "    maximum variance in the data. Equivalently, the right singular\n",
       "    vectors of the centered input data, parallel to its eigenvectors.\n",
       "    The components are sorted by decreasing ``explained_variance_``.\n",
       "\n",
       "explained_variance_ : ndarray of shape (n_components,)\n",
       "    The amount of variance explained by each of the selected components.\n",
       "    The variance estimation uses `n_samples - 1` degrees of freedom.\n",
       "\n",
       "    Equal to n_components largest eigenvalues\n",
       "    of the covariance matrix of X.\n",
       "\n",
       "    .. versionadded:: 0.18\n",
       "\n",
       "explained_variance_ratio_ : ndarray of shape (n_components,)\n",
       "    Percentage of variance explained by each of the selected components.\n",
       "\n",
       "    If ``n_components`` is not set then all components are stored and the\n",
       "    sum of the ratios is equal to 1.0.\n",
       "\n",
       "singular_values_ : ndarray of shape (n_components,)\n",
       "    The singular values corresponding to each of the selected components.\n",
       "    The singular values are equal to the 2-norms of the ``n_components``\n",
       "    variables in the lower-dimensional space.\n",
       "\n",
       "    .. versionadded:: 0.19\n",
       "\n",
       "mean_ : ndarray of shape (n_features,)\n",
       "    Per-feature empirical mean, estimated from the training set.\n",
       "\n",
       "    Equal to `X.mean(axis=0)`.\n",
       "\n",
       "n_components_ : int\n",
       "    The estimated number of components. When n_components is set\n",
       "    to 'mle' or a number between 0 and 1 (with svd_solver == 'full') this\n",
       "    number is estimated from input data. Otherwise it equals the parameter\n",
       "    n_components, or the lesser value of n_features and n_samples\n",
       "    if n_components is None.\n",
       "\n",
       "n_features_ : int\n",
       "    Number of features in the training data.\n",
       "\n",
       "n_samples_ : int\n",
       "    Number of samples in the training data.\n",
       "\n",
       "noise_variance_ : float\n",
       "    The estimated noise covariance following the Probabilistic PCA model\n",
       "    from Tipping and Bishop 1999. See \"Pattern Recognition and\n",
       "    Machine Learning\" by C. Bishop, 12.2.1 p. 574 or\n",
       "    http://www.miketipping.com/papers/met-mppca.pdf. It is required to\n",
       "    compute the estimated data covariance and score samples.\n",
       "\n",
       "    Equal to the average of (min(n_features, n_samples) - n_components)\n",
       "    smallest eigenvalues of the covariance matrix of X.\n",
       "\n",
       "n_features_in_ : int\n",
       "    Number of features seen during :term:`fit`.\n",
       "\n",
       "    .. versionadded:: 0.24\n",
       "\n",
       "feature_names_in_ : ndarray of shape (`n_features_in_`,)\n",
       "    Names of features seen during :term:`fit`. Defined only when `X`\n",
       "    has feature names that are all strings.\n",
       "\n",
       "    .. versionadded:: 1.0\n",
       "\n",
       "See Also\n",
       "--------\n",
       "KernelPCA : Kernel Principal Component Analysis.\n",
       "SparsePCA : Sparse Principal Component Analysis.\n",
       "TruncatedSVD : Dimensionality reduction using truncated SVD.\n",
       "IncrementalPCA : Incremental Principal Component Analysis.\n",
       "\n",
       "References\n",
       "----------\n",
       "For n_components == 'mle', this class uses the method from:\n",
       "`Minka, T. P.. \"Automatic choice of dimensionality for PCA\".\n",
       "In NIPS, pp. 598-604 <https://tminka.github.io/papers/pca/minka-pca.pdf>`_\n",
       "\n",
       "Implements the probabilistic PCA model from:\n",
       "`Tipping, M. E., and Bishop, C. M. (1999). \"Probabilistic principal\n",
       "component analysis\". Journal of the Royal Statistical Society:\n",
       "Series B (Statistical Methodology), 61(3), 611-622.\n",
       "<http://www.miketipping.com/papers/met-mppca.pdf>`_\n",
       "via the score and score_samples methods.\n",
       "\n",
       "For svd_solver == 'arpack', refer to `scipy.sparse.linalg.svds`.\n",
       "\n",
       "For svd_solver == 'randomized', see:\n",
       ":doi:`Halko, N., Martinsson, P. G., and Tropp, J. A. (2011).\n",
       "\"Finding structure with randomness: Probabilistic algorithms for\n",
       "constructing approximate matrix decompositions\".\n",
       "SIAM review, 53(2), 217-288.\n",
       "<10.1137/090771806>`\n",
       "and also\n",
       ":doi:`Martinsson, P. G., Rokhlin, V., and Tygert, M. (2011).\n",
       "\"A randomized algorithm for the decomposition of matrices\".\n",
       "Applied and Computational Harmonic Analysis, 30(1), 47-68.\n",
       "<10.1016/j.acha.2010.02.003>`\n",
       "\n",
       "Examples\n",
       "--------\n",
       ">>> import numpy as np\n",
       ">>> from sklearn.decomposition import PCA\n",
       ">>> X = np.array([[-1, -1], [-2, -1], [-3, -2], [1, 1], [2, 1], [3, 2]])\n",
       ">>> pca = PCA(n_components=2)\n",
       ">>> pca.fit(X)\n",
       "PCA(n_components=2)\n",
       ">>> print(pca.explained_variance_ratio_)\n",
       "[0.9924... 0.0075...]\n",
       ">>> print(pca.singular_values_)\n",
       "[6.30061... 0.54980...]\n",
       "\n",
       ">>> pca = PCA(n_components=2, svd_solver='full')\n",
       ">>> pca.fit(X)\n",
       "PCA(n_components=2, svd_solver='full')\n",
       ">>> print(pca.explained_variance_ratio_)\n",
       "[0.9924... 0.00755...]\n",
       ">>> print(pca.singular_values_)\n",
       "[6.30061... 0.54980...]\n",
       "\n",
       ">>> pca = PCA(n_components=1, svd_solver='arpack')\n",
       ">>> pca.fit(X)\n",
       "PCA(n_components=1, svd_solver='arpack')\n",
       ">>> print(pca.explained_variance_ratio_)\n",
       "[0.99244...]\n",
       ">>> print(pca.singular_values_)\n",
       "[6.30061...]\n",
       "\u001b[1;31mFile:\u001b[0m           c:\\users\\junhuawa\\appdata\\local\\anaconda3\\lib\\site-packages\\sklearn\\decomposition\\_pca.py\n",
       "\u001b[1;31mType:\u001b[0m           ABCMeta\n",
       "\u001b[1;31mSubclasses:\u001b[0m     "
      ]
     },
     "metadata": {},
     "output_type": "display_data"
    }
   ],
   "source": [
    "PCA?\n"
   ]
  },
  {
   "cell_type": "code",
   "execution_count": 6,
   "id": "b237437a-5a74-4d8b-b0e8-89475113ad92",
   "metadata": {},
   "outputs": [],
   "source": [
    "pca = PCA(n_components=1)"
   ]
  },
  {
   "cell_type": "code",
   "execution_count": 8,
   "id": "bf2bdb3a-eed0-4079-96d6-a3a8cd093df5",
   "metadata": {},
   "outputs": [
    {
     "data": {
      "text/html": [
       "<style>#sk-container-id-1 {color: black;background-color: white;}#sk-container-id-1 pre{padding: 0;}#sk-container-id-1 div.sk-toggleable {background-color: white;}#sk-container-id-1 label.sk-toggleable__label {cursor: pointer;display: block;width: 100%;margin-bottom: 0;padding: 0.3em;box-sizing: border-box;text-align: center;}#sk-container-id-1 label.sk-toggleable__label-arrow:before {content: \"▸\";float: left;margin-right: 0.25em;color: #696969;}#sk-container-id-1 label.sk-toggleable__label-arrow:hover:before {color: black;}#sk-container-id-1 div.sk-estimator:hover label.sk-toggleable__label-arrow:before {color: black;}#sk-container-id-1 div.sk-toggleable__content {max-height: 0;max-width: 0;overflow: hidden;text-align: left;background-color: #f0f8ff;}#sk-container-id-1 div.sk-toggleable__content pre {margin: 0.2em;color: black;border-radius: 0.25em;background-color: #f0f8ff;}#sk-container-id-1 input.sk-toggleable__control:checked~div.sk-toggleable__content {max-height: 200px;max-width: 100%;overflow: auto;}#sk-container-id-1 input.sk-toggleable__control:checked~label.sk-toggleable__label-arrow:before {content: \"▾\";}#sk-container-id-1 div.sk-estimator input.sk-toggleable__control:checked~label.sk-toggleable__label {background-color: #d4ebff;}#sk-container-id-1 div.sk-label input.sk-toggleable__control:checked~label.sk-toggleable__label {background-color: #d4ebff;}#sk-container-id-1 input.sk-hidden--visually {border: 0;clip: rect(1px 1px 1px 1px);clip: rect(1px, 1px, 1px, 1px);height: 1px;margin: -1px;overflow: hidden;padding: 0;position: absolute;width: 1px;}#sk-container-id-1 div.sk-estimator {font-family: monospace;background-color: #f0f8ff;border: 1px dotted black;border-radius: 0.25em;box-sizing: border-box;margin-bottom: 0.5em;}#sk-container-id-1 div.sk-estimator:hover {background-color: #d4ebff;}#sk-container-id-1 div.sk-parallel-item::after {content: \"\";width: 100%;border-bottom: 1px solid gray;flex-grow: 1;}#sk-container-id-1 div.sk-label:hover label.sk-toggleable__label {background-color: #d4ebff;}#sk-container-id-1 div.sk-serial::before {content: \"\";position: absolute;border-left: 1px solid gray;box-sizing: border-box;top: 0;bottom: 0;left: 50%;z-index: 0;}#sk-container-id-1 div.sk-serial {display: flex;flex-direction: column;align-items: center;background-color: white;padding-right: 0.2em;padding-left: 0.2em;position: relative;}#sk-container-id-1 div.sk-item {position: relative;z-index: 1;}#sk-container-id-1 div.sk-parallel {display: flex;align-items: stretch;justify-content: center;background-color: white;position: relative;}#sk-container-id-1 div.sk-item::before, #sk-container-id-1 div.sk-parallel-item::before {content: \"\";position: absolute;border-left: 1px solid gray;box-sizing: border-box;top: 0;bottom: 0;left: 50%;z-index: -1;}#sk-container-id-1 div.sk-parallel-item {display: flex;flex-direction: column;z-index: 1;position: relative;background-color: white;}#sk-container-id-1 div.sk-parallel-item:first-child::after {align-self: flex-end;width: 50%;}#sk-container-id-1 div.sk-parallel-item:last-child::after {align-self: flex-start;width: 50%;}#sk-container-id-1 div.sk-parallel-item:only-child::after {width: 0;}#sk-container-id-1 div.sk-dashed-wrapped {border: 1px dashed gray;margin: 0 0.4em 0.5em 0.4em;box-sizing: border-box;padding-bottom: 0.4em;background-color: white;}#sk-container-id-1 div.sk-label label {font-family: monospace;font-weight: bold;display: inline-block;line-height: 1.2em;}#sk-container-id-1 div.sk-label-container {text-align: center;}#sk-container-id-1 div.sk-container {/* jupyter's `normalize.less` sets `[hidden] { display: none; }` but bootstrap.min.css set `[hidden] { display: none !important; }` so we also need the `!important` here to be able to override the default hidden behavior on the sphinx rendered scikit-learn.org. See: https://github.com/scikit-learn/scikit-learn/issues/21755 */display: inline-block !important;position: relative;}#sk-container-id-1 div.sk-text-repr-fallback {display: none;}</style><div id=\"sk-container-id-1\" class=\"sk-top-container\"><div class=\"sk-text-repr-fallback\"><pre>PCA(n_components=1)</pre><b>In a Jupyter environment, please rerun this cell to show the HTML representation or trust the notebook. <br />On GitHub, the HTML representation is unable to render, please try loading this page with nbviewer.org.</b></div><div class=\"sk-container\" hidden><div class=\"sk-item\"><div class=\"sk-estimator sk-toggleable\"><input class=\"sk-toggleable__control sk-hidden--visually\" id=\"sk-estimator-id-1\" type=\"checkbox\" checked><label for=\"sk-estimator-id-1\" class=\"sk-toggleable__label sk-toggleable__label-arrow\">PCA</label><div class=\"sk-toggleable__content\"><pre>PCA(n_components=1)</pre></div></div></div></div></div>"
      ],
      "text/plain": [
       "PCA(n_components=1)"
      ]
     },
     "execution_count": 8,
     "metadata": {},
     "output_type": "execute_result"
    }
   ],
   "source": [
    "X = np.empty((100, 2))\n",
    "X[:, 0] = np.random.uniform(0, 100, size=100)\n",
    "X[:, 1] = 0.75*X[:, 0] + 3.0 + np.random.normal(0, 10, size=100)\n",
    "pca.fit(X)"
   ]
  },
  {
   "cell_type": "code",
   "execution_count": 9,
   "id": "bfe5103c-c705-413c-b381-963a00fe0098",
   "metadata": {},
   "outputs": [
    {
     "data": {
      "text/plain": [
       "array([[-0.76252205, -0.64696223]])"
      ]
     },
     "execution_count": 9,
     "metadata": {},
     "output_type": "execute_result"
    }
   ],
   "source": [
    "pca.components_ "
   ]
  },
  {
   "cell_type": "code",
   "execution_count": 16,
   "id": "1aaae2b5-b065-48d2-9f97-f6240be074d3",
   "metadata": {},
   "outputs": [],
   "source": [
    "from sklearn import datasets\n",
    "digits = datasets.load_digits()\n",
    "X = digits.data\n",
    "y = digits.target"
   ]
  },
  {
   "cell_type": "code",
   "execution_count": 18,
   "id": "2d6a04f2-24f9-4969-91f7-5552fef7db42",
   "metadata": {},
   "outputs": [
    {
     "data": {
      "text/plain": [
       "(1797, 64)"
      ]
     },
     "execution_count": 18,
     "metadata": {},
     "output_type": "execute_result"
    }
   ],
   "source": [
    "X.shape"
   ]
  },
  {
   "cell_type": "code",
   "execution_count": 13,
   "id": "81cc7504-9cc7-497a-a4b8-3d50cca419b6",
   "metadata": {},
   "outputs": [
    {
     "name": "stdout",
     "output_type": "stream",
     "text": [
      ".. _digits_dataset:\n",
      "\n",
      "Optical recognition of handwritten digits dataset\n",
      "--------------------------------------------------\n",
      "\n",
      "**Data Set Characteristics:**\n",
      "\n",
      "    :Number of Instances: 1797\n",
      "    :Number of Attributes: 64\n",
      "    :Attribute Information: 8x8 image of integer pixels in the range 0..16.\n",
      "    :Missing Attribute Values: None\n",
      "    :Creator: E. Alpaydin (alpaydin '@' boun.edu.tr)\n",
      "    :Date: July; 1998\n",
      "\n",
      "This is a copy of the test set of the UCI ML hand-written digits datasets\n",
      "https://archive.ics.uci.edu/ml/datasets/Optical+Recognition+of+Handwritten+Digits\n",
      "\n",
      "The data set contains images of hand-written digits: 10 classes where\n",
      "each class refers to a digit.\n",
      "\n",
      "Preprocessing programs made available by NIST were used to extract\n",
      "normalized bitmaps of handwritten digits from a preprinted form. From a\n",
      "total of 43 people, 30 contributed to the training set and different 13\n",
      "to the test set. 32x32 bitmaps are divided into nonoverlapping blocks of\n",
      "4x4 and the number of on pixels are counted in each block. This generates\n",
      "an input matrix of 8x8 where each element is an integer in the range\n",
      "0..16. This reduces dimensionality and gives invariance to small\n",
      "distortions.\n",
      "\n",
      "For info on NIST preprocessing routines, see M. D. Garris, J. L. Blue, G.\n",
      "T. Candela, D. L. Dimmick, J. Geist, P. J. Grother, S. A. Janet, and C.\n",
      "L. Wilson, NIST Form-Based Handprint Recognition System, NISTIR 5469,\n",
      "1994.\n",
      "\n",
      ".. topic:: References\n",
      "\n",
      "  - C. Kaynak (1995) Methods of Combining Multiple Classifiers and Their\n",
      "    Applications to Handwritten Digit Recognition, MSc Thesis, Institute of\n",
      "    Graduate Studies in Science and Engineering, Bogazici University.\n",
      "  - E. Alpaydin, C. Kaynak (1998) Cascading Classifiers, Kybernetika.\n",
      "  - Ken Tang and Ponnuthurai N. Suganthan and Xi Yao and A. Kai Qin.\n",
      "    Linear dimensionalityreduction using relevance weighted LDA. School of\n",
      "    Electrical and Electronic Engineering Nanyang Technological University.\n",
      "    2005.\n",
      "  - Claudio Gentile. A New Approximate Maximal Margin Classification\n",
      "    Algorithm. NIPS. 2000.\n",
      "\n"
     ]
    }
   ],
   "source": [
    "print(digits.DESCR)"
   ]
  },
  {
   "cell_type": "raw",
   "id": "df46292d-92ae-4bf7-ac40-56959d59e8e8",
   "metadata": {},
   "source": [
    "digits.target"
   ]
  },
  {
   "cell_type": "code",
   "execution_count": 15,
   "id": "0d2fcc4b-0966-482e-86c1-b76ce5edfce1",
   "metadata": {},
   "outputs": [
    {
     "data": {
      "text/plain": [
       "(1797, 64)"
      ]
     },
     "execution_count": 15,
     "metadata": {},
     "output_type": "execute_result"
    }
   ],
   "source": [
    "digits.data.shape"
   ]
  },
  {
   "cell_type": "code",
   "execution_count": 19,
   "id": "367ceed6-6b28-4ecc-99bb-8e8731c34ff3",
   "metadata": {},
   "outputs": [],
   "source": [
    "from sklearn.model_selection import train_test_split\n",
    "X_train, X_test, y_train, y_test = train_test_split(X, y, random_state=666)"
   ]
  },
  {
   "cell_type": "code",
   "execution_count": 20,
   "id": "9773042a-b1a4-4613-bb39-d2e0d2a9b54b",
   "metadata": {},
   "outputs": [
    {
     "data": {
      "text/plain": [
       "(1347, 64)"
      ]
     },
     "execution_count": 20,
     "metadata": {},
     "output_type": "execute_result"
    }
   ],
   "source": [
    "X_train.shape"
   ]
  },
  {
   "cell_type": "code",
   "execution_count": 21,
   "id": "3c0cee61-e821-4d72-a455-4d0985ec5b5b",
   "metadata": {},
   "outputs": [
    {
     "name": "stdout",
     "output_type": "stream",
     "text": [
      "CPU times: total: 0 ns\n",
      "Wall time: 485 ms\n"
     ]
    },
    {
     "data": {
      "text/html": [
       "<style>#sk-container-id-2 {color: black;background-color: white;}#sk-container-id-2 pre{padding: 0;}#sk-container-id-2 div.sk-toggleable {background-color: white;}#sk-container-id-2 label.sk-toggleable__label {cursor: pointer;display: block;width: 100%;margin-bottom: 0;padding: 0.3em;box-sizing: border-box;text-align: center;}#sk-container-id-2 label.sk-toggleable__label-arrow:before {content: \"▸\";float: left;margin-right: 0.25em;color: #696969;}#sk-container-id-2 label.sk-toggleable__label-arrow:hover:before {color: black;}#sk-container-id-2 div.sk-estimator:hover label.sk-toggleable__label-arrow:before {color: black;}#sk-container-id-2 div.sk-toggleable__content {max-height: 0;max-width: 0;overflow: hidden;text-align: left;background-color: #f0f8ff;}#sk-container-id-2 div.sk-toggleable__content pre {margin: 0.2em;color: black;border-radius: 0.25em;background-color: #f0f8ff;}#sk-container-id-2 input.sk-toggleable__control:checked~div.sk-toggleable__content {max-height: 200px;max-width: 100%;overflow: auto;}#sk-container-id-2 input.sk-toggleable__control:checked~label.sk-toggleable__label-arrow:before {content: \"▾\";}#sk-container-id-2 div.sk-estimator input.sk-toggleable__control:checked~label.sk-toggleable__label {background-color: #d4ebff;}#sk-container-id-2 div.sk-label input.sk-toggleable__control:checked~label.sk-toggleable__label {background-color: #d4ebff;}#sk-container-id-2 input.sk-hidden--visually {border: 0;clip: rect(1px 1px 1px 1px);clip: rect(1px, 1px, 1px, 1px);height: 1px;margin: -1px;overflow: hidden;padding: 0;position: absolute;width: 1px;}#sk-container-id-2 div.sk-estimator {font-family: monospace;background-color: #f0f8ff;border: 1px dotted black;border-radius: 0.25em;box-sizing: border-box;margin-bottom: 0.5em;}#sk-container-id-2 div.sk-estimator:hover {background-color: #d4ebff;}#sk-container-id-2 div.sk-parallel-item::after {content: \"\";width: 100%;border-bottom: 1px solid gray;flex-grow: 1;}#sk-container-id-2 div.sk-label:hover label.sk-toggleable__label {background-color: #d4ebff;}#sk-container-id-2 div.sk-serial::before {content: \"\";position: absolute;border-left: 1px solid gray;box-sizing: border-box;top: 0;bottom: 0;left: 50%;z-index: 0;}#sk-container-id-2 div.sk-serial {display: flex;flex-direction: column;align-items: center;background-color: white;padding-right: 0.2em;padding-left: 0.2em;position: relative;}#sk-container-id-2 div.sk-item {position: relative;z-index: 1;}#sk-container-id-2 div.sk-parallel {display: flex;align-items: stretch;justify-content: center;background-color: white;position: relative;}#sk-container-id-2 div.sk-item::before, #sk-container-id-2 div.sk-parallel-item::before {content: \"\";position: absolute;border-left: 1px solid gray;box-sizing: border-box;top: 0;bottom: 0;left: 50%;z-index: -1;}#sk-container-id-2 div.sk-parallel-item {display: flex;flex-direction: column;z-index: 1;position: relative;background-color: white;}#sk-container-id-2 div.sk-parallel-item:first-child::after {align-self: flex-end;width: 50%;}#sk-container-id-2 div.sk-parallel-item:last-child::after {align-self: flex-start;width: 50%;}#sk-container-id-2 div.sk-parallel-item:only-child::after {width: 0;}#sk-container-id-2 div.sk-dashed-wrapped {border: 1px dashed gray;margin: 0 0.4em 0.5em 0.4em;box-sizing: border-box;padding-bottom: 0.4em;background-color: white;}#sk-container-id-2 div.sk-label label {font-family: monospace;font-weight: bold;display: inline-block;line-height: 1.2em;}#sk-container-id-2 div.sk-label-container {text-align: center;}#sk-container-id-2 div.sk-container {/* jupyter's `normalize.less` sets `[hidden] { display: none; }` but bootstrap.min.css set `[hidden] { display: none !important; }` so we also need the `!important` here to be able to override the default hidden behavior on the sphinx rendered scikit-learn.org. See: https://github.com/scikit-learn/scikit-learn/issues/21755 */display: inline-block !important;position: relative;}#sk-container-id-2 div.sk-text-repr-fallback {display: none;}</style><div id=\"sk-container-id-2\" class=\"sk-top-container\"><div class=\"sk-text-repr-fallback\"><pre>KNeighborsClassifier()</pre><b>In a Jupyter environment, please rerun this cell to show the HTML representation or trust the notebook. <br />On GitHub, the HTML representation is unable to render, please try loading this page with nbviewer.org.</b></div><div class=\"sk-container\" hidden><div class=\"sk-item\"><div class=\"sk-estimator sk-toggleable\"><input class=\"sk-toggleable__control sk-hidden--visually\" id=\"sk-estimator-id-2\" type=\"checkbox\" checked><label for=\"sk-estimator-id-2\" class=\"sk-toggleable__label sk-toggleable__label-arrow\">KNeighborsClassifier</label><div class=\"sk-toggleable__content\"><pre>KNeighborsClassifier()</pre></div></div></div></div></div>"
      ],
      "text/plain": [
       "KNeighborsClassifier()"
      ]
     },
     "execution_count": 21,
     "metadata": {},
     "output_type": "execute_result"
    }
   ],
   "source": [
    "%%time\n",
    "from sklearn.neighbors import KNeighborsClassifier\n",
    "knn_clf = KNeighborsClassifier()\n",
    "knn_clf.fit(X_train, y_train)"
   ]
  },
  {
   "cell_type": "code",
   "execution_count": 22,
   "id": "7ce3441e-0a1e-4d09-94b6-f8272e435f08",
   "metadata": {},
   "outputs": [
    {
     "data": {
      "text/plain": [
       "0.9866666666666667"
      ]
     },
     "execution_count": 22,
     "metadata": {},
     "output_type": "execute_result"
    }
   ],
   "source": [
    "knn_clf.score(X_test, y_test)"
   ]
  },
  {
   "cell_type": "code",
   "execution_count": 23,
   "id": "6d8e73f6-fca5-42f9-8f4a-ef248243441e",
   "metadata": {},
   "outputs": [],
   "source": [
    "pca = PCA(n_components=2)"
   ]
  },
  {
   "cell_type": "code",
   "execution_count": 24,
   "id": "ffca2cd6-0772-4765-bf63-2e546aa10698",
   "metadata": {},
   "outputs": [
    {
     "data": {
      "text/html": [
       "<style>#sk-container-id-3 {color: black;background-color: white;}#sk-container-id-3 pre{padding: 0;}#sk-container-id-3 div.sk-toggleable {background-color: white;}#sk-container-id-3 label.sk-toggleable__label {cursor: pointer;display: block;width: 100%;margin-bottom: 0;padding: 0.3em;box-sizing: border-box;text-align: center;}#sk-container-id-3 label.sk-toggleable__label-arrow:before {content: \"▸\";float: left;margin-right: 0.25em;color: #696969;}#sk-container-id-3 label.sk-toggleable__label-arrow:hover:before {color: black;}#sk-container-id-3 div.sk-estimator:hover label.sk-toggleable__label-arrow:before {color: black;}#sk-container-id-3 div.sk-toggleable__content {max-height: 0;max-width: 0;overflow: hidden;text-align: left;background-color: #f0f8ff;}#sk-container-id-3 div.sk-toggleable__content pre {margin: 0.2em;color: black;border-radius: 0.25em;background-color: #f0f8ff;}#sk-container-id-3 input.sk-toggleable__control:checked~div.sk-toggleable__content {max-height: 200px;max-width: 100%;overflow: auto;}#sk-container-id-3 input.sk-toggleable__control:checked~label.sk-toggleable__label-arrow:before {content: \"▾\";}#sk-container-id-3 div.sk-estimator input.sk-toggleable__control:checked~label.sk-toggleable__label {background-color: #d4ebff;}#sk-container-id-3 div.sk-label input.sk-toggleable__control:checked~label.sk-toggleable__label {background-color: #d4ebff;}#sk-container-id-3 input.sk-hidden--visually {border: 0;clip: rect(1px 1px 1px 1px);clip: rect(1px, 1px, 1px, 1px);height: 1px;margin: -1px;overflow: hidden;padding: 0;position: absolute;width: 1px;}#sk-container-id-3 div.sk-estimator {font-family: monospace;background-color: #f0f8ff;border: 1px dotted black;border-radius: 0.25em;box-sizing: border-box;margin-bottom: 0.5em;}#sk-container-id-3 div.sk-estimator:hover {background-color: #d4ebff;}#sk-container-id-3 div.sk-parallel-item::after {content: \"\";width: 100%;border-bottom: 1px solid gray;flex-grow: 1;}#sk-container-id-3 div.sk-label:hover label.sk-toggleable__label {background-color: #d4ebff;}#sk-container-id-3 div.sk-serial::before {content: \"\";position: absolute;border-left: 1px solid gray;box-sizing: border-box;top: 0;bottom: 0;left: 50%;z-index: 0;}#sk-container-id-3 div.sk-serial {display: flex;flex-direction: column;align-items: center;background-color: white;padding-right: 0.2em;padding-left: 0.2em;position: relative;}#sk-container-id-3 div.sk-item {position: relative;z-index: 1;}#sk-container-id-3 div.sk-parallel {display: flex;align-items: stretch;justify-content: center;background-color: white;position: relative;}#sk-container-id-3 div.sk-item::before, #sk-container-id-3 div.sk-parallel-item::before {content: \"\";position: absolute;border-left: 1px solid gray;box-sizing: border-box;top: 0;bottom: 0;left: 50%;z-index: -1;}#sk-container-id-3 div.sk-parallel-item {display: flex;flex-direction: column;z-index: 1;position: relative;background-color: white;}#sk-container-id-3 div.sk-parallel-item:first-child::after {align-self: flex-end;width: 50%;}#sk-container-id-3 div.sk-parallel-item:last-child::after {align-self: flex-start;width: 50%;}#sk-container-id-3 div.sk-parallel-item:only-child::after {width: 0;}#sk-container-id-3 div.sk-dashed-wrapped {border: 1px dashed gray;margin: 0 0.4em 0.5em 0.4em;box-sizing: border-box;padding-bottom: 0.4em;background-color: white;}#sk-container-id-3 div.sk-label label {font-family: monospace;font-weight: bold;display: inline-block;line-height: 1.2em;}#sk-container-id-3 div.sk-label-container {text-align: center;}#sk-container-id-3 div.sk-container {/* jupyter's `normalize.less` sets `[hidden] { display: none; }` but bootstrap.min.css set `[hidden] { display: none !important; }` so we also need the `!important` here to be able to override the default hidden behavior on the sphinx rendered scikit-learn.org. See: https://github.com/scikit-learn/scikit-learn/issues/21755 */display: inline-block !important;position: relative;}#sk-container-id-3 div.sk-text-repr-fallback {display: none;}</style><div id=\"sk-container-id-3\" class=\"sk-top-container\"><div class=\"sk-text-repr-fallback\"><pre>PCA(n_components=2)</pre><b>In a Jupyter environment, please rerun this cell to show the HTML representation or trust the notebook. <br />On GitHub, the HTML representation is unable to render, please try loading this page with nbviewer.org.</b></div><div class=\"sk-container\" hidden><div class=\"sk-item\"><div class=\"sk-estimator sk-toggleable\"><input class=\"sk-toggleable__control sk-hidden--visually\" id=\"sk-estimator-id-3\" type=\"checkbox\" checked><label for=\"sk-estimator-id-3\" class=\"sk-toggleable__label sk-toggleable__label-arrow\">PCA</label><div class=\"sk-toggleable__content\"><pre>PCA(n_components=2)</pre></div></div></div></div></div>"
      ],
      "text/plain": [
       "PCA(n_components=2)"
      ]
     },
     "execution_count": 24,
     "metadata": {},
     "output_type": "execute_result"
    }
   ],
   "source": [
    "pca.fit(X_train)"
   ]
  },
  {
   "cell_type": "code",
   "execution_count": 25,
   "id": "c8b6c327-38ff-4094-ae4a-bb4d5830a7a4",
   "metadata": {},
   "outputs": [
    {
     "data": {
      "text/plain": [
       "array([[  6.57168822, -19.26717686],\n",
       "       [ -1.14145834,  21.62050405],\n",
       "       [  2.83602454,  11.40731716],\n",
       "       ...,\n",
       "       [  7.32001929,  10.21811606],\n",
       "       [ -0.10375752, -13.35772399],\n",
       "       [  3.40461449,  -6.87531931]])"
      ]
     },
     "execution_count": 25,
     "metadata": {},
     "output_type": "execute_result"
    }
   ],
   "source": [
    "pca.transform(X)\n"
   ]
  },
  {
   "cell_type": "code",
   "execution_count": 27,
   "id": "6e3d0373-880a-4147-ae2f-c979ae9798f5",
   "metadata": {},
   "outputs": [],
   "source": [
    "X_train_reduction = pca.transform(X_train)\n",
    "X_test_reduction = pca.transform(X_test)"
   ]
  },
  {
   "cell_type": "code",
   "execution_count": 29,
   "id": "abb35ee6-674b-4ac7-927a-1951aba03b18",
   "metadata": {},
   "outputs": [
    {
     "name": "stdout",
     "output_type": "stream",
     "text": [
      "CPU times: total: 15.6 ms\n",
      "Wall time: 45.8 ms\n"
     ]
    },
    {
     "data": {
      "text/plain": [
       "0.6066666666666667"
      ]
     },
     "execution_count": 29,
     "metadata": {},
     "output_type": "execute_result"
    }
   ],
   "source": [
    "%%time\n",
    "knn_clf_pca = KNeighborsClassifier()\n",
    "knn_clf_pca.fit(X_train_reduction, y_train)\n",
    "knn_clf_pca.score(X_test_reduction, y_test)"
   ]
  },
  {
   "cell_type": "code",
   "execution_count": 30,
   "id": "b91a411b-889b-4095-af96-eeeb3557e4fd",
   "metadata": {},
   "outputs": [
    {
     "data": {
      "text/plain": [
       "array([0.14566817, 0.13735469])"
      ]
     },
     "execution_count": 30,
     "metadata": {},
     "output_type": "execute_result"
    }
   ],
   "source": [
    "pca.explained_variance_ratio_"
   ]
  },
  {
   "cell_type": "code",
   "execution_count": 31,
   "id": "b6ebf4f3-26d5-4c02-88cd-9ad74a46cef7",
   "metadata": {},
   "outputs": [],
   "source": [
    "pca = PCA(X.shape[1])"
   ]
  },
  {
   "cell_type": "code",
   "execution_count": 32,
   "id": "717679b3-50f3-47e0-a82c-f82651bd823e",
   "metadata": {},
   "outputs": [
    {
     "data": {
      "text/html": [
       "<style>#sk-container-id-4 {color: black;background-color: white;}#sk-container-id-4 pre{padding: 0;}#sk-container-id-4 div.sk-toggleable {background-color: white;}#sk-container-id-4 label.sk-toggleable__label {cursor: pointer;display: block;width: 100%;margin-bottom: 0;padding: 0.3em;box-sizing: border-box;text-align: center;}#sk-container-id-4 label.sk-toggleable__label-arrow:before {content: \"▸\";float: left;margin-right: 0.25em;color: #696969;}#sk-container-id-4 label.sk-toggleable__label-arrow:hover:before {color: black;}#sk-container-id-4 div.sk-estimator:hover label.sk-toggleable__label-arrow:before {color: black;}#sk-container-id-4 div.sk-toggleable__content {max-height: 0;max-width: 0;overflow: hidden;text-align: left;background-color: #f0f8ff;}#sk-container-id-4 div.sk-toggleable__content pre {margin: 0.2em;color: black;border-radius: 0.25em;background-color: #f0f8ff;}#sk-container-id-4 input.sk-toggleable__control:checked~div.sk-toggleable__content {max-height: 200px;max-width: 100%;overflow: auto;}#sk-container-id-4 input.sk-toggleable__control:checked~label.sk-toggleable__label-arrow:before {content: \"▾\";}#sk-container-id-4 div.sk-estimator input.sk-toggleable__control:checked~label.sk-toggleable__label {background-color: #d4ebff;}#sk-container-id-4 div.sk-label input.sk-toggleable__control:checked~label.sk-toggleable__label {background-color: #d4ebff;}#sk-container-id-4 input.sk-hidden--visually {border: 0;clip: rect(1px 1px 1px 1px);clip: rect(1px, 1px, 1px, 1px);height: 1px;margin: -1px;overflow: hidden;padding: 0;position: absolute;width: 1px;}#sk-container-id-4 div.sk-estimator {font-family: monospace;background-color: #f0f8ff;border: 1px dotted black;border-radius: 0.25em;box-sizing: border-box;margin-bottom: 0.5em;}#sk-container-id-4 div.sk-estimator:hover {background-color: #d4ebff;}#sk-container-id-4 div.sk-parallel-item::after {content: \"\";width: 100%;border-bottom: 1px solid gray;flex-grow: 1;}#sk-container-id-4 div.sk-label:hover label.sk-toggleable__label {background-color: #d4ebff;}#sk-container-id-4 div.sk-serial::before {content: \"\";position: absolute;border-left: 1px solid gray;box-sizing: border-box;top: 0;bottom: 0;left: 50%;z-index: 0;}#sk-container-id-4 div.sk-serial {display: flex;flex-direction: column;align-items: center;background-color: white;padding-right: 0.2em;padding-left: 0.2em;position: relative;}#sk-container-id-4 div.sk-item {position: relative;z-index: 1;}#sk-container-id-4 div.sk-parallel {display: flex;align-items: stretch;justify-content: center;background-color: white;position: relative;}#sk-container-id-4 div.sk-item::before, #sk-container-id-4 div.sk-parallel-item::before {content: \"\";position: absolute;border-left: 1px solid gray;box-sizing: border-box;top: 0;bottom: 0;left: 50%;z-index: -1;}#sk-container-id-4 div.sk-parallel-item {display: flex;flex-direction: column;z-index: 1;position: relative;background-color: white;}#sk-container-id-4 div.sk-parallel-item:first-child::after {align-self: flex-end;width: 50%;}#sk-container-id-4 div.sk-parallel-item:last-child::after {align-self: flex-start;width: 50%;}#sk-container-id-4 div.sk-parallel-item:only-child::after {width: 0;}#sk-container-id-4 div.sk-dashed-wrapped {border: 1px dashed gray;margin: 0 0.4em 0.5em 0.4em;box-sizing: border-box;padding-bottom: 0.4em;background-color: white;}#sk-container-id-4 div.sk-label label {font-family: monospace;font-weight: bold;display: inline-block;line-height: 1.2em;}#sk-container-id-4 div.sk-label-container {text-align: center;}#sk-container-id-4 div.sk-container {/* jupyter's `normalize.less` sets `[hidden] { display: none; }` but bootstrap.min.css set `[hidden] { display: none !important; }` so we also need the `!important` here to be able to override the default hidden behavior on the sphinx rendered scikit-learn.org. See: https://github.com/scikit-learn/scikit-learn/issues/21755 */display: inline-block !important;position: relative;}#sk-container-id-4 div.sk-text-repr-fallback {display: none;}</style><div id=\"sk-container-id-4\" class=\"sk-top-container\"><div class=\"sk-text-repr-fallback\"><pre>PCA(n_components=64)</pre><b>In a Jupyter environment, please rerun this cell to show the HTML representation or trust the notebook. <br />On GitHub, the HTML representation is unable to render, please try loading this page with nbviewer.org.</b></div><div class=\"sk-container\" hidden><div class=\"sk-item\"><div class=\"sk-estimator sk-toggleable\"><input class=\"sk-toggleable__control sk-hidden--visually\" id=\"sk-estimator-id-4\" type=\"checkbox\" checked><label for=\"sk-estimator-id-4\" class=\"sk-toggleable__label sk-toggleable__label-arrow\">PCA</label><div class=\"sk-toggleable__content\"><pre>PCA(n_components=64)</pre></div></div></div></div></div>"
      ],
      "text/plain": [
       "PCA(n_components=64)"
      ]
     },
     "execution_count": 32,
     "metadata": {},
     "output_type": "execute_result"
    }
   ],
   "source": [
    "pca.fit(X_train)"
   ]
  },
  {
   "cell_type": "code",
   "execution_count": 33,
   "id": "54dc7ab3-0ec2-466d-b7d9-17b371e64ef8",
   "metadata": {},
   "outputs": [
    {
     "data": {
      "text/plain": [
       "array([1.45668166e-01, 1.37354688e-01, 1.17777287e-01, 8.49968861e-02,\n",
       "       5.86018996e-02, 5.11542945e-02, 4.26605279e-02, 3.60119663e-02,\n",
       "       3.41105814e-02, 3.05407804e-02, 2.42337671e-02, 2.28700570e-02,\n",
       "       1.80304649e-02, 1.79346003e-02, 1.45798298e-02, 1.42044841e-02,\n",
       "       1.29961033e-02, 1.26617002e-02, 1.01728635e-02, 9.09314698e-03,\n",
       "       8.85220461e-03, 7.73828332e-03, 7.60516219e-03, 7.11864860e-03,\n",
       "       6.85977267e-03, 5.76411920e-03, 5.71688020e-03, 5.08255707e-03,\n",
       "       4.89020776e-03, 4.34888085e-03, 3.72917505e-03, 3.57755036e-03,\n",
       "       3.26989470e-03, 3.14917937e-03, 3.09269839e-03, 2.87619649e-03,\n",
       "       2.50362666e-03, 2.25417403e-03, 2.20030857e-03, 1.98028746e-03,\n",
       "       1.88195578e-03, 1.52769283e-03, 1.42823692e-03, 1.38003340e-03,\n",
       "       1.17572392e-03, 1.07377463e-03, 9.55152460e-04, 9.00017642e-04,\n",
       "       5.79162563e-04, 3.82793717e-04, 2.38328586e-04, 8.40132221e-05,\n",
       "       5.60545588e-05, 5.48538930e-05, 1.08077650e-05, 4.01354717e-06,\n",
       "       1.23186515e-06, 1.05783059e-06, 6.06659094e-07, 5.86686040e-07,\n",
       "       1.71368535e-33, 7.44075955e-34, 7.44075955e-34, 7.15189459e-34])"
      ]
     },
     "execution_count": 33,
     "metadata": {},
     "output_type": "execute_result"
    }
   ],
   "source": [
    "pca.explained_variance_ratio_"
   ]
  },
  {
   "cell_type": "code",
   "execution_count": 37,
   "id": "cbed376f-44de-49a4-a389-6bcc0636db52",
   "metadata": {},
   "outputs": [
    {
     "data": {
      "text/plain": [
       "[<matplotlib.lines.Line2D at 0x1cb2f6e0e50>]"
      ]
     },
     "execution_count": 37,
     "metadata": {},
     "output_type": "execute_result"
    },
    {
     "data": {
      "image/png": "[encoded data removed]",
      "text/plain": [
       "<Figure size 640x480 with 1 Axes>"
      ]
     },
     "metadata": {},
     "output_type": "display_data"
    }
   ],
   "source": [
    "import matplotlib.pyplot as plt\n",
    "plt.plot([i for i in range(X_train.shape[1])], [np.sum(pca.explained_variance_ratio_[:i+1]) for i in range(X_train.shape[1])])"
   ]
  },
  {
   "cell_type": "code",
   "execution_count": null,
   "id": "8fc443ee-a3d0-4469-a2da-3efc6e041832",
   "metadata": {},
   "outputs": [],
   "source": [
    "pca = PCA(0.95)# 不知道要取多少个主成分,但是期望能得到95%的方差,也即能保留样本95%的信息\n"
   ]
  }
 ],
 "metadata": {
  "kernelspec": {
   "display_name": "Python 3 (ipykernel)",
   "language": "python",
   "name": "python3"
  },
  "language_info": {
   "codemirror_mode": {
    "name": "ipython",
    "version": 3
   },
   "file_extension": ".py",
   "mimetype": "text/x-python",
   "name": "python",
   "nbconvert_exporter": "python",
   "pygments_lexer": "ipython3",
   "version": "3.11.7"
  }
 },
 "nbformat": 4,
 "nbformat_minor": 5
}
