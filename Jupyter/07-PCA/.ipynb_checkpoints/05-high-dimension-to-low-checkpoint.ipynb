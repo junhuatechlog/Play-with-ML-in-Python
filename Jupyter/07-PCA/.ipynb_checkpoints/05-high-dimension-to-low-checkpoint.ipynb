{
 "cells": [
  {
   "cell_type": "code",
   "execution_count": 1,
   "id": "507a85d5-8c64-484d-9027-988f906c2dbe",
   "metadata": {},
   "outputs": [],
   "source": [
    "import numpy as np\n",
    "import matplotlib.pyplot as plt\n",
    "import sys\n",
    "sys.path.append(r'C:\\\\N-20KEPC0Y7KFA-Data\\\\junhuawa\\\\Documents\\\\00-Play-with-ML-in-Python\\\\Jupyter')\n",
    "import playML\n",
    "from playML.pca import PCA"
   ]
  },
  {
   "cell_type": "code",
   "execution_count": 2,
   "id": "9d7f27c2-ccf3-4719-85b6-fe0b0ea0c46f",
   "metadata": {},
   "outputs": [],
   "source": [
    "X = np.empty((100, 2))\n",
    "X[:, 0] = np.random.uniform(0, 100, size=100)\n",
    "X[:, 1] = 0.75*X[:, 0] + 3.0 + np.random.normal(0, 10, size=100)"
   ]
  },
  {
   "cell_type": "code",
   "execution_count": 3,
   "id": "d94fa320-d555-4bb6-9e43-82fb18c49b97",
   "metadata": {},
   "outputs": [],
   "source": [
    "pca = PCA(2)"
   ]
  },
  {
   "cell_type": "code",
   "execution_count": 4,
   "id": "fe75f470-631e-452c-b445-9e86e03c8790",
   "metadata": {},
   "outputs": [
    {
     "data": {
      "text/plain": [
       "PCA(n_components = 2)"
      ]
     },
     "execution_count": 4,
     "metadata": {},
     "output_type": "execute_result"
    }
   ],
   "source": [
    "pca.fit(X)"
   ]
  },
  {
   "cell_type": "code",
   "execution_count": 6,
   "id": "be990c27-e598-4900-b1d0-55c407093c8c",
   "metadata": {},
   "outputs": [
    {
     "data": {
      "text/plain": [
       "array([[ 0.78601   ,  0.61821379],\n",
       "       [-0.61819717,  0.78602306]])"
      ]
     },
     "execution_count": 6,
     "metadata": {},
     "output_type": "execute_result"
    }
   ],
   "source": [
    "pca.components_ #因为噪音的方差很大,所以导致得到的W 的偏差也很大"
   ]
  },
  {
   "cell_type": "code",
   "execution_count": 8,
   "id": "c2581e5a-c003-46e0-981b-2108652bdc10",
   "metadata": {},
   "outputs": [
    {
     "data": {
      "text/plain": [
       "2.1137684882766017e-05"
      ]
     },
     "execution_count": 8,
     "metadata": {},
     "output_type": "execute_result"
    }
   ],
   "source": [
    "pca.components_[0].dot(pca.components_[1])"
   ]
  },
  {
   "cell_type": "code",
   "execution_count": null,
   "id": "487ee8c1-905c-4f7b-b9a1-a0aabd7b4871",
   "metadata": {},
   "outputs": [],
   "source": []
  },
  {
   "cell_type": "code",
   "execution_count": null,
   "id": "c0a49d5d-8714-4c2b-b020-373e9de23a3c",
   "metadata": {},
   "outputs": [],
   "source": []
  }
 ],
 "metadata": {
  "kernelspec": {
   "display_name": "Python 3 (ipykernel)",
   "language": "python",
   "name": "python3"
  },
  "language_info": {
   "codemirror_mode": {
    "name": "ipython",
    "version": 3
   },
   "file_extension": ".py",
   "mimetype": "text/x-python",
   "name": "python",
   "nbconvert_exporter": "python",
   "pygments_lexer": "ipython3",
   "version": "3.11.7"
  }
 },
 "nbformat": 4,
 "nbformat_minor": 5
}
