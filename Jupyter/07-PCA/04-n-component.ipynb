{
 "cells": [
  {
   "cell_type": "code",
   "execution_count": 1,
   "id": "db50e804-512b-4939-870b-61c866630210",
   "metadata": {},
   "outputs": [],
   "source": [
    "import numpy as np\n",
    "import matplotlib.pyplot as plt\n",
    "import sys\n",
    "sys.path.append(r'C:\\\\N-20KEPC0Y7KFA-Data\\\\junhuawa\\\\Documents\\\\00-Play-with-ML-in-Python\\\\Jupyter')\n",
    "import playML\n",
    "from playML.pca import PCA"
   ]
  },
  {
   "cell_type": "code",
   "execution_count": 2,
   "id": "d014a96d-a201-424e-9f33-159b91b232a7",
   "metadata": {},
   "outputs": [],
   "source": [
    "pca = PCA()"
   ]
  },
  {
   "cell_type": "code",
   "execution_count": 3,
   "id": "44834d79-7e97-4db4-bc89-fe43736b6d71",
   "metadata": {},
   "outputs": [],
   "source": [
    "X = np.empty((100, 2))\n",
    "X[:, 0] = np.random.uniform(0, 100, size=100)\n",
    "X[:, 1] = 0.75*X[:, 0] + 3.0 + np.random.normal(0, 10, size=100)"
   ]
  },
  {
   "cell_type": "code",
   "execution_count": 4,
   "id": "13d0062b-5225-41d8-a908-6ebe8c3636bd",
   "metadata": {},
   "outputs": [],
   "source": [
    "w = PCA.first_n_components(2, X)"
   ]
  },
  {
   "cell_type": "code",
   "execution_count": 5,
   "id": "bb43c8f2-43ee-46c5-b4b5-3cfd5f9d957d",
   "metadata": {},
   "outputs": [
    {
     "data": {
      "text/plain": [
       "[array([0.7694744 , 0.63867765]), array([ 0.63870067, -0.7694553 ])]"
      ]
     },
     "execution_count": 5,
     "metadata": {},
     "output_type": "execute_result"
    }
   ],
   "source": [
    "w"
   ]
  },
  {
   "cell_type": "code",
   "execution_count": 6,
   "id": "d6ab58f0-dc75-4344-b0f9-23b4beb239fc",
   "metadata": {},
   "outputs": [
    {
     "data": {
      "text/plain": [
       "2.991102889515762e-05"
      ]
     },
     "execution_count": 6,
     "metadata": {},
     "output_type": "execute_result"
    }
   ],
   "source": [
    "w[0].dot(w[1])"
   ]
  },
  {
   "cell_type": "code",
   "execution_count": null,
   "id": "4e9f224f-3fee-4cc9-93c6-7d8677585f5e",
   "metadata": {},
   "outputs": [],
   "source": []
  }
 ],
 "metadata": {
  "kernelspec": {
   "display_name": "Python 3 (ipykernel)",
   "language": "python",
   "name": "python3"
  },
  "language_info": {
   "codemirror_mode": {
    "name": "ipython",
    "version": 3
   },
   "file_extension": ".py",
   "mimetype": "text/x-python",
   "name": "python",
   "nbconvert_exporter": "python",
   "pygments_lexer": "ipython3",
   "version": "3.11.7"
  }
 },
 "nbformat": 4,
 "nbformat_minor": 5
}
