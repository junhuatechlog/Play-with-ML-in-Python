{
 "cells": [
  {
   "cell_type": "code",
   "execution_count": 38,
   "id": "db50e804-512b-4939-870b-61c866630210",
   "metadata": {},
   "outputs": [],
   "source": [
    "import numpy as np\n",
    "import matplotlib.pyplot as plt\n",
    "import sys\n",
    "sys.path.append(r'C:\\\\N-20KEPC0Y7KFA-Data\\\\junhuawa\\\\Documents\\\\00-Play-with-ML-in-Python\\\\Jupyter')"
   ]
  },
  {
   "cell_type": "code",
   "execution_count": 39,
   "id": "b7284596-4724-44e1-ab93-393cc8cac40d",
   "metadata": {},
   "outputs": [],
   "source": [
    "import playML\n"
   ]
  },
  {
   "cell_type": "code",
   "execution_count": 40,
   "id": "ccc2becb-5201-4935-a0a6-400a5765754c",
   "metadata": {},
   "outputs": [],
   "source": [
    "from playML.pca import PCA"
   ]
  },
  {
   "cell_type": "code",
   "execution_count": 41,
   "id": "b476effe-5437-4ca8-afe7-07d14f9c31a7",
   "metadata": {},
   "outputs": [],
   "source": [
    "pca = PCA()\n"
   ]
  },
  {
   "cell_type": "code",
   "execution_count": 5,
   "id": "728c962b-df1f-4022-ae85-e22ef4441962",
   "metadata": {},
   "outputs": [],
   "source": [
    "X = np.empty((100, 2))\n",
    "X[:, 0] = np.random.uniform(0, 100, size=100)\n",
    "X[:, 1] = 0.75*X[:, 0] + 3.0 + np.random.normal(0, 10, size=100)\n",
    "def demean(X): #需要对原始数据做demean处理 - 归零\n",
    "    return X - np.mean(X, axis = 0)\n",
    "X_demean = demean(X)"
   ]
  },
  {
   "cell_type": "code",
   "execution_count": 6,
   "id": "56f5a78a-c2e1-450e-94ec-e419e427ee3b",
   "metadata": {},
   "outputs": [],
   "source": [
    "\n",
    "initial_w = np.random.random(X.shape[1])\n",
    "w = PCA.first_component(X_demean, initial_w)"
   ]
  },
  {
   "cell_type": "code",
   "execution_count": 7,
   "id": "768a9a10-19df-4b40-ba34-deb31ab12467",
   "metadata": {},
   "outputs": [
    {
     "data": {
      "text/plain": [
       "array([0.7682808 , 0.64011297])"
      ]
     },
     "execution_count": 7,
     "metadata": {},
     "output_type": "execute_result"
    }
   ],
   "source": [
    "w"
   ]
  },
  {
   "cell_type": "code",
   "execution_count": 30,
   "id": "1374685f-c27f-41d8-9924-cff269e4f7f2",
   "metadata": {},
   "outputs": [],
   "source": [
    "X2 = np.empty(X.shape)\n",
    "#for i in range(len(X)):\n",
    "#    X2[i] = X[i] - X[i].dot(w)*w #点乘得到向量的模，然后再乘上单位向量得到X[i]在w方向上的分量。 \n",
    "X2 = X - (X.dot(w)).reshape(-1, 1)*w #X.dot(w)得到一个向量，将向量转换为m*1维的矩阵，然后于w相乘，就是把模乘上单位向量，得到每个样本在这个单位向量上的分量。 \n"
   ]
  },
  {
   "cell_type": "code",
   "execution_count": 31,
   "id": "a9029d28-88ca-4f89-9a64-760ccfeacfc7",
   "metadata": {},
   "outputs": [
    {
     "data": {
      "text/plain": [
       "array([47.15415947, 37.63978368])"
      ]
     },
     "execution_count": 31,
     "metadata": {},
     "output_type": "execute_result"
    }
   ],
   "source": [
    "X[2]"
   ]
  },
  {
   "cell_type": "code",
   "execution_count": 32,
   "id": "44d68cc9-0121-4ab1-939a-c93ed80d4202",
   "metadata": {},
   "outputs": [
    {
     "data": {
      "text/plain": [
       "array([[  5.7777183 ,  -6.93457293],\n",
       "       [  1.39897213,  -1.67908399],\n",
       "       [  0.81042509,  -0.97269399],\n",
       "       [ -5.22446793,   6.27054695],\n",
       "       [  2.20630687,  -2.64806885],\n",
       "       [-10.0275746 ,  12.03536478],\n",
       "       [  2.84045776,  -3.40919381],\n",
       "       [  0.53184059,  -0.63832939],\n",
       "       [ -5.15266908,   6.18437204],\n",
       "       [ -4.31956287,   5.18445555],\n",
       "       [ -7.55142031,   9.0634178 ],\n",
       "       [  0.74145798,  -0.88991782],\n",
       "       [ -1.37574039,   1.65120063],\n",
       "       [  6.47802452,  -7.77509929],\n",
       "       [ -0.57904029,   0.69497973],\n",
       "       [  9.08379004, -10.90260916],\n",
       "       [  4.19707371,  -5.03744077],\n",
       "       [ -2.68636971,   3.22425319],\n",
       "       [  6.57489091,  -7.89136093],\n",
       "       [  6.63034959,  -7.95792394],\n",
       "       [  1.19751786,  -1.43729315],\n",
       "       [  5.5281906 ,  -6.63508307],\n",
       "       [  8.88580172, -10.66497825],\n",
       "       [  5.57465541,  -6.69085138],\n",
       "       [  1.6276658 ,  -1.95356828],\n",
       "       [  3.54155604,  -4.25067083],\n",
       "       [ -1.81246569,   2.17537007],\n",
       "       [ -4.35571393,   5.22784503],\n",
       "       [  1.3539728 ,  -1.62507458],\n",
       "       [  2.25338072,  -2.70456815],\n",
       "       [  1.54891388,  -1.8590481 ],\n",
       "       [  0.08043636,  -0.09654188],\n",
       "       [ -5.28271042,   6.34045115],\n",
       "       [  5.71926079,  -6.86441065],\n",
       "       [  5.14390381,  -6.17385172],\n",
       "       [  2.88503826,  -3.46270053],\n",
       "       [  6.07036016,  -7.28580956],\n",
       "       [ -1.08071369,   1.29710164],\n",
       "       [ -1.43719507,   1.72496019],\n",
       "       [ -5.67067792,   6.80610018],\n",
       "       [  5.62581745,  -6.75225744],\n",
       "       [  7.09918816,  -8.52063659],\n",
       "       [  1.42844461,  -1.71445765],\n",
       "       [ -9.08603112,  10.90529897],\n",
       "       [  1.07986349,  -1.29608121],\n",
       "       [ -0.21781663,   0.26142938],\n",
       "       [  0.47958805,  -0.57561448],\n",
       "       [ -8.52606234,  10.23320937],\n",
       "       [ -1.42208758,   1.70682777],\n",
       "       [  0.54208819,  -0.65062882],\n",
       "       [ 11.45536051, -13.74903183],\n",
       "       [ -1.60827548,   1.9302955 ],\n",
       "       [  7.44747729,  -8.93866258],\n",
       "       [  4.86572765,  -5.83997722],\n",
       "       [ -1.46545931,   1.75888368],\n",
       "       [  3.1406607 ,  -3.76950545],\n",
       "       [  8.06962666,  -9.685383  ],\n",
       "       [ -2.2723542 ,   2.72734064],\n",
       "       [ -1.31309659,   1.57601385],\n",
       "       [  9.03419146, -10.84307961],\n",
       "       [  0.54390852,  -0.65281363],\n",
       "       [  6.25055807,  -7.50208793],\n",
       "       [  1.04294769,  -1.25177388],\n",
       "       [ -2.66428468,   3.19774615],\n",
       "       [  6.804164  ,  -8.16654067],\n",
       "       [ -5.86742539,   7.04224179],\n",
       "       [ -3.77400016,   4.52965651],\n",
       "       [ -7.94981989,   9.54158768],\n",
       "       [  9.34040163, -11.21060129],\n",
       "       [  2.88881866,  -3.46723786],\n",
       "       [ -1.49951664,   1.79976021],\n",
       "       [  0.65310978,  -0.78387993],\n",
       "       [ -0.9189665 ,   1.10296831],\n",
       "       [  3.09668459,  -3.71672415],\n",
       "       [  1.28442571,  -1.54160229],\n",
       "       [ 14.5833151 , -17.50328708],\n",
       "       [ -3.06109345,   3.6740067 ],\n",
       "       [  6.82819426,  -8.19538243],\n",
       "       [  7.14667251,  -8.5776286 ],\n",
       "       [ -0.98526832,   1.18254554],\n",
       "       [  1.36498654,  -1.63829356],\n",
       "       [ -7.46035705,   8.95412121],\n",
       "       [  0.70577514,  -0.84709031],\n",
       "       [  1.54283788,  -1.85175553],\n",
       "       [  9.04405648, -10.85491988],\n",
       "       [ -4.40184   ,   5.28320678],\n",
       "       [  2.57326389,  -3.08850054],\n",
       "       [ -1.75867279,   2.1108064 ],\n",
       "       [ 10.93568488, -13.12530316],\n",
       "       [ -6.77736517,   8.13437599],\n",
       "       [ -8.31014056,   9.97405425],\n",
       "       [  1.30812906,  -1.57005169],\n",
       "       [  1.73762103,  -2.0855395 ],\n",
       "       [  6.42366799,  -7.70985912],\n",
       "       [  6.82548881,  -8.19213527],\n",
       "       [ -4.48072724,   5.37788937],\n",
       "       [ -0.98303257,   1.17986213],\n",
       "       [ -0.16008426,   0.19213743],\n",
       "       [  1.30833695,  -1.5703012 ],\n",
       "       [ -7.54775475,   9.05901829]])"
      ]
     },
     "execution_count": 32,
     "metadata": {},
     "output_type": "execute_result"
    }
   ],
   "source": [
    "X2"
   ]
  },
  {
   "cell_type": "code",
   "execution_count": 33,
   "id": "718ffab6-2a0a-4b33-8726-4ad330851fcb",
   "metadata": {},
   "outputs": [
    {
     "data": {
      "text/plain": [
       "[<matplotlib.lines.Line2D at 0x19ff5210490>]"
      ]
     },
     "execution_count": 33,
     "metadata": {},
     "output_type": "execute_result"
    },
    {
     "data": {
      "image/png": "[encoded data removed]",
      "text/plain": [
       "<Figure size 640x480 with 1 Axes>"
      ]
     },
     "metadata": {},
     "output_type": "display_data"
    }
   ],
   "source": [
    "\n",
    "plt.scatter(X2[:, 0], X2[:, 1])\n",
    "plt.plot([0, w[0]*30], [0, w[1]*30], color='r')"
   ]
  },
  {
   "cell_type": "code",
   "execution_count": null,
   "id": "205dc0bc-d491-47a1-8f13-20b4e8814320",
   "metadata": {},
   "outputs": [],
   "source": []
  },
  {
   "cell_type": "code",
   "execution_count": 34,
   "id": "8a3dc6ef-edc8-4bfd-a60d-6ba188f6425d",
   "metadata": {},
   "outputs": [],
   "source": [
    "X_w = np.empty(X.shape)\n",
    "for i in range(len(X)):\n",
    "    X_w[i] = X_demean[i].dot(w)*w "
   ]
  },
  {
   "cell_type": "code",
   "execution_count": 35,
   "id": "1d82cf60-7bad-47b9-b741-e319e6a3cb44",
   "metadata": {},
   "outputs": [
    {
     "data": {
      "text/plain": [
       "array([[-23.10697877, -19.25217537],\n",
       "       [-43.86050381, -36.54351006],\n",
       "       [ -5.16288452,  -4.30159041],\n",
       "       [-43.64726576, -36.36584528],\n",
       "       [ 28.96767589,  24.13516635],\n",
       "       [-15.72627998, -13.1027558 ],\n",
       "       [  8.50674152,   7.08761111],\n",
       "       [ 44.83860839,  37.35844312],\n",
       "       [-37.50169573, -31.2455051 ],\n",
       "       [-16.72106269, -13.93158468],\n",
       "       [-28.43351317, -23.69011489],\n",
       "       [-10.01595649,  -8.3450525 ],\n",
       "       [ 26.81340553,  22.34028043],\n",
       "       [ 17.85611007,  14.87727868],\n",
       "       [ 39.68727653,  33.06647811],\n",
       "       [-10.77149184,  -8.97454626],\n",
       "       [-30.14572342, -25.11668703],\n",
       "       [-45.05386092, -37.53778632],\n",
       "       [ 18.3312679 ,  15.27316867],\n",
       "       [-58.05678899, -48.37151123],\n",
       "       [-26.00460413, -21.66640668],\n",
       "       [ 15.81649348,  13.17791951],\n",
       "       [-49.73513448, -41.43811013],\n",
       "       [ 28.07102159,  23.38809569],\n",
       "       [-17.25155771, -14.37358028],\n",
       "       [ 39.93032456,  33.26897985],\n",
       "       [ 44.15737497,  36.79085593],\n",
       "       [-45.62967389, -38.01753975],\n",
       "       [-21.32801388, -17.76998489],\n",
       "       [ 28.20902188,  23.50307419],\n",
       "       [  3.96212784,   3.30114901],\n",
       "       [ 36.2600904 ,  30.21102959],\n",
       "       [ 46.8937742 ,  39.07075753],\n",
       "       [-41.69440651, -34.73877023],\n",
       "       [ 34.55250685,  28.78831231],\n",
       "       [-12.13255121, -10.10854798],\n",
       "       [-38.6267636 , -32.18288441],\n",
       "       [ 22.00019831,  18.33003269],\n",
       "       [  1.90680663,   1.58870513],\n",
       "       [ 50.03213419,  41.6855631 ],\n",
       "       [ -5.28586409,  -4.404054  ],\n",
       "       [-42.22066334, -35.17723468],\n",
       "       [ 14.46234721,  12.04967762],\n",
       "       [-20.06508418, -16.71774243],\n",
       "       [-41.22131958, -34.34460565],\n",
       "       [ 40.54955836,  33.78491046],\n",
       "       [  2.56078142,   2.13358109],\n",
       "       [-23.6232978 , -19.68235989],\n",
       "       [-23.10632154, -19.25162779],\n",
       "       [ 17.73075807,  14.77283842],\n",
       "       [ 36.65383994,  30.53909218],\n",
       "       [-26.74544443, -22.28365688],\n",
       "       [ 20.01702295,  16.67769898],\n",
       "       [-13.14938673, -10.95575072],\n",
       "       [ 36.68473551,  30.56483362],\n",
       "       [ 18.58192964,  15.48201397],\n",
       "       [-46.31813343, -38.59114757],\n",
       "       [-41.71442716, -34.75545095],\n",
       "       [ 19.94821217,  16.6203675 ],\n",
       "       [-48.3384726 , -40.27444526],\n",
       "       [ 39.43091994,  32.85288801],\n",
       "       [  1.93157683,   1.60934306],\n",
       "       [  1.47038849,   1.2250921 ],\n",
       "       [-30.05226254, -25.03881769],\n",
       "       [  2.3021274 ,   1.91807682],\n",
       "       [ 51.85771059,  43.20658917],\n",
       "       [ 10.56501105,   8.80251147],\n",
       "       [-38.52367056, -32.09698979],\n",
       "       [-15.40405723, -12.83428761],\n",
       "       [  6.64151226,   5.53354725],\n",
       "       [-28.08452139, -23.39934339],\n",
       "       [ 24.92435083,  20.76636578],\n",
       "       [ 12.49870729,  10.41362036],\n",
       "       [ 31.99157183,  26.65460325],\n",
       "       [ 33.52957546,  27.93603064],\n",
       "       [ -9.34128305,  -7.78293092],\n",
       "       [-16.04827335, -13.37103288],\n",
       "       [-26.70389945, -22.24904261],\n",
       "       [-17.56902464, -14.63808605],\n",
       "       [ 35.52840445,  29.60140657],\n",
       "       [ 32.30884709,  26.91894931],\n",
       "       [ 20.43754284,  17.02806597],\n",
       "       [-26.43764231, -22.02720361],\n",
       "       [  9.60192329,   8.00009006],\n",
       "       [  4.24936969,   3.54047196],\n",
       "       [ 21.55812571,  17.96170849],\n",
       "       [ 18.71027973,  15.58895216],\n",
       "       [-33.81544666, -28.17421161],\n",
       "       [ 20.21297092,  16.84095809],\n",
       "       [-44.07621923, -36.72323893],\n",
       "       [ 39.11925782,  32.59321868],\n",
       "       [-51.48776162, -42.89835664],\n",
       "       [ 35.56140061,  29.62889817],\n",
       "       [  9.94493165,   8.28587632],\n",
       "       [ 40.43075796,  33.68592885],\n",
       "       [-39.14474076, -32.61445045],\n",
       "       [ 29.58260444,  24.64750993],\n",
       "       [ 37.8120022 ,  31.50404494],\n",
       "       [ 30.27620149,  25.2253982 ],\n",
       "       [-17.37628873, -14.47750315]])"
      ]
     },
     "execution_count": 35,
     "metadata": {},
     "output_type": "execute_result"
    }
   ],
   "source": [
    "X_w"
   ]
  },
  {
   "cell_type": "code",
   "execution_count": 36,
   "id": "b35f9d00-88bd-4c68-9c46-3c26c62c9e6f",
   "metadata": {},
   "outputs": [
    {
     "data": {
      "text/plain": [
       "<matplotlib.collections.PathCollection at 0x19ff5272c10>"
      ]
     },
     "execution_count": 36,
     "metadata": {},
     "output_type": "execute_result"
    },
    {
     "data": {
      "image/png": "[encoded data removed]",
      "text/plain": [
       "<Figure size 640x480 with 1 Axes>"
      ]
     },
     "metadata": {},
     "output_type": "display_data"
    }
   ],
   "source": [
    "plt.scatter(X2[:, 0], X2[:, 1])\n",
    "plt.scatter(X_w[:, 0], X_w[:, 1], color='r')"
   ]
  },
  {
   "cell_type": "code",
   "execution_count": 37,
   "id": "7c050699-6c8b-46f3-91ab-f30eee35cb55",
   "metadata": {},
   "outputs": [],
   "source": [
    "w2 = PCA.first_component(X2, initial_w)"
   ]
  },
  {
   "cell_type": "code",
   "execution_count": 23,
   "id": "8f8f3e99-dadf-414c-a799-70cb8321e8a4",
   "metadata": {},
   "outputs": [
    {
     "data": {
      "text/plain": [
       "array([-0.64009594,  0.76829499])"
      ]
     },
     "execution_count": 23,
     "metadata": {},
     "output_type": "execute_result"
    }
   ],
   "source": [
    "w2"
   ]
  },
  {
   "cell_type": "code",
   "execution_count": 28,
   "id": "3d0a2364-03d8-4b36-b9b9-ff051746a9fe",
   "metadata": {},
   "outputs": [
    {
     "data": {
      "text/plain": [
       "[<matplotlib.lines.Line2D at 0x19ff521aa50>]"
      ]
     },
     "execution_count": 28,
     "metadata": {},
     "output_type": "execute_result"
    },
    {
     "data": {
      "image/png": "[encoded data removed]",
      "text/plain": [
       "<Figure size 640x480 with 1 Axes>"
      ]
     },
     "metadata": {},
     "output_type": "display_data"
    }
   ],
   "source": [
    "plt.plot((0, w2[0]*30), (0, w2[1]*30), color='b')\n",
    "plt.plot((0, w[0]*30), (0, w[1]*30), color='r')"
   ]
  },
  {
   "cell_type": "code",
   "execution_count": 29,
   "id": "a8448c43-29c0-4059-a3aa-a3cff46de92a",
   "metadata": {},
   "outputs": [
    {
     "data": {
      "text/plain": [
       "2.2163526569252134e-05"
      ]
     },
     "execution_count": 29,
     "metadata": {},
     "output_type": "execute_result"
    }
   ],
   "source": [
    "w.dot(w2)"
   ]
  },
  {
   "cell_type": "code",
   "execution_count": null,
   "id": "21c1884d-296c-4cfe-9f47-b99bed707e65",
   "metadata": {},
   "outputs": [],
   "source": []
  }
 ],
 "metadata": {
  "kernelspec": {
   "display_name": "Python 3 (ipykernel)",
   "language": "python",
   "name": "python3"
  },
  "language_info": {
   "codemirror_mode": {
    "name": "ipython",
    "version": 3
   },
   "file_extension": ".py",
   "mimetype": "text/x-python",
   "name": "python",
   "nbconvert_exporter": "python",
   "pygments_lexer": "ipython3",
   "version": "3.11.7"
  }
 },
 "nbformat": 4,
 "nbformat_minor": 5
}
