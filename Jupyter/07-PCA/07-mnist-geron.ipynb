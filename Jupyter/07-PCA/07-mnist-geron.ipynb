{
 "cells": [
  {
   "cell_type": "markdown",
   "id": "988ec9e5-2deb-4575-be72-c65c0d3455b6",
   "metadata": {},
   "source": [
    "# MNIST\n"
   ]
  },
  {
   "cell_type": "code",
   "execution_count": 1,
   "id": "0a696cfd-9b09-4efc-9be8-3c3f3d7b17a5",
   "metadata": {},
   "outputs": [],
   "source": [
    "import numpy as np\n",
    "from sklearn import datasets\n",
    "from sklearn.datasets import fetch_openml\n",
    "from scipy.io import loadmat"
   ]
  },
  {
   "cell_type": "code",
   "execution_count": 2,
   "id": "61898485-8624-4ab1-8f02-ca09db5b90ec",
   "metadata": {},
   "outputs": [],
   "source": [
    "mnist_data = loadmat('mnist-original.mat')"
   ]
  },
  {
   "cell_type": "code",
   "execution_count": 3,
   "id": "8e59e199-2c9a-418f-9a7d-f992ceb2a948",
   "metadata": {},
   "outputs": [
    {
     "data": {
      "text/plain": [
       "dict_keys(['__header__', '__version__', '__globals__', 'mldata_descr_ordering', 'data', 'label'])"
      ]
     },
     "execution_count": 3,
     "metadata": {},
     "output_type": "execute_result"
    }
   ],
   "source": [
    "mnist_data.keys()"
   ]
  },
  {
   "cell_type": "code",
   "execution_count": 4,
   "id": "6fad52b3-edff-4a27-8920-fe25d93083ca",
   "metadata": {},
   "outputs": [
    {
     "data": {
      "text/plain": [
       "(70000, 784)"
      ]
     },
     "execution_count": 4,
     "metadata": {},
     "output_type": "execute_result"
    }
   ],
   "source": [
    "mnist_data['data'].T.shape"
   ]
  },
  {
   "cell_type": "code",
   "execution_count": 5,
   "id": "eadb3d72-2118-4fc6-ae83-5e1cb1fbb63d",
   "metadata": {},
   "outputs": [
    {
     "data": {
      "text/plain": [
       "(70000, 1)"
      ]
     },
     "execution_count": 5,
     "metadata": {},
     "output_type": "execute_result"
    }
   ],
   "source": [
    "mnist_data['label'].T.shape"
   ]
  },
  {
   "cell_type": "code",
   "execution_count": 6,
   "id": "5a5a73e1-6d76-45b2-8913-167ccb0f6f19",
   "metadata": {},
   "outputs": [
    {
     "data": {
      "text/plain": [
       "array([[0.],\n",
       "       [0.],\n",
       "       [0.],\n",
       "       ...,\n",
       "       [9.],\n",
       "       [9.],\n",
       "       [9.]])"
      ]
     },
     "execution_count": 6,
     "metadata": {},
     "output_type": "execute_result"
    }
   ],
   "source": [
    "mnist_data['label'].T"
   ]
  },
  {
   "cell_type": "code",
   "execution_count": 7,
   "id": "21215652-cce9-4804-8423-e9ce500d2112",
   "metadata": {},
   "outputs": [],
   "source": [
    "X, y = mnist_data['data'].T, mnist_data['label'].T"
   ]
  },
  {
   "cell_type": "code",
   "execution_count": 8,
   "id": "7da4dd46-78ce-4f27-a41c-d45a7c34750e",
   "metadata": {},
   "outputs": [
    {
     "data": {
      "text/plain": [
       "(70000, 784)"
      ]
     },
     "execution_count": 8,
     "metadata": {},
     "output_type": "execute_result"
    }
   ],
   "source": [
    "X.shape"
   ]
  },
  {
   "cell_type": "code",
   "execution_count": 9,
   "id": "a025dd70-1ec5-4916-9cfe-7a89c535ccb7",
   "metadata": {},
   "outputs": [
    {
     "data": {
      "text/plain": [
       "(70000, 1)"
      ]
     },
     "execution_count": 9,
     "metadata": {},
     "output_type": "execute_result"
    }
   ],
   "source": [
    "y.shape"
   ]
  },
  {
   "cell_type": "code",
   "execution_count": 10,
   "id": "87eb324a-43df-421b-9221-ca83434c6b4a",
   "metadata": {},
   "outputs": [],
   "source": [
    "X_train = np.array(X[:60000], dtype=float)"
   ]
  },
  {
   "cell_type": "code",
   "execution_count": 11,
   "id": "cf9aae7b-6301-48f5-87af-d17df14371e2",
   "metadata": {},
   "outputs": [
    {
     "data": {
      "text/plain": [
       "(60000, 784)"
      ]
     },
     "execution_count": 11,
     "metadata": {},
     "output_type": "execute_result"
    }
   ],
   "source": [
    "X_train.shape"
   ]
  },
  {
   "cell_type": "code",
   "execution_count": 12,
   "id": "291bb352-7cb3-4f37-a75f-4b20fff89c19",
   "metadata": {},
   "outputs": [],
   "source": [
    "y_train = np.array(y[:60000], dtype=float)"
   ]
  },
  {
   "cell_type": "code",
   "execution_count": 13,
   "id": "51ee33eb-f1b2-4586-bb65-097b88fbe776",
   "metadata": {},
   "outputs": [],
   "source": [
    "X_test, y_test = np.array(X[60000:], dtype=float), np.array(y[60000:], dtype=float)"
   ]
  },
  {
   "cell_type": "code",
   "execution_count": 14,
   "id": "c7bf213b-f277-47ef-889b-540f6eee2d09",
   "metadata": {},
   "outputs": [
    {
     "data": {
      "text/plain": [
       "(10000, 784)"
      ]
     },
     "execution_count": 14,
     "metadata": {},
     "output_type": "execute_result"
    }
   ],
   "source": [
    "X_test.shape"
   ]
  },
  {
   "cell_type": "code",
   "execution_count": 15,
   "id": "5485ea8d-f351-4470-a246-06acfba47400",
   "metadata": {},
   "outputs": [
    {
     "data": {
      "text/plain": [
       "(60000,)"
      ]
     },
     "execution_count": 15,
     "metadata": {},
     "output_type": "execute_result"
    }
   ],
   "source": [
    "np.squeeze(y_train).shape"
   ]
  },
  {
   "cell_type": "code",
   "execution_count": 16,
   "id": "65ce9b22-e44b-401a-bd71-1e57d7a3475e",
   "metadata": {},
   "outputs": [],
   "source": [
    "y_train, y_test =  np.squeeze(y_train), np.squeeze(y_test)"
   ]
  },
  {
   "cell_type": "code",
   "execution_count": 17,
   "id": "51856a24-ac43-40ab-9a1e-52cb9f653e68",
   "metadata": {},
   "outputs": [],
   "source": [
    "import matplotlib as mp\n",
    "import matplotlib.pyplot as plt"
   ]
  },
  {
   "cell_type": "code",
   "execution_count": 35,
   "id": "264f00e9-f1ca-494e-8429-9c5054dca13b",
   "metadata": {},
   "outputs": [],
   "source": [
    "some_digit = X_train[10002]"
   ]
  },
  {
   "cell_type": "code",
   "execution_count": 36,
   "id": "fd0ae5a2-6e64-4842-893a-0371e02f76ed",
   "metadata": {},
   "outputs": [],
   "source": [
    "digit = some_digit.reshape(28, 28)"
   ]
  },
  {
   "cell_type": "code",
   "execution_count": 37,
   "id": "c57d9d49-6d09-403d-90dc-4695c97c0648",
   "metadata": {},
   "outputs": [
    {
     "data": {
      "text/plain": [
       "<matplotlib.image.AxesImage at 0x19dd7d384d0>"
      ]
     },
     "execution_count": 37,
     "metadata": {},
     "output_type": "execute_result"
    },
    {
     "data": {
      "image/png": "[encoded data removed]",
      "text/plain": [
       "<Figure size 640x480 with 1 Axes>"
      ]
     },
     "metadata": {},
     "output_type": "display_data"
    }
   ],
   "source": [
    "plt.imshow(digit, cmap=\"binary\")"
   ]
  },
  {
   "cell_type": "code",
   "execution_count": null,
   "id": "9c809581-427d-4a02-8d88-5f3f30d70948",
   "metadata": {},
   "outputs": [],
   "source": []
  }
 ],
 "metadata": {
  "kernelspec": {
   "display_name": "Python 3 (ipykernel)",
   "language": "python",
   "name": "python3"
  },
  "language_info": {
   "codemirror_mode": {
    "name": "ipython",
    "version": 3
   },
   "file_extension": ".py",
   "mimetype": "text/x-python",
   "name": "python",
   "nbconvert_exporter": "python",
   "pygments_lexer": "ipython3",
   "version": "3.11.7"
  }
 },
 "nbformat": 4,
 "nbformat_minor": 5
}
