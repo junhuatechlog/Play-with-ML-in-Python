{
 "cells": [
  {
   "cell_type": "code",
   "execution_count": 1,
   "id": "b66731af-eba7-49f8-bf1f-796d03600d07",
   "metadata": {},
   "outputs": [],
   "source": [
    "import numpy as np\n",
    "import matplotlib.pyplot as plt\n",
    "import sys\n",
    "sys.path.append(r'C:\\\\N-20KEPC0Y7KFA-Data\\\\junhuawa\\\\Documents\\\\00-Play-with-ML-in-Python\\\\Jupyter')\n",
    "import playML"
   ]
  },
  {
   "cell_type": "code",
   "execution_count": 2,
   "id": "e012ef74-e8e5-4426-87c5-4e98166c34df",
   "metadata": {},
   "outputs": [],
   "source": [
    "from playML.LogisticRegression import LogisticRegression"
   ]
  },
  {
   "cell_type": "code",
   "execution_count": 3,
   "id": "da5b5a8a-6261-46b2-a81c-68975e5734e9",
   "metadata": {},
   "outputs": [],
   "source": [
    "log_reg = LogisticRegression()"
   ]
  },
  {
   "cell_type": "code",
   "execution_count": 4,
   "id": "db18f005-10d9-4f81-8808-2b18fddf423d",
   "metadata": {},
   "outputs": [
    {
     "data": {
      "text/plain": [
       "LogisticRegression()"
      ]
     },
     "execution_count": 4,
     "metadata": {},
     "output_type": "execute_result"
    }
   ],
   "source": [
    "log_reg"
   ]
  },
  {
   "cell_type": "code",
   "execution_count": 5,
   "id": "150058b7-432c-4f76-9fe0-31131c73d865",
   "metadata": {},
   "outputs": [],
   "source": [
    "from sklearn import datasets"
   ]
  },
  {
   "cell_type": "code",
   "execution_count": 6,
   "id": "fc46479b-ddfc-4a96-8064-efa7a36b649f",
   "metadata": {},
   "outputs": [],
   "source": [
    "iris = datasets.load_iris()"
   ]
  },
  {
   "cell_type": "code",
   "execution_count": 7,
   "id": "e142e759-fd64-47f0-ade2-79eb11b3bdef",
   "metadata": {},
   "outputs": [],
   "source": [
    "X = iris.data\n",
    "y = iris.target"
   ]
  },
  {
   "cell_type": "code",
   "execution_count": 8,
   "id": "233ee1e3-b3ea-4050-9a2a-95288eee8540",
   "metadata": {},
   "outputs": [],
   "source": [
    "X = X[y<2, :2]"
   ]
  },
  {
   "cell_type": "code",
   "execution_count": 9,
   "id": "b93e281d-e16d-438b-a32c-a47561c8b0b4",
   "metadata": {},
   "outputs": [],
   "source": [
    "y = y[y < 2]"
   ]
  },
  {
   "cell_type": "code",
   "execution_count": 10,
   "id": "cacc795f-910a-45bd-b14b-b6ec80b993e0",
   "metadata": {},
   "outputs": [
    {
     "data": {
      "text/plain": [
       "(100, 2)"
      ]
     },
     "execution_count": 10,
     "metadata": {},
     "output_type": "execute_result"
    }
   ],
   "source": [
    "X.shape"
   ]
  },
  {
   "cell_type": "code",
   "execution_count": 11,
   "id": "ed3e50d6-8da6-495e-87e3-a87a0c589778",
   "metadata": {
    "scrolled": true
   },
   "outputs": [
    {
     "data": {
      "text/plain": [
       "(100,)"
      ]
     },
     "execution_count": 11,
     "metadata": {},
     "output_type": "execute_result"
    }
   ],
   "source": [
    "y.shape"
   ]
  },
  {
   "cell_type": "code",
   "execution_count": 12,
   "id": "cca276a5-d12c-4f2f-89e3-af18aa973c7c",
   "metadata": {},
   "outputs": [
    {
     "data": {
      "text/plain": [
       "<matplotlib.collections.PathCollection at 0x264d3e26a10>"
      ]
     },
     "execution_count": 12,
     "metadata": {},
     "output_type": "execute_result"
    },
    {
     "data": {
      "image/png": "[encoded data removed]",
      "text/plain": [
       "<Figure size 640x480 with 1 Axes>"
      ]
     },
     "metadata": {},
     "output_type": "display_data"
    }
   ],
   "source": [
    "plt.scatter(X[y==0, 0], X[y==0, 1], color='r')\n",
    "plt.scatter(X[y==1, 0], X[y==1, 1], color='b')"
   ]
  },
  {
   "cell_type": "code",
   "execution_count": 13,
   "id": "2f1db713-1430-4b69-8cd9-fddb56875b64",
   "metadata": {},
   "outputs": [],
   "source": [
    "from sklearn.model_selection import train_test_split"
   ]
  },
  {
   "cell_type": "code",
   "execution_count": 34,
   "id": "98f88937-0de4-4afe-ad12-9c76619e7b9e",
   "metadata": {},
   "outputs": [],
   "source": [
    "X_train, X_test, y_train, y_test = train_test_split(X, y, random_state=666)"
   ]
  },
  {
   "cell_type": "code",
   "execution_count": 35,
   "id": "c0929a35-c4cf-4003-92aa-e094fa2b2615",
   "metadata": {},
   "outputs": [
    {
     "data": {
      "text/plain": [
       "(75, 2)"
      ]
     },
     "execution_count": 35,
     "metadata": {},
     "output_type": "execute_result"
    }
   ],
   "source": [
    "X_train.shape"
   ]
  },
  {
   "cell_type": "code",
   "execution_count": 36,
   "id": "ac506d70-86f6-4bd4-bb7d-080b388b7b01",
   "metadata": {},
   "outputs": [
    {
     "data": {
      "text/plain": [
       "LogisticRegression()"
      ]
     },
     "execution_count": 36,
     "metadata": {},
     "output_type": "execute_result"
    }
   ],
   "source": [
    "log_reg.fit(X_train, y_train)"
   ]
  },
  {
   "cell_type": "code",
   "execution_count": 37,
   "id": "759d2744-23bb-4a6f-9710-760ffd61a855",
   "metadata": {},
   "outputs": [],
   "source": [
    "y_predict = log_reg.predict_proba(X_test)"
   ]
  },
  {
   "cell_type": "code",
   "execution_count": 38,
   "id": "1e01ed8a-8e90-4aa4-a6c2-cb819270aa4f",
   "metadata": {},
   "outputs": [
    {
     "data": {
      "text/plain": [
       "array([0.93292947, 0.98717455, 0.15541379, 0.01786837, 0.03909442,\n",
       "       0.01972689, 0.05214631, 0.99683149, 0.98092348, 0.75469962,\n",
       "       0.0473811 , 0.00362352, 0.27122595, 0.03909442, 0.84902103,\n",
       "       0.80627393, 0.83574223, 0.33477608, 0.06921637, 0.21582553,\n",
       "       0.0240109 , 0.1836441 , 0.98092348, 0.98947619, 0.08342411])"
      ]
     },
     "execution_count": 38,
     "metadata": {},
     "output_type": "execute_result"
    }
   ],
   "source": [
    "y_predict"
   ]
  },
  {
   "cell_type": "code",
   "execution_count": 39,
   "id": "f08cf2c7-9925-4425-8f7b-ae76b968ec0f",
   "metadata": {},
   "outputs": [],
   "source": [
    "y_hat = log_reg.predict(X_test)"
   ]
  },
  {
   "cell_type": "code",
   "execution_count": 40,
   "id": "94e7efe7-2669-420e-bf25-d1b2b35520ed",
   "metadata": {},
   "outputs": [
    {
     "data": {
      "text/plain": [
       "array([1, 1, 0, 0, 0, 0, 0, 1, 1, 1, 0, 0, 0, 0, 1, 1, 1, 0, 0, 0, 0, 0,\n",
       "       1, 1, 0])"
      ]
     },
     "execution_count": 40,
     "metadata": {},
     "output_type": "execute_result"
    }
   ],
   "source": [
    "y_hat"
   ]
  },
  {
   "cell_type": "code",
   "execution_count": 41,
   "id": "69fe5a61-e52d-4ff6-90fd-450276b3a97b",
   "metadata": {},
   "outputs": [
    {
     "data": {
      "text/plain": [
       "array([1, 1, 0, 0, 0, 0, 0, 1, 1, 1, 0, 0, 0, 0, 1, 1, 1, 0, 0, 0, 0, 0,\n",
       "       1, 1, 0])"
      ]
     },
     "execution_count": 41,
     "metadata": {},
     "output_type": "execute_result"
    }
   ],
   "source": [
    "y_test"
   ]
  },
  {
   "cell_type": "code",
   "execution_count": 42,
   "id": "b957b900-1b9d-4c94-b86c-c9e1ffae9a41",
   "metadata": {},
   "outputs": [
    {
     "data": {
      "text/plain": [
       "array([ True,  True,  True,  True,  True,  True,  True,  True,  True,\n",
       "        True,  True,  True,  True,  True,  True,  True,  True,  True,\n",
       "        True,  True,  True,  True,  True,  True,  True])"
      ]
     },
     "execution_count": 42,
     "metadata": {},
     "output_type": "execute_result"
    }
   ],
   "source": [
    "y_hat == y_test"
   ]
  },
  {
   "cell_type": "code",
   "execution_count": 43,
   "id": "34a967ca-d5f4-44cc-b8a0-c299d80fbf5e",
   "metadata": {},
   "outputs": [
    {
     "data": {
      "text/plain": [
       "array([ 3.01749692, -5.03046934])"
      ]
     },
     "execution_count": 43,
     "metadata": {},
     "output_type": "execute_result"
    }
   ],
   "source": [
    "log_reg.coef_"
   ]
  },
  {
   "cell_type": "code",
   "execution_count": 44,
   "id": "e46793b2-5415-460e-8c69-515efe86d1b1",
   "metadata": {},
   "outputs": [
    {
     "data": {
      "text/plain": [
       "-0.6827383698993108"
      ]
     },
     "execution_count": 44,
     "metadata": {},
     "output_type": "execute_result"
    }
   ],
   "source": [
    "log_reg.intercept_"
   ]
  },
  {
   "cell_type": "code",
   "execution_count": 45,
   "id": "84378c6e-ba9a-4819-93be-f73baf72dd1d",
   "metadata": {},
   "outputs": [
    {
     "data": {
      "text/plain": [
       "array([-0.68273837,  3.01749692, -5.03046934])"
      ]
     },
     "execution_count": 45,
     "metadata": {},
     "output_type": "execute_result"
    }
   ],
   "source": [
    "log_reg._theta"
   ]
  },
  {
   "cell_type": "code",
   "execution_count": 46,
   "id": "2449160d-376d-43bb-8619-b462e766aefa",
   "metadata": {},
   "outputs": [],
   "source": [
    "theta0 = log_reg.intercept_\n",
    "theta1 = log_reg._theta[1]\n",
    "theta2 = log_reg._theta[2]"
   ]
  },
  {
   "cell_type": "code",
   "execution_count": 47,
   "id": "665de253-440e-4d95-9dd2-ec5918dc2769",
   "metadata": {},
   "outputs": [],
   "source": [
    "x2 = (-theta0 - theta1 * X[:, 0])/theta2"
   ]
  },
  {
   "cell_type": "code",
   "execution_count": 48,
   "id": "70f4aeff-6ed1-4e76-b1bf-31de3fc0cf09",
   "metadata": {},
   "outputs": [
    {
     "data": {
      "text/plain": [
       "array([2.92348386, 2.80351505, 2.68354625, 2.62356185, 2.86349945,\n",
       "       3.10343706, 2.62356185, 2.86349945, 2.50359305, 2.80351505,\n",
       "       3.10343706, 2.74353065, 2.74353065, 2.44360865, 3.34337466,\n",
       "       3.28339026, 3.10343706, 2.92348386, 3.28339026, 2.92348386,\n",
       "       3.10343706, 2.92348386, 2.62356185, 2.92348386, 2.74353065,\n",
       "       2.86349945, 2.86349945, 2.98346826, 2.98346826, 2.68354625,\n",
       "       2.74353065, 3.10343706, 2.98346826, 3.16342146, 2.80351505,\n",
       "       2.86349945, 3.16342146, 2.80351505, 2.50359305, 2.92348386,\n",
       "       2.86349945, 2.56357745, 2.50359305, 2.86349945, 2.92348386,\n",
       "       2.74353065, 2.92348386, 2.62356185, 3.04345266, 2.86349945,\n",
       "       4.06318748, 3.70328107, 4.00320308, 3.16342146, 3.76326547,\n",
       "       3.28339026, 3.64329667, 2.80351505, 3.82324988, 2.98346826,\n",
       "       2.86349945, 3.40335907, 3.46334347, 3.52332787, 3.22340586,\n",
       "       3.88323428, 3.22340586, 3.34337466, 3.58331227, 3.22340586,\n",
       "       3.40335907, 3.52332787, 3.64329667, 3.52332787, 3.70328107,\n",
       "       3.82324988, 3.94321868, 3.88323428, 3.46334347, 3.28339026,\n",
       "       3.16342146, 3.16342146, 3.34337466, 3.46334347, 3.10343706,\n",
       "       3.46334347, 3.88323428, 3.64329667, 3.22340586, 3.16342146,\n",
       "       3.16342146, 3.52332787, 3.34337466, 2.86349945, 3.22340586,\n",
       "       3.28339026, 3.28339026, 3.58331227, 2.92348386, 3.28339026])"
      ]
     },
     "execution_count": 48,
     "metadata": {},
     "output_type": "execute_result"
    }
   ],
   "source": [
    "x2"
   ]
  },
  {
   "cell_type": "code",
   "execution_count": 49,
   "id": "3ceb7aaa-26d0-4a6d-bcec-e93fde187223",
   "metadata": {},
   "outputs": [
    {
     "data": {
      "text/plain": [
       "[<matplotlib.lines.Line2D at 0x264d65af510>]"
      ]
     },
     "execution_count": 49,
     "metadata": {},
     "output_type": "execute_result"
    },
    {
     "data": {
      "image/png": "[encoded data removed]",
      "text/plain": [
       "<Figure size 640x480 with 1 Axes>"
      ]
     },
     "metadata": {},
     "output_type": "display_data"
    }
   ],
   "source": [
    "plt.scatter(X[y==0, 0], X[y==0, 1], color='r')\n",
    "plt.scatter(X[y==1, 0], X[y==1, 1], color='b')\n",
    "plt.plot(X[:, 0], x2)"
   ]
  },
  {
   "cell_type": "code",
   "execution_count": 50,
   "id": "25c2009e-1fd2-4e13-86e1-e73e339ee66e",
   "metadata": {},
   "outputs": [
    {
     "data": {
      "text/plain": [
       "[<matplotlib.lines.Line2D at 0x264d47797d0>]"
      ]
     },
     "execution_count": 50,
     "metadata": {},
     "output_type": "execute_result"
    },
    {
     "data": {
      "image/png": "[encoded data removed]",
      "text/plain": [
       "<Figure size 640x480 with 1 Axes>"
      ]
     },
     "metadata": {},
     "output_type": "display_data"
    }
   ],
   "source": [
    "plt.scatter(X_test[y_test==0, 0], X_test[y_test==0, 1], color='r')\n",
    "plt.scatter(X_test[y_test==1, 0], X_test[y_test==1, 1], color='b')\n",
    "plt.plot(X[:, 0], x2)"
   ]
  },
  {
   "cell_type": "code",
   "execution_count": null,
   "id": "63c269fc-4d4d-4fb1-9086-e2cf55fbe30f",
   "metadata": {},
   "outputs": [],
   "source": []
  },
  {
   "cell_type": "code",
   "execution_count": null,
   "id": "d1db6375-6e61-4e8e-a7fd-81787cc19fb8",
   "metadata": {},
   "outputs": [],
   "source": []
  }
 ],
 "metadata": {
  "kernelspec": {
   "display_name": "Python 3 (ipykernel)",
   "language": "python",
   "name": "python3"
  },
  "language_info": {
   "codemirror_mode": {
    "name": "ipython",
    "version": 3
   },
   "file_extension": ".py",
   "mimetype": "text/x-python",
   "name": "python",
   "nbconvert_exporter": "python",
   "pygments_lexer": "ipython3",
   "version": "3.11.7"
  }
 },
 "nbformat": 4,
 "nbformat_minor": 5
}
